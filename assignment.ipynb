{
 "cells": [
  {
   "cell_type": "code",
   "execution_count": 18,
   "metadata": {
    "deletable": false,
    "editable": false,
    "init_cell": true,
    "tags": []
   },
   "outputs": [
    {
     "name": "stdout",
     "output_type": "stream",
     "text": [
      "The autoreload extension is already loaded. To reload it, use:\n",
      "  %reload_ext autoreload\n"
     ]
    }
   ],
   "source": [
    "# Please execute/shift-return this cell everytime you run the notebook.  Don't edit it. \n",
    "%load_ext autoreload\n",
    "%autoreload 2\n",
    "from notebook import * "
   ]
  },
  {
   "cell_type": "markdown",
   "metadata": {
    "cs203.is_response": true,
    "deletable": false,
    "editable": true
   },
   "source": [
    "<div class=\"namebox\">    \n",
    "Double Click to edit and enter your\n",
    "\n",
    "1.  Name\n",
    "2.  PID\n",
    "3.  @ucr.edu email address\n",
    "    \n",
    "</div>"
   ]
  },
  {
   "cell_type": "markdown",
   "metadata": {
    "deletable": false,
    "editable": false,
    "tags": []
   },
   "source": [
    "<div style=\" font-size: 300% !important;\n",
    "    margin-top: 1.5em;\n",
    "    margin-bottom: 10px;\n",
    "    font-weight: bold;\n",
    "    line-height: 1.0;\n",
    "    text-align:center;\">\n",
    "Assignment 1: The Performance Equation\n",
    "</div>"
   ]
  },
  {
   "cell_type": "markdown",
   "metadata": {
    "deletable": false,
    "editable": false,
    "tags": []
   },
   "source": [
    "**Welcome to the first assignment of CS203!**\n",
    "\n",
    "The main goals of this assignment are:\n",
    "\n",
    "1.  Gain experience with the performance equation\n",
    "2.  Collect a list of **Interesting Questions** that you probably cannot answer now, but will be able to by the end of the course.\n",
    "\n",
    "This assignment will be completed on **your own**. \n",
    "\n",
    "Check Gradescope for due date(s)."
   ]
  },
  {
   "cell_type": "markdown",
   "metadata": {
    "deletable": false,
    "editable": false,
    "tags": []
   },
   "source": [
    "# Browser Compatibility"
   ]
  },
  {
   "cell_type": "markdown",
   "metadata": {
    "deletable": false,
    "editable": false,
    "tags": []
   },
   "source": [
    "We are still working out some bugs in some browsers.  Here's the current status:\n",
    "\n",
    "1.  Chrome -- well tested.  Preferred option.\n",
    "2.  Firefox -- seems ok, but not thoroughly tested.\n",
    "3.  Edge -- seems ok, but not thoroughly tested.\n",
    "4.  Safari -- not supported at the moment.\n",
    "5.  Internet Explorer -- not supported at the moment.\n",
    "\n",
    "At the moment, the authentication step must be done in Chrome."
   ]
  },
  {
   "attachments": {
    "image.png": {
     "image/png": "[encoded data removed]"
    }
   },
   "cell_type": "markdown",
   "metadata": {
    "deletable": false,
    "editable": false,
    "tags": []
   },
   "source": [
    "# About Assignments In This Class\n",
    "\n",
    "_This section is the same in all the assignments.  It's repeated here for your reference._\n",
    "\n",
    "CS203 assignments are designed in a way to **learn by doing**.  This means you _must_ **do**.  WE have built these assignments as Jupyter notebooks so that the \"doing\" is as easy and seamless as possible. (Largely contributed by Steven Swanson at UCSD https://cseweb.ucr.edu/~swanson/)\n",
    "\n",
    "In this assignment, what you'll do is answer questions about how a program will run and then compare what really happened to your predictions.  Engaging with this process is how you'll learn.  The questions that the assignment asks are there for several purposes:\n",
    "\n",
    "1.  To draw your attention to specific aspects of an experiment or of some results.\n",
    "2.  To push you to engage with the material more deeply by thinking about it.\n",
    "3.  To make you commit to a prediction so you can wonder why your prediction was wrong or be proud that you got it right.\n",
    "4.  To provide some practice with skills/concepts you're learning in this course.\n",
    "5.  To test your knowledge about what you've learned.\n",
    "\n",
    "You'll notice that there are three kinds of questions: \"Correctness\", \"Challenging\", and \"Completeness\". \n",
    "\n",
    "<div class=\"alert alert-block alert-success\">\n",
    "\n",
    "**Correctness**: You need to answer these questions with correct answers and supporting evidences (e.g., explainations, formula, equations) to get credits.\n",
    "\n",
    "</div>\n",
    "<div class=\"alert alert-block alert-warning\">\n",
    "\n",
    "**Challenging**: These questions are also graded by correctness, but they account for 20% of the grades in this assignment in total as they're more difficult or repetitive. \n",
    "\n",
    "</div>\n",
    "\n",
    "<div class=\"alert alert-block alert-info\">\n",
    "\n",
    "**Completeness**: You need to complete all these questions to receive credits. We do not grade these questions on correctness, but you need to show significant efforts regarding your process of deriving the answers.\n",
    "\n",
    "</div>\n",
    "\n",
    "In other words, \n",
    "- If you want to get full credits, you need to answer all **Correctness** and **Challenging** correctly, and finish all **Completeness** questions.\n",
    "- If you want to get 80% of the credits, you still need to answer all **Correctness** correctly and finish **Completeness** questions.\n",
    "\n",
    "Many of our questions must answer based on prior experimental results. If you skip any prior cell, you may get a parsing error in questions from our autograder.\n",
    "\n",
    "Some of the \"Completeness\" problems include a solution that will be hidden until you click the triangle below the question.  To get the most from them, try them on your own first.\n",
    "\n",
    "Many of the \"Completeness\" questions ask you to make predictions about the outcome of an experiment and write down those predictions.  To maximize your learning, think carefully about your prediction and commit to it.  **You will never be penalized for making an incorrect prediction.**\n",
    "\n",
    "You are free to discuss questions with your classmatesm, but you must complete all questions on your own.\n",
    "\n",
    "If you have questions about any kind of question, please ask during office hours or during class.\n",
    "\n",
    "\n",
    "## How To Succeed On the assignments\n",
    "\n",
    "Here are some simple tips that will help you do well on this assignment:\n",
    "\n",
    "1.  Read/skim through the entire assignment and review the lecture/textbook. \n",
    "2.  Start early.  Getting answers on discord can take time.  So think through the questions (and your questions about them) carefully.\n",
    "    1. Go through the assignment once (several days before the deadline), do the parts that are easy/make sense\n",
    "    2. Ask questions/think about the rest\n",
    "    3. Come back and do the rest.\n",
    "3.  Start early.  The gradescope server/cluster can be busy and slow near deadlines.  **\"The gradescope server/cluster was slow the night of the deadline\"** is **not an excuse** for not getting the assignment done and it is not justification for asking for an extension.\n",
    "4.  Follow the guidelines below for asking answerable questions on discord.\n",
    "\n",
    "You may think to yourself: \"If I start early enough to account for all that, I'd have to start right after the assignment was announced!\"  Good thought!\n",
    "\n",
    "![image.png](attachment:image.png)\n",
    "\n",
    "<div class=\"alert alert-block alert-danger\">\n",
    "\n",
    "**The Cluster Will Get Slow** and our machines will get crowded and slow _before every deadline_.  This is completely predictable.  The cluster can also get crowded due to deadlines in other courses.  You need to start early so you can avoid/work around these slowdowns.  Unless there's some kind of complete outage, we will not grant extensions because the servers are crowded.\n",
    "    \n",
    "</div>\n",
    "\n",
    "## Getting Help\n",
    "\n",
    "You might run into trouble while doing this assignment.  Here's how to get help:\n",
    "\n",
    "1.  Re-read the instructions and make sure you've followed them.\n",
    "2.  Try saving and reloading the notebook.\n",
    "3.  If you get a `FileNotFoundError` make sure you've run all the code cells above your current point in the assignment.\n",
    "4.  If you get a message like `render_code is not defined`, please make sure you've run all the code cells above your current point in the assignment.\n",
    "5.  If you get an exception or stack dump, check that you didn't accidentally modify the contents of one of the python cells.\n",
    "6.  If all else fails, post a question to discord or visit an office hour.\n",
    "\n",
    "## Posting Answerable Questions on Discord\n",
    "\n",
    "If you want useful answers on discord, you need to provide information that is specific enough for us to provide a useful answer.  Here's what we need:\n",
    "\n",
    "1.  Which part of which assignment are you working on (use the section numbers)?\n",
    "2.  Which problem (copy and paste the _text_ of the question along with the number).\n",
    "\n",
    "If it's question about instructions:\n",
    "\n",
    "1.  Try to be as specific as you can about what is confusing or what you don't understand (e.g., \"I'm not sure if I should do _X_ or _Y_.\")\n",
    "\n",
    "If it's a question about an error while running code, then we need:\n",
    "\n",
    "1.  If you've committed anything, your github repo url.\n",
    "2.  If you've submitted a job with `cs203` you _must_ provide the job id.  With the id, we can figure out just about anything about your job.  Without it, we know nothing.\n",
    "3.  The _entire_ output you received.  There's no limit on how long an discord post can be.  Give us all the information, not just the last few lines.  We like to scroll!\n",
    "\n",
    "For all of the above **paste the text** into the discord question.  Please **do not provide screen captures**.  The course staff refuses to type in job ids found in screen shots.\n",
    "\n",
    "\n",
    "<div class=\"alert alert-block alert-danger\">\n",
    "\n",
    "**We Can't Answer Unanswerable Questions** If you don't follow these guidelines (especially about the github repo and the job id), we will probably not be able to answer your question on discord.  We will archive it and ask you to re-post your question with the information we need.\n",
    "    \n",
    "**We Can't Answer Questions 24/7** Please respect the fact that the TAs/instructors are real human beings and we have limitations and other job commitments. Please give people at least 24 hours to answer a question. In other words, you should not expect a question 24 hours before the deadline to be answered in time.\n",
    "    \n",
    "</div>\n",
    "\n",
    "## Keeping Your assignment Up-to-Date\n",
    "\n",
    "Occasionally, there will be changes made to the base repository after the\n",
    "lab is released.  This may include bug fixes and updates to this document.  We'll post on discord when an update is available.\n",
    "\n",
    "In those cases, you can use the following commands to pull the changes from upstream and merge them into your code.  You'll need to do this at a shell.  It won't work properly in the notebook.  Save your notebook in the browser first.\n",
    "\n",
    "\n",
    "```\n",
    "cd <your directory for this assignment>git remote add upstream $(cat .starter_repo)  # You need to do this once each time you checkout a new assignment. It will fail \n",
    "                                              # harmlessly if you run it more than once.\n",
    "cp assignment.ipynb assignment.backup.ipynb                 # Backup your work.\n",
    "git commit -am \"My progress so far.\"          # commit your work.\n",
    "git pull upstream main --allow-unrelated-histories -X theirs # pull the updates\n",
    "```\n",
    "\n",
    "Or you can use the script we provide:"
   ]
  },
  {
   "cell_type": "code",
   "execution_count": null,
   "metadata": {
    "deletable": false,
    "editable": false,
    "tags": []
   },
   "outputs": [],
   "source": [
    "# Be sure to click save to preseve your progress before updating\n",
    "! ./fix-repo\n",
    "! ./pull-updates"
   ]
  },
  {
   "cell_type": "markdown",
   "metadata": {
    "deletable": false,
    "editable": false,
    "tags": []
   },
   "source": [
    "Then, reload this page in your browser."
   ]
  },
  {
   "cell_type": "markdown",
   "metadata": {
    "deletable": false,
    "editable": false,
    "tags": []
   },
   "source": [
    "## How To Use This Document\n",
    "\n",
    "You will use Jupyter Notebook to complete this assignment.  You should be able to do much of this assignment without leaving Jupyter Notebook.  The main exception will be some of the programming chanllenges.  The instructions will make it clear when you should use the terminal.\n",
    "\n",
    "### Running Code\n",
    "\n",
    "Jupyter Notebooks are made up of \"cells\".  Some have Markdown-formatted text in them (like this one).  Some have Python code (like the one below).\n",
    "\n",
    "For code cells, you press `shift-return` to execute the code.  Try it below:"
   ]
  },
  {
   "cell_type": "code",
   "execution_count": 4,
   "metadata": {
    "deletable": false,
    "editable": false,
    "tags": []
   },
   "outputs": [
    {
     "name": "stdout",
     "output_type": "stream",
     "text": [
      "I'm in python\n"
     ]
    }
   ],
   "source": [
    "print(\"I'm in python\")"
   ]
  },
  {
   "cell_type": "markdown",
   "metadata": {
    "deletable": false,
    "editable": false,
    "tags": []
   },
   "source": [
    "Code cells can also execute shell commands using the `!` operator.  Try it below:"
   ]
  },
  {
   "cell_type": "code",
   "execution_count": 5,
   "metadata": {
    "deletable": false,
    "editable": false,
    "tags": []
   },
   "outputs": [
    {
     "name": "stdout",
     "output_type": "stream",
     "text": [
      "I'm in a shell\n"
     ]
    }
   ],
   "source": [
    "!echo \"I'm in a shell\""
   ]
  },
  {
   "cell_type": "markdown",
   "metadata": {
    "deletable": false,
    "editable": false,
    "tags": []
   },
   "source": [
    "### Telling What The Notebook is Doing\n",
    "\n",
    "The notebook will only run one cell at a time, so if you press `shift-return` several times, the cells will wait for one another.  You can tell that a cell is waiting if it there's a `*` in the `[]` to the left the cell:\n",
    "\n",
    "![Cell is running!](images/running.png)\n",
    "\n",
    "\n",
    "You'll can also tell _where_ the notebook is executing by looking at the table of contents on the left.  The section with the currently-executing cell will have a blue strip in the front.\n",
    "\n",
    "![We're here](images/content.png)\n",
    "\n",
    "### What to Do Jupyter Notebook It Gets Stuck\n",
    "\n",
    "First, check if it's actually stuck: Some of the cells take a while, but they will usually provide some visual sign of progress.  If _nothing_ is happening for more than 10 seconds, it's probably stuck.\n",
    "\n",
    "To get it unstuck, you stop execution of the current cell with the \"interrupt button\":\n",
    "\n",
    "![Stop](images/stop.png)\n",
    "\n",
    "You can also restart the underlying python instance (i.e., the confusingly-named \"kernel\" which is not the same thing as the operating system kernel) with the restart button:\n",
    "\n",
    "![reload](images/reload.png)\n",
    "\n",
    "Once you do this, all the variables defined by earlier cells are gone, so you may get some errors.  You may need to re-run the cells in the current section to get things to work again.\n",
    "\n",
    "You can also reloading the web page.  That will leave Python kernel intact, but it can help with some problems."
   ]
  },
  {
   "cell_type": "markdown",
   "metadata": {
    "deletable": false,
    "editable": false,
    "tags": []
   },
   "source": [
    "### The Embedded Code\n",
    "\n",
    "The code embedded in the assignment falls into two categories:\n",
    "\n",
    "1.  Code you need to edit and understand.\n",
    "2.  Code that you do not need to edit or understand -- it's just there to display something for you.\n",
    "\n",
    "For code in the first category, the assignment will make it clear that you need to study, modify, and/or run the code.  If we don't explicitly ask you to do something, you don't need to.\n",
    "\n",
    "Most of the code in the second category is for drawing graphs.  You can just run it with shift-return to the see the results.  If you are curious, it's mostly written with `Pandas` and `matplotlib`. The code is all in `notebook.py`.   These cells should be un-editable.  However, if you want to experiment with them, you can copy _the contents_ of the cell into a new cell and do whatever you want (If you copy the cell, the copy will also be uneditable).\n",
    "\n",
    "<div class=\"alert alert-block alert-danger\">\n",
    "\n",
    "**Most Cells are Immutable** Many of the cells of this notebook are uneditable. The only ones you should edit are some of the code cells and the text cells with questions in them.\n",
    "</div>"
   ]
  },
  {
   "cell_type": "markdown",
   "metadata": {
    "deletable": false,
    "editable": false,
    "tags": []
   },
   "source": [
    "### Answering Questions\n",
    "\n",
    "Throughout this document, you'll see some questions (like the one below).  You can double click on them to edit them and fill in your answer.  Try not to mess up the formatting (so it's easy for us to grade), but at least make sure your answer shows up clearly.  When you are done editing, you can `shift-return` to make it pretty again.\n",
    "\n",
    "A few tips, pointers, and caveats for answering questions:\n",
    "\n",
    "1. The answers are all in [github-flavored markdown](https://guides.github.com/features/mastering-markdown/) with some html sprinkled in.  Leave the html alone.\n",
    "2. Many answers require you to fill in a table, and many of the `|` characters will be missing.  You'll need to add them back.\n",
    "3. The HTML needs to start at the beginning of a line.  If there are spaces before a tag, it won't render properly.  If you accidentally add white space at the beginning of a line with an html tag on it, you'll need to fix it.\n",
    "4. Text answers also need to start at the beginning of a line, otherwise they will be rendered as code.\n",
    "5. Press `shift-return` or `option-return` to render the cell and make sure it looks good.\n",
    "6. There needs to be a blank line between html tags and markdown.  Otherwise, the markdown formatting will not appear correctly.\n",
    "7. Many of our questions must answer based on prior experimental results. If you skip any prior cell, you may get a parsing error in questions from our autograder.\n",
    "\n",
    "\n",
    "You'll notice that there are three kinds of questions: \"Correctness\", \"Completeness\", and \"Challenging\". \n",
    "\n",
    "- Correctness: You need to answer these questions with correct answers and supporting evidences (e.g., explainations, formula, equations) to get credits.\n",
    "\n",
    "- Challenging: These questions are also graded by correctness, but they account for 20% of the grades in this assignment in total as they're more difficult or repetitive.\n",
    "\n",
    "- Completeness: You need to complete all these questions to receive credits. We do not grade these questions on correctness, but you need to show significant efforts regarding your process of deriving the answers.\n",
    "\n",
    "### Regarding Our Autograder\n",
    "\n",
    "In this class, we introduced the autograder on Gradescope. However, please be aware the purpose of autograder is to replace the TA and potentially give you early feedback of your assignment if you submit early. The autograder is not intended to give you a short-cut of receiving full credits in assignments. Here are some disclaimers about our autograders and tips regarding how to compose good answers.\n",
    "\n",
    "1. Please provide **detailed** explainations and processes, not just the answer. Please consider the autograder as a real TA/professor. We want to see how you get an answer, not just the answer itself.\n",
    "2. Please use the **precise** terminology/wording as we teach/use in the class/assignment. Being precise is very important in communications and collaborative environments.  \n",
    "3. Please use the **exact** numbers from your measurements and please don't round your computation result if appropriate. For many questions that ask you to evaluate the answers using the real performance counter results, the autograder will parse some prior cells and grade your answers based on the experimental result. The autograder cannot correctly identify if you really use those results if you round your numbers from the output of the performance numbers.\n",
    "4. Please have the **right expectations** of the response from the autograder. As a normal TA/instructor, the autograder's response is not to tell you how to get a correct answer, but only provide a general feedback regarding where/what you might get wrong. If you really need personalized help or clarification regarding the concept of questions, please consider visiting an office hour or asking on discord at an appropriate timeslot."
   ]
  },
  {
   "cell_type": "markdown",
   "metadata": {
    "deletable": false,
    "editable": false,
    "tags": []
   },
   "source": [
    "Give it a try:"
   ]
  },
  {
   "cell_type": "code",
   "execution_count": 6,
   "metadata": {
    "cs203.is_response": true,
    "cs203.points": 1,
    "cs203.question_type": "completeness",
    "editable": false,
    "solution2": "hidden",
    "solution2_first": true,
    "tags": []
   },
   "outputs": [
    {
     "name": "stdout",
     "output_type": "stream",
     "text": [
      "Fri 20 Sep 2024 07:06:08 PM UTC\n"
     ]
    }
   ],
   "source": [
    "! date"
   ]
  },
  {
   "cell_type": "markdown",
   "metadata": {
    "cs203.is_response": true,
    "cs203.points": 1,
    "cs203.question_type": "completeness",
    "editable": false,
    "solution2": "hidden",
    "solution2_first": true,
    "tags": []
   },
   "source": [
    "<div class=\"alert alert-block alert-success\">\n",
    "\n",
    "<div class=\"question-text\">\n",
    "\n",
    "### Question 0 (Correctness)    \n",
    "    \n",
    "What will you do with your Jupyter Notebook to turn it in (Delete _all_ incorrect answers)? Then fill in the table.  Fix the formatting of the last line and the closing tag.\n",
    "</div>\n",
    "</div>"
   ]
  },
  {
   "cell_type": "markdown",
   "metadata": {
    "cs203.is_response": true,
    "cs203.points": 1,
    "cs203.question_type": "completeness",
    "editable": true,
    "solution2": "hidden",
    "solution2_first": true,
    "tags": []
   },
   "source": [
    "<div class=\"alert alert-block alert-success\">\n",
    "<div class=\"answer\">\n",
    "\n",
    "1.  Print it out on paper and slide it under the professor's door.\n",
    "2.  Follow the directions at the end of the assignment to produce a pdf\n",
    "3.  Read it aloud to a TA during office hours\n",
    "4.  Submit via gradescope.\n",
    "    \n",
    "| Random Fact         | Value | \n",
    "|---------------------|-------|\n",
    "| Your favorite color |      \n",
    "| Favorite food on campus | \n",
    "| What's the exact timestamp measured from the previous code cell output? |\n",
    "    \n",
    "    This answer is formatted poorly.\n",
    "    </div>\n",
    "</div>\n",
    "</div>"
   ]
  },
  {
   "cell_type": "markdown",
   "metadata": {
    "deletable": false,
    "editable": false,
    "solution2": "hidden",
    "tags": []
   },
   "source": [
    "You may click the triangle below to see the solution we provided for this question.\n",
    "\n",
    "\n",
    "<details>\n",
    "    <summary>Solution</summary>\n",
    "\n",
    "This is a solution to the question above. The solutions I give will be much more complete and detailed than what you need to provide for your answers to questions.\n",
    "    \n",
    "In this case, let's analyze each possible answer:\n",
    "    \n",
    "1.  ~Since the professor is a CS professor, he doesn't know how to deal with paper and the TAs do most of the grading, so this a poor choice.~\n",
    "2.  \"Following the directions\" is always a good idea.\n",
    "3.  ~There are  about 300 of you enrolled.  The poor TAs would die of exhaustion and boredom.~\n",
    "4.  Yes!\n",
    "\n",
    "So you should have deleted 1 and 3.\n",
    "\n",
    "For the table, you can enter whatever you want for the answers, but note that some of the `|`s are missing.  It renders fine in question, but you'll need to add the `|`s back to fill out the table. When you fill out the last time, please put the **exact** string from the output of the code cell before Question 0. \n",
    "    \n",
    "For the last line, there are spaces before the text, so it gets rendered in a fixed-width font.  You should remove the leading spaces, so it looks like this:\n",
    "    \n",
    "This is formatted ~poorly~ beautifully.\n",
    "\n",
    "Likewise, remove the leading space before the `<div>`.\n",
    "    </details>"
   ]
  },
  {
   "cell_type": "markdown",
   "metadata": {
    "cs203.is_response": true,
    "cs203.points": 1,
    "cs203.question_type": "completeness",
    "editable": true,
    "solution2": "hidden",
    "solution2_first": true,
    "tags": []
   },
   "source": [
    "<div class=\"alert alert-block alert-success\">\n",
    "\n",
    "<div class=\"question-text\">\n",
    "\n",
    "### Question 0.5 (Correctness)    \n",
    "    \n",
    "Jupyter notebook also supports LaTeX equations. In CS203, we **strongly** encourage you to use LaTeX syntax to express your formula and equations by putting the syntax within two `$$`s. For example,  \n",
    "\n",
    "$$ TFLOPS = \\frac{\\#\\ of\\ floating\\ point\\ instructions\\times10^{-12}}{Exection\\ Time} $$\n",
    "    \n",
    "You may double click this cell to see how this equation plays out. Now, it's your turn to try express Amdahl's law in the same format as \n",
    "    ![image](amdahlslaw.png)\n",
    "</div>\n",
    "</div>"
   ]
  },
  {
   "cell_type": "markdown",
   "metadata": {
    "cs203.is_response": true,
    "cs203.points": 1,
    "cs203.question_type": "completeness",
    "editable": true,
    "solution2": "hidden",
    "solution2_first": true,
    "tags": []
   },
   "source": [
    "<div class=\"alert alert-block alert-success\">\n",
    "<div class=\"answer\">\n",
    "\n",
    "Please put your latex equation expresses Amdahl's law here.\n",
    "</div>\n",
    "</div>"
   ]
  },
  {
   "cell_type": "markdown",
   "metadata": {
    "deletable": false,
    "editable": false,
    "solution2": "hidden",
    "tags": []
   },
   "source": [
    "<details>\n",
    "    <summary>Solution</summary>\n",
    "\n",
    "Similar to the formula of the TFLOPS, we can use `\\frac` to express the two fractions in the formula. \n",
    "\n",
    "LaTeX also supports upper baseline or lower baseline through `^` and `_`. If you have more than one characters that you need to change the baseline, you should use `{` and `}` before and after your strings. For example, we can express the summation function as $$\\Sigma^n_{i=1}$$ (double click to see it)\n",
    "</details>"
   ]
  },
  {
   "cell_type": "markdown",
   "metadata": {
    "deletable": false,
    "editable": false,
    "tags": []
   },
   "source": [
    "# Academic Integrity Agreement"
   ]
  },
  {
   "cell_type": "markdown",
   "metadata": {
    "deletable": false,
    "editable": false,
    "tags": []
   },
   "source": [
    "To continue in the class, you need to agree to the following:\n",
    "\n",
    "At UCSD, academic integrity[1] means that you have the courage, even when\n",
    "it is difficult, to only submit academic work that is honest,\n",
    "responsible, respectful, fair, and trustworthy. When you excel with\n",
    "integrity in computer science, it means that you:\n",
    "\n",
    "\n",
    "**Honest** submit work that is a truthful demonstration of your\n",
    "            knowledge and abilities (rather than the knowledge and\n",
    "            abilities of another)\n",
    "\n",
    "**Responsible** manage your time so that you are not pressured to\n",
    "            complete an assignment at the last minute\n",
    "\n",
    "**Respectful** acknowledge the contributions of others to your work by\n",
    "            citing them when ve used their words or ideas (e.g., after\n",
    "            I've spoken to classmates or after I've used portions of\n",
    "            a code written by another if permitted)\n",
    "\n",
    "**Fair** complete your academic work according to stated standards and\n",
    "            expectations even when it takes longer or re struggling\n",
    "\n",
    "**Trustworthy** can be trusted to be honest, responsible, respectful,\n",
    "            and fair even when no one is watching you.\n",
    "\n",
    "\n",
    "When you act contrary to these values, you are cheating. Cheating\n",
    "undermines trust between students and professors, the value of the\n",
    "UCSD degree, and your learning/development of skills.\n",
    "\n",
    "While we can't list every behavior that would be cheating, we can give\n",
    "you some illustrative examples like the following:\n",
    "\n",
    "* Submitting any source code written by another person or copied from\n",
    "  another person, submitting homework answers which were produced by\n",
    "  another student.\n",
    "\n",
    "* Submitting code/homework you have previously submitted to another\n",
    "  course for credit without first obtaining permission from the \n",
    "  instructor. The same restriction holds for publicly available\n",
    "  code/homework solutions that you haven't written.  Taking notes\n",
    "  taken during any discussions with classmates about an assignment is\n",
    "  prohibited.\n",
    "\n",
    "* Using words or text written by someone else without citing text\n",
    "  appropriately. Every figure or sentence fragment must be\n",
    "  appropriately decorated with quotation marks or indention to\n",
    "  indicate very clearly that someone else wrote the text. In addition,\n",
    "  the passage must be labeled with a citation or citation number which\n",
    "  refers to a footnote or bibliographic entry. Citing a paper once is\n",
    "  not enough. Remember: citations should be used to illuminate a\n",
    "  viewpoint which you hold. They are not a substitute for expressing\n",
    "  your own ideas in your own words.\n",
    "\n",
    "* Submitting any portion(s) of an assignment you have previously\n",
    "  submitted for credit in another course.\n",
    "\n",
    "* Copying from a neighbor during an exam or using an unauthorized aid\n",
    "  to help you on your exam.\n",
    "\n",
    "* Altering a graded exam or assignment and resubmitting it for regrade\n",
    "\n",
    "* Allowing someone else to complete an assignment or exam for you, or\n",
    "  allowing them to pretend to be you in class (e.g., by signing an\n",
    "  attendance form or clicking for you).\n",
    "\n",
    "* Making available to others source code, documentation, or notes\n",
    "  useful for completing an assignment. You should neither produce,\n",
    "  procure, nor accept such material. This includes students in\n",
    "  current, past, and future offerings of the course, and applies to\n",
    "  electronic transmissions including email, web pages, ftp, and so on,\n",
    "  as well as hard copy such as source code listings.\n",
    "\n",
    "* Possessing (at any time) source code, data, or answers to homeworks or \n",
    " assignment questions created by another student.  Having had \n",
    "  any of these items in your possession (e.g., in your directory on the \n",
    "  campus servers or on your personal computer) at any time, constitutes \n",
    "  cheating.  You should never accept these materials from anyone for any \n",
    "  reason.\n",
    "  \n",
    "* Running other students' code from your account or allowing another student submit code using your credentials.\n",
    "\n",
    "If the behavior you are considering isn't listed here, don't assume that it is\n",
    "allowed.  Rather, you should always do independent work unless told otherwise. And\n",
    "before completing your academic work in a certain way, you should ask\n",
    "is it honest, respectful, responsible, fair, and trustworthy.  You can also ask yourself \"Would\n",
    "I be okay if my methods were exposed to the TA, professors, and fellow students?\" If the\n",
    "answer is no, you shouldn't do it.\n",
    "\n",
    "**If you have any questions about what is and isn't cheating, be sure\n",
    "  to discuss them with the instructor.**\n",
    "\n",
    "Any student who cheats, thereby undermining integrity, will be\n",
    "reported to the Academic Integrity Office.  Students who cheat face\n",
    "various disciplinary sanctions as well as academic penalty imposed by\n",
    "the instructor in the course.  _Academic penalties include, but are\n",
    "not limited to, receiving a grade of 0 for the assignment or test in\n",
    "question, and receiving an 'F' for the course._\n",
    "\n",
    "[1] For more information on academic integrity, including how you can\n",
    "excel with integrity, as well as information on sanctioning guidelines\n",
    "for cheating, visit the Academic Integrity Office website at:\n",
    "http://academicintegrity.ucr.edu"
   ]
  },
  {
   "cell_type": "markdown",
   "metadata": {
    "cs203.is_response": true,
    "cs203.points": 1,
    "cs203.question_type": "correctness",
    "deletable": false,
    "editable": false,
    "tags": []
   },
   "source": [
    "<div class=\"alert alert-block alert-success\">\n",
    "\n",
    "<div class=\"question-text\"> \n",
    " \n",
    "### Question 1 (Correctness): Please affirm your adherence to this agreement\n",
    "    \n",
    "You will not receive any credit of CS203 if you do not agree with the above policies and the following question correctly.\n",
    "\n",
    "</div>\n",
    "\n",
    "</div>\n",
    "</div>"
   ]
  },
  {
   "cell_type": "markdown",
   "metadata": {
    "cs203.is_response": true,
    "cs203.points": 1,
    "cs203.question_type": "correctness",
    "editable": true,
    "tags": []
   },
   "source": [
    "<div class=\"alert alert-block alert-success\">\n",
    "<div class=\"question correctness points-1\">\n",
    "\n",
    "<div class=\"question-text\"> Please affirm your adherence to this agreement</div>\n",
    "\n",
    "Type 'I excel with integrity' here: [` type it (leave the brackets)`]\n",
    "\n",
    "By submitting this file, I, [`Your Name`], a student enrolled in\n",
    "CS203 affirm the principle of academic integrity and commit to excel\n",
    "with integrity by completing all academic assignments in the manner\n",
    "expected as described above, informing the instructor of suspected\n",
    "instances of academic misconduct by my peers, and fully engaging in\n",
    "the class and its related assignments for the purpose of learning.\n",
    "\n",
    "To electronically sign this document, Enter your full name, date, and\n",
    "student ID below:\n",
    "\n",
    "[` full name            `] / [` date `] / [`Student ID #              `]\n",
    "\n",
    "**This document was written in part by Rick Ord, CSE Lecturer and Dr. Bertram Gallant, Director of the UCSD Academic Integrity Office.**\n",
    "\n",
    "\n",
    "</div>\n",
    "</div>"
   ]
  },
  {
   "cell_type": "markdown",
   "metadata": {
    "deletable": false,
    "editable": false,
    "tags": []
   },
   "source": [
    "# Skills to Learn\n",
    "\n",
    "1. git/GitHub basics\n",
    "2. Navigating a Jupyter Notebook\n",
    "3. Think code and predict its behavior."
   ]
  },
  {
   "cell_type": "markdown",
   "metadata": {
    "deletable": false,
    "editable": false,
    "tags": []
   },
   "source": [
    "# Building and Running Code"
   ]
  },
  {
   "cell_type": "markdown",
   "metadata": {
    "deletable": false,
    "editable": false,
    "tags": []
   },
   "source": [
    "In this class, we will spend a lot of time measuring the behavior of programs.  To do this accurately, we need to run the code by itself on a machine, so that other programs don't interfere with our measurements. To get good measurements, we'll run our experiments \"in the cloud\" on some dedicated _bare metal_ servers where nothing else runs. To ensure only limited amount of tasks can run on each machine, we use a job scheduler to submit tasks rather than have you log in directly. Therefore, you can build your code on datahub, debug your code on datahub, and then submit \"jobs\" to run in the cloud.\n",
    "\n",
    "\n",
    "## Build The Code Locally\n",
    "\n",
    "We'll build executables using `make`.  For instance, you can compile `hello_world.cpp` into `hello_world.exe` by typing this at your Linux shell prompt:\n",
    "\n",
    "```\n",
    "make hello_world.exe\n",
    "```\n",
    "\n",
    "Or, you can do that from right here in the note book by putting a `!` in front.  Type \n",
    "```\n",
    "!make hello_world.exe\n",
    "```\n",
    "\n",
    "Like this:"
   ]
  },
  {
   "cell_type": "code",
   "execution_count": 4,
   "metadata": {
    "deletable": false,
    "editable": false,
    "tags": []
   },
   "outputs": [
    {
     "name": "stdout",
     "output_type": "stream",
     "text": [
      "mkdir -p ./build/ \n",
      "cp  hello_world.cpp ./build/hello_world.cpp\n",
      "g++   -DHAVE_LINUX_PERF_EVENT_H -I/home/htseng/2024fa-cs203-performance-starter  -lm -pthread  -c -o ./build/hello_world.o ./build/hello_world.cpp\n",
      "g++  -DHAVE_LINUX_PERF_EVENT_H -I/home/htseng/2024fa-cs203-performance-starter  -lm -pthread  build/hello_world.o -o hello_world.exe\n",
      "rm build/hello_world.o\n"
     ]
    }
   ],
   "source": [
    "!make hello_world.exe"
   ]
  },
  {
   "cell_type": "markdown",
   "metadata": {
    "deletable": false,
    "editable": false,
    "tags": []
   },
   "source": [
    "## Run the Code Locally\n",
    "\n",
    "Then you can run it like so:"
   ]
  },
  {
   "cell_type": "code",
   "execution_count": 5,
   "metadata": {
    "deletable": false,
    "editable": false,
    "tags": []
   },
   "outputs": [
    {
     "name": "stdout",
     "output_type": "stream",
     "text": [
      "Hello cs203!\n",
      "Goodbye summer!\n"
     ]
    }
   ],
   "source": [
    "!./hello_world.exe\n",
    "!./hello_world.exe something"
   ]
  },
  {
   "cell_type": "markdown",
   "metadata": {
    "cs203.is_response": true,
    "cs203.points": 1,
    "cs203.question_type": "completeness",
    "deletable": false,
    "editable": false,
    "tags": []
   },
   "source": [
    "<div class=\"alert alert-block alert-success\">\n",
    "\n",
    "### Question 2 (Correctness)\n",
    "\n",
    "In the code  cell below use the `!` to build and run `microbench.exe`.  (`microbench.exe` will say \"Execution Complete\" and exit).\n",
    "\n",
    "</div>"
   ]
  },
  {
   "cell_type": "code",
   "execution_count": null,
   "metadata": {
    "cs203.is_response": true,
    "deletable": true,
    "editable": true,
    "tags": []
   },
   "outputs": [],
   "source": [
    "#Put your commands here\n"
   ]
  },
  {
   "cell_type": "markdown",
   "metadata": {
    "deletable": false,
    "editable": false,
    "tags": []
   },
   "source": [
    "## Run the Code Remotely\n",
    "\n",
    "To run a job, you tell `cs203 run` what command you would like to run.  It gathers up _all the files_ (well, not quite all of them, but most of them) in your assignment directory, ships them to the bare-metal server, unpacks them, runs your command, gathers up the files that have changed, ships them back and unpacks them in your directory.  This makes it look like the command ran locally.\n",
    "\n",
    "Let's try it with something simple:"
   ]
  },
  {
   "cell_type": "code",
   "execution_count": 6,
   "metadata": {
    "deletable": false,
    "editable": false,
    "tags": []
   },
   "outputs": [
    {
     "name": "stdout",
     "output_type": "stream",
     "text": [
      "make: 'hello_world.exe' is up to date.\n",
      "Hello cs203!\n"
     ]
    }
   ],
   "source": [
    "!make hello_world.exe\n",
    "!cs203 run './hello_world.exe'"
   ]
  },
  {
   "cell_type": "markdown",
   "metadata": {
    "deletable": false,
    "editable": false,
    "tags": []
   },
   "source": [
    "Note that we didn't need to compile `hello_world.exe` on the remote machine because `cse142` copied the executable to the cloud.\n",
    "\n",
    "The output shows some job status information as it runs.  The job moves through several states as it executes.  The time it spends `RUNNING` is time it took your code to execute.  `PUBLISHED` and `SCHEDULED` (maybe not shown above) means it was waiting for a machine.\n",
    "\n",
    "And the output of the job is near the end:\n",
    "\n",
    "```\n",
    "Hello cs203!\n",
    "```\n",
    "\n",
    "You can run anything you want on the other side.  For fun, let's build the executable over there and then run it:"
   ]
  },
  {
   "cell_type": "code",
   "execution_count": 7,
   "metadata": {
    "deletable": false,
    "editable": false,
    "tags": []
   },
   "outputs": [
    {
     "name": "stdout",
     "output_type": "stream",
     "text": [
      "rm -f *.exe ./build/*\n",
      "mkdir -p ./build/ \n",
      "cp  hello_world.cpp ./build/hello_world.cpp\n",
      "g++   -DHAVE_LINUX_PERF_EVENT_H -I/datahub/htseng/2024fa-cs203-performance-starter  -lm -pthread  -c -o ./build/hello_world.o ./build/hello_world.cpp\n",
      "g++  -DHAVE_LINUX_PERF_EVENT_H -I/datahub/htseng/2024fa-cs203-performance-starter  -lm -pthread  build/hello_world.o -o hello_world.exe\n",
      "rm build/hello_world.o\n",
      "Hello cs203!\n"
     ]
    }
   ],
   "source": [
    "!make clean\n",
    "!cs203 run 'make hello_world.exe; ./hello_world.exe' "
   ]
  },
  {
   "attachments": {
    "image.png": {
     "image/png": "[encoded data removed]"
    }
   },
   "cell_type": "markdown",
   "metadata": {
    "deletable": false,
    "editable": false,
    "tags": []
   },
   "source": [
    "Now you can see the compiler output and you'll notice that it copied back the files it modified while building `hello_world.exe`.\n",
    "\n",
    "```\n",
    "./build/hello_world.cpp\n",
    "./build/hello_world.d\n",
    "./build/hello_world.o\n",
    "./hello_world.exe\n",
    "```\n",
    "\n",
    "<div class=\"alert alert-block alert-danger\">\n",
    "    \n",
    "**With great power comes great responsibility.**  You can run pretty much whatever you want on the remote machine, but the code runs in a docker-based sandbox (using the same image you are running locally) and there's a time limit.  Nevertheless, there are probably ways for you to crash the remote machine or cause it to malfunction.  Doing so intentionally is against the rules.  If we find you've done so, we'll disable your account and you'll have to find some other way to complete the assignments.\n",
    "    \n",
    "![image.png](attachment:image.png)\n",
    "\n",
    "</div>"
   ]
  },
  {
   "cell_type": "markdown",
   "metadata": {
    "deletable": false,
    "editable": false,
    "tags": []
   },
   "source": [
    "# Analyzing Program Behavior with the Performance Equation"
   ]
  },
  {
   "cell_type": "markdown",
   "metadata": {
    "deletable": false,
    "editable": false,
    "tags": []
   },
   "source": [
    "<div class=\"alert alert-block alert-danger\">\n",
    "    \n",
    "**Keep track of questions you have.**  This assignment is more about collecting questions than finding answers.  I've called out some interesting questions throughout the assignment.  The last question of the assignment asks for _other_ questions you had while examining the data you'll collect below, so keep track of them as you work through the assignment.\n",
    "\n",
    "</div>"
   ]
  },
  {
   "cell_type": "markdown",
   "metadata": {
    "deletable": false,
    "editable": false,
    "tags": []
   },
   "source": [
    "## Meet the Code!\n",
    "\n",
    "In this assignment we are going to analyze a few simple funtions in`microbench.cpp`.  The first is `baseline_int()`:"
   ]
  },
  {
   "cell_type": "code",
   "execution_count": 10,
   "metadata": {
    "deletable": false,
    "editable": false,
    "init_cell": true,
    "tags": []
   },
   "outputs": [
    {
     "data": {
      "text/html": [
       "<style>pre { line-height: 125%; }\n",
       "td.linenos .normal { color: inherit; background-color: transparent; padding-left: 5px; padding-right: 5px; }\n",
       "span.linenos { color: inherit; background-color: transparent; padding-left: 5px; padding-right: 5px; }\n",
       "td.linenos .special { color: #000000; background-color: #ffffc0; padding-left: 5px; padding-right: 5px; }\n",
       "span.linenos.special { color: #000000; background-color: #ffffc0; padding-left: 5px; padding-right: 5px; }\n",
       ".output_html .hll { background-color: #ffffcc }\n",
       ".output_html { background: #f8f8f8; }\n",
       ".output_html .c { color: #3D7B7B; font-style: italic } /* Comment */\n",
       ".output_html .err { border: 1px solid #FF0000 } /* Error */\n",
       ".output_html .k { color: #008000; font-weight: bold } /* Keyword */\n",
       ".output_html .o { color: #666666 } /* Operator */\n",
       ".output_html .ch { color: #3D7B7B; font-style: italic } /* Comment.Hashbang */\n",
       ".output_html .cm { color: #3D7B7B; font-style: italic } /* Comment.Multiline */\n",
       ".output_html .cp { color: #9C6500 } /* Comment.Preproc */\n",
       ".output_html .cpf { color: #3D7B7B; font-style: italic } /* Comment.PreprocFile */\n",
       ".output_html .c1 { color: #3D7B7B; font-style: italic } /* Comment.Single */\n",
       ".output_html .cs { color: #3D7B7B; font-style: italic } /* Comment.Special */\n",
       ".output_html .gd { color: #A00000 } /* Generic.Deleted */\n",
       ".output_html .ge { font-style: italic } /* Generic.Emph */\n",
       ".output_html .ges { font-weight: bold; font-style: italic } /* Generic.EmphStrong */\n",
       ".output_html .gr { color: #E40000 } /* Generic.Error */\n",
       ".output_html .gh { color: #000080; font-weight: bold } /* Generic.Heading */\n",
       ".output_html .gi { color: #008400 } /* Generic.Inserted */\n",
       ".output_html .go { color: #717171 } /* Generic.Output */\n",
       ".output_html .gp { color: #000080; font-weight: bold } /* Generic.Prompt */\n",
       ".output_html .gs { font-weight: bold } /* Generic.Strong */\n",
       ".output_html .gu { color: #800080; font-weight: bold } /* Generic.Subheading */\n",
       ".output_html .gt { color: #0044DD } /* Generic.Traceback */\n",
       ".output_html .kc { color: #008000; font-weight: bold } /* Keyword.Constant */\n",
       ".output_html .kd { color: #008000; font-weight: bold } /* Keyword.Declaration */\n",
       ".output_html .kn { color: #008000; font-weight: bold } /* Keyword.Namespace */\n",
       ".output_html .kp { color: #008000 } /* Keyword.Pseudo */\n",
       ".output_html .kr { color: #008000; font-weight: bold } /* Keyword.Reserved */\n",
       ".output_html .kt { color: #B00040 } /* Keyword.Type */\n",
       ".output_html .m { color: #666666 } /* Literal.Number */\n",
       ".output_html .s { color: #BA2121 } /* Literal.String */\n",
       ".output_html .na { color: #687822 } /* Name.Attribute */\n",
       ".output_html .nb { color: #008000 } /* Name.Builtin */\n",
       ".output_html .nc { color: #0000FF; font-weight: bold } /* Name.Class */\n",
       ".output_html .no { color: #880000 } /* Name.Constant */\n",
       ".output_html .nd { color: #AA22FF } /* Name.Decorator */\n",
       ".output_html .ni { color: #717171; font-weight: bold } /* Name.Entity */\n",
       ".output_html .ne { color: #CB3F38; font-weight: bold } /* Name.Exception */\n",
       ".output_html .nf { color: #0000FF } /* Name.Function */\n",
       ".output_html .nl { color: #767600 } /* Name.Label */\n",
       ".output_html .nn { color: #0000FF; font-weight: bold } /* Name.Namespace */\n",
       ".output_html .nt { color: #008000; font-weight: bold } /* Name.Tag */\n",
       ".output_html .nv { color: #19177C } /* Name.Variable */\n",
       ".output_html .ow { color: #AA22FF; font-weight: bold } /* Operator.Word */\n",
       ".output_html .w { color: #bbbbbb } /* Text.Whitespace */\n",
       ".output_html .mb { color: #666666 } /* Literal.Number.Bin */\n",
       ".output_html .mf { color: #666666 } /* Literal.Number.Float */\n",
       ".output_html .mh { color: #666666 } /* Literal.Number.Hex */\n",
       ".output_html .mi { color: #666666 } /* Literal.Number.Integer */\n",
       ".output_html .mo { color: #666666 } /* Literal.Number.Oct */\n",
       ".output_html .sa { color: #BA2121 } /* Literal.String.Affix */\n",
       ".output_html .sb { color: #BA2121 } /* Literal.String.Backtick */\n",
       ".output_html .sc { color: #BA2121 } /* Literal.String.Char */\n",
       ".output_html .dl { color: #BA2121 } /* Literal.String.Delimiter */\n",
       ".output_html .sd { color: #BA2121; font-style: italic } /* Literal.String.Doc */\n",
       ".output_html .s2 { color: #BA2121 } /* Literal.String.Double */\n",
       ".output_html .se { color: #AA5D1F; font-weight: bold } /* Literal.String.Escape */\n",
       ".output_html .sh { color: #BA2121 } /* Literal.String.Heredoc */\n",
       ".output_html .si { color: #A45A77; font-weight: bold } /* Literal.String.Interpol */\n",
       ".output_html .sx { color: #008000 } /* Literal.String.Other */\n",
       ".output_html .sr { color: #A45A77 } /* Literal.String.Regex */\n",
       ".output_html .s1 { color: #BA2121 } /* Literal.String.Single */\n",
       ".output_html .ss { color: #19177C } /* Literal.String.Symbol */\n",
       ".output_html .bp { color: #008000 } /* Name.Builtin.Pseudo */\n",
       ".output_html .fm { color: #0000FF } /* Name.Function.Magic */\n",
       ".output_html .vc { color: #19177C } /* Name.Variable.Class */\n",
       ".output_html .vg { color: #19177C } /* Name.Variable.Global */\n",
       ".output_html .vi { color: #19177C } /* Name.Variable.Instance */\n",
       ".output_html .vm { color: #19177C } /* Name.Variable.Magic */\n",
       ".output_html .il { color: #666666 } /* Literal.Number.Integer.Long */</style><div class=\"highlight\"><pre><span></span><span class=\"c1\">// microbench.cpp:24-37 (14 lines)</span>\n",
       "<span class=\"k\">extern</span><span class=\"w\"> </span><span class=\"s\">&quot;C&quot;</span><span class=\"w\"> </span><span class=\"kt\">uint64_t</span><span class=\"w\"> </span><span class=\"o\">*</span><span class=\"n\">__attribute__</span><span class=\"p\">((</span><span class=\"n\">noinline</span><span class=\"p\">))</span><span class=\"w\"> </span><span class=\"n\">baseline_int</span><span class=\"p\">(</span><span class=\"kt\">uint64_t</span><span class=\"w\"> </span><span class=\"o\">*</span><span class=\"w\"> </span><span class=\"n\">array</span><span class=\"p\">,</span><span class=\"w\"> </span><span class=\"kt\">unsigned</span><span class=\"w\"> </span><span class=\"kt\">long</span><span class=\"w\"> </span><span class=\"kt\">int</span><span class=\"w\"> </span><span class=\"n\">size</span><span class=\"p\">)</span><span class=\"w\"> </span><span class=\"p\">{</span>\n",
       "<span class=\"w\">    </span><span class=\"c1\">//uint64_t * array = new uint64_t[size];</span>\n",
       "<span class=\"w\">    </span><span class=\"k\">for</span><span class=\"p\">(</span><span class=\"n\">uint</span><span class=\"w\"> </span><span class=\"n\">i</span><span class=\"w\"> </span><span class=\"o\">=</span><span class=\"w\"> </span><span class=\"mi\">0</span><span class=\"p\">;</span><span class=\"w\"> </span><span class=\"n\">i</span><span class=\"w\"> </span><span class=\"o\">&lt;</span><span class=\"w\"> </span><span class=\"n\">size</span><span class=\"p\">;</span><span class=\"w\"> </span><span class=\"n\">i</span><span class=\"o\">++</span><span class=\"p\">)</span><span class=\"w\"> </span><span class=\"p\">{</span>\n",
       "<span class=\"w\">        </span><span class=\"n\">array</span><span class=\"p\">[</span><span class=\"n\">i</span><span class=\"p\">]</span><span class=\"w\"> </span><span class=\"o\">=</span><span class=\"w\"> </span><span class=\"mi\">0</span><span class=\"p\">;</span>\n",
       "<span class=\"w\">    </span><span class=\"p\">}</span>\n",
       "\n",
       "<span class=\"w\">    </span><span class=\"k\">for</span><span class=\"w\"> </span><span class=\"p\">(</span><span class=\"n\">uint</span><span class=\"w\"> </span><span class=\"n\">j</span><span class=\"w\"> </span><span class=\"o\">=</span><span class=\"w\"> </span><span class=\"mi\">0</span><span class=\"p\">;</span><span class=\"w\"> </span><span class=\"n\">j</span><span class=\"w\"> </span><span class=\"o\">&lt;</span><span class=\"w\"> </span><span class=\"mi\">3</span><span class=\"p\">;</span><span class=\"w\"> </span><span class=\"n\">j</span><span class=\"o\">++</span><span class=\"p\">)</span><span class=\"w\"> </span><span class=\"p\">{</span>\n",
       "<span class=\"w\">        </span><span class=\"k\">for</span><span class=\"p\">(</span><span class=\"n\">uint</span><span class=\"w\"> </span><span class=\"n\">i</span><span class=\"o\">=</span><span class=\"w\"> </span><span class=\"mi\">1</span><span class=\"w\"> </span><span class=\"p\">;</span><span class=\"w\"> </span><span class=\"n\">i</span><span class=\"w\"> </span><span class=\"o\">&lt;</span><span class=\"w\"> </span><span class=\"n\">size</span><span class=\"p\">;</span><span class=\"w\"> </span><span class=\"n\">i</span><span class=\"o\">++</span><span class=\"p\">)</span><span class=\"w\"> </span><span class=\"p\">{</span>\n",
       "<span class=\"w\">            </span><span class=\"n\">array</span><span class=\"p\">[</span><span class=\"n\">i</span><span class=\"p\">]</span><span class=\"w\"> </span><span class=\"o\">+=</span><span class=\"w\"> </span><span class=\"n\">i</span><span class=\"o\">*</span><span class=\"p\">(</span><span class=\"mi\">1</span><span class=\"o\">+</span><span class=\"n\">j</span><span class=\"p\">);</span>\n",
       "<span class=\"w\">        </span><span class=\"p\">}</span>\n",
       "<span class=\"w\">    </span><span class=\"p\">}</span>\n",
       "<span class=\"c1\">//    std::cout &lt;&lt; &quot;Execution baseline_int complete :&quot;&lt;&lt; size &lt;&lt; &quot;\\n&quot; ;</span>\n",
       "<span class=\"w\">    </span><span class=\"k\">return</span><span class=\"w\"> </span><span class=\"n\">array</span><span class=\"p\">;</span>\n",
       "<span class=\"p\">}</span>\n",
       "</pre></div>\n"
      ],
      "text/latex": [
       "\\begin{Verbatim}[commandchars=\\\\\\{\\}]\n",
       "\\PY{c+c1}{// microbench.cpp:24\\PYZhy{}37 (14 lines)}\n",
       "\\PY{k}{extern}\\PY{+w}{ }\\PY{l+s}{\\PYZdq{}}\\PY{l+s}{C}\\PY{l+s}{\\PYZdq{}}\\PY{+w}{ }\\PY{k+kt}{uint64\\PYZus{}t}\\PY{+w}{ }\\PY{o}{*}\\PY{n}{\\PYZus{}\\PYZus{}attribute\\PYZus{}\\PYZus{}}\\PY{p}{(}\\PY{p}{(}\\PY{n}{noinline}\\PY{p}{)}\\PY{p}{)}\\PY{+w}{ }\\PY{n}{baseline\\PYZus{}int}\\PY{p}{(}\\PY{k+kt}{uint64\\PYZus{}t}\\PY{+w}{ }\\PY{o}{*}\\PY{+w}{ }\\PY{n}{array}\\PY{p}{,}\\PY{+w}{ }\\PY{k+kt}{unsigned}\\PY{+w}{ }\\PY{k+kt}{long}\\PY{+w}{ }\\PY{k+kt}{int}\\PY{+w}{ }\\PY{n}{size}\\PY{p}{)}\\PY{+w}{ }\\PY{p}{\\PYZob{}}\n",
       "\\PY{+w}{    }\\PY{c+c1}{//uint64\\PYZus{}t * array = new uint64\\PYZus{}t[size];}\n",
       "\\PY{+w}{    }\\PY{k}{for}\\PY{p}{(}\\PY{n}{uint}\\PY{+w}{ }\\PY{n}{i}\\PY{+w}{ }\\PY{o}{=}\\PY{+w}{ }\\PY{l+m+mi}{0}\\PY{p}{;}\\PY{+w}{ }\\PY{n}{i}\\PY{+w}{ }\\PY{o}{\\PYZlt{}}\\PY{+w}{ }\\PY{n}{size}\\PY{p}{;}\\PY{+w}{ }\\PY{n}{i}\\PY{o}{+}\\PY{o}{+}\\PY{p}{)}\\PY{+w}{ }\\PY{p}{\\PYZob{}}\n",
       "\\PY{+w}{        }\\PY{n}{array}\\PY{p}{[}\\PY{n}{i}\\PY{p}{]}\\PY{+w}{ }\\PY{o}{=}\\PY{+w}{ }\\PY{l+m+mi}{0}\\PY{p}{;}\n",
       "\\PY{+w}{    }\\PY{p}{\\PYZcb{}}\n",
       "\n",
       "\\PY{+w}{    }\\PY{k}{for}\\PY{+w}{ }\\PY{p}{(}\\PY{n}{uint}\\PY{+w}{ }\\PY{n}{j}\\PY{+w}{ }\\PY{o}{=}\\PY{+w}{ }\\PY{l+m+mi}{0}\\PY{p}{;}\\PY{+w}{ }\\PY{n}{j}\\PY{+w}{ }\\PY{o}{\\PYZlt{}}\\PY{+w}{ }\\PY{l+m+mi}{3}\\PY{p}{;}\\PY{+w}{ }\\PY{n}{j}\\PY{o}{+}\\PY{o}{+}\\PY{p}{)}\\PY{+w}{ }\\PY{p}{\\PYZob{}}\n",
       "\\PY{+w}{        }\\PY{k}{for}\\PY{p}{(}\\PY{n}{uint}\\PY{+w}{ }\\PY{n}{i}\\PY{o}{=}\\PY{+w}{ }\\PY{l+m+mi}{1}\\PY{+w}{ }\\PY{p}{;}\\PY{+w}{ }\\PY{n}{i}\\PY{+w}{ }\\PY{o}{\\PYZlt{}}\\PY{+w}{ }\\PY{n}{size}\\PY{p}{;}\\PY{+w}{ }\\PY{n}{i}\\PY{o}{+}\\PY{o}{+}\\PY{p}{)}\\PY{+w}{ }\\PY{p}{\\PYZob{}}\n",
       "\\PY{+w}{            }\\PY{n}{array}\\PY{p}{[}\\PY{n}{i}\\PY{p}{]}\\PY{+w}{ }\\PY{o}{+}\\PY{o}{=}\\PY{+w}{ }\\PY{n}{i}\\PY{o}{*}\\PY{p}{(}\\PY{l+m+mi}{1}\\PY{o}{+}\\PY{n}{j}\\PY{p}{)}\\PY{p}{;}\n",
       "\\PY{+w}{        }\\PY{p}{\\PYZcb{}}\n",
       "\\PY{+w}{    }\\PY{p}{\\PYZcb{}}\n",
       "\\PY{c+c1}{//    std::cout \\PYZlt{}\\PYZlt{} \\PYZdq{}Execution baseline\\PYZus{}int complete :\\PYZdq{}\\PYZlt{}\\PYZlt{} size \\PYZlt{}\\PYZlt{} \\PYZdq{}\\PYZbs{}n\\PYZdq{} ;}\n",
       "\\PY{+w}{    }\\PY{k}{return}\\PY{+w}{ }\\PY{n}{array}\\PY{p}{;}\n",
       "\\PY{p}{\\PYZcb{}}\n",
       "\\end{Verbatim}\n"
      ],
      "text/plain": [
       "// microbench.cpp:24-37 (14 lines)\n",
       "extern \"C\" uint64_t *__attribute__((noinline)) baseline_int(uint64_t * array, unsigned long int size) {\n",
       "    //uint64_t * array = new uint64_t[size];\n",
       "    for(uint i = 0; i < size; i++) {\n",
       "        array[i] = 0;\n",
       "    }\n",
       "\n",
       "    for (uint j = 0; j < 3; j++) {\n",
       "        for(uint i= 1 ; i < size; i++) {\n",
       "            array[i] += i*(1+j);\n",
       "        }\n",
       "    }\n",
       "//    std::cout << \"Execution baseline_int complete :\"<< size << \"\\n\" ;\n",
       "    return array;\n",
       "}"
      ]
     },
     "metadata": {},
     "output_type": "display_data"
    }
   ],
   "source": [
    "render_code(\"microbench.cpp\", show=\"baseline_int\")"
   ]
  },
  {
   "cell_type": "markdown",
   "metadata": {
    "deletable": false,
    "editable": false,
    "tags": []
   },
   "source": [
    "`baseline_int()`  initilizes `array` and then does some multiplies and additions to update it's contents.  It's not a useful computation, so don't spend time trying to figure out what it does.\n",
    "\n",
    "Fill the following cell to compile the code and create `microbench.exe`, and then run it:"
   ]
  },
  {
   "cell_type": "code",
   "execution_count": 19,
   "metadata": {
    "deletable": false,
    "editable": false,
    "tags": []
   },
   "outputs": [
    {
     "name": "stdout",
     "output_type": "stream",
     "text": [
      "rm -f *.exe ./build/*\n",
      "mkdir -p ./build/ \n",
      "cp  perfstats.c ./build/perfstats.c\n",
      "g++  -DHAVE_LINUX_PERF_EVENT_H -I/home/htseng/2024fa-cs203-performance-starter  -lm -pthread  -o ./build/perfstats.o -c ./build/perfstats.c\n",
      "g++  -DHAVE_LINUX_PERF_EVENT_H -I/home/htseng/2024fa-cs203-performance-starter  -lm -pthread  microbench.cpp ./build/perfstats.o  -o microbench.exe\n",
      "Execution complete\n"
     ]
    }
   ],
   "source": [
    "!make clean; make microbench.exe\n",
    "!cs203 run \"./microbench.exe\""
   ]
  },
  {
   "cell_type": "markdown",
   "metadata": {
    "deletable": false,
    "editable": false,
    "tags": []
   },
   "source": [
    "As you can see, there are quite a few command line options for such a simple program.   These options are the interface to the data collection library we will be using in the class.  They control how our \"functions under test\" (FUTs) (i.e., `baseline_int()`) will be run.  We'll learn about them in more details as the quarter progresses.\n",
    "\n",
    "For now, let's use three arguments:\n",
    "\n",
    "* `-f` to run `baseline_int`\n",
    "* `-o` to put the results in `first.csv`\n",
    "* `-r` will run the test 2 times\n",
    "* `-s` will run tests on two different sized arrays.\n",
    "\n",
    "`microbenchmark.exe` will run all the funtions listed after `-f ` for all the array sizes given by `--size`, and it will do it all 2 times, so that's a total of 4 measurements it will take.\n",
    "\n",
    "We can submit the job to our server:"
   ]
  },
  {
   "cell_type": "code",
   "execution_count": 20,
   "metadata": {
    "deletable": false,
    "editable": false,
    "tags": []
   },
   "outputs": [
    {
     "name": "stdout",
     "output_type": "stream",
     "text": [
      "Execution complete\n"
     ]
    }
   ],
   "source": [
    "!cs203 run \"./microbench.exe -o first.csv -r 2 -s 1024 2048 -f baseline_int\""
   ]
  },
  {
   "cell_type": "markdown",
   "metadata": {
    "deletable": false,
    "editable": false,
    "tags": []
   },
   "source": [
    "`first.csv` contains some data about how the program run.  You can see the raw data:"
   ]
  },
  {
   "cell_type": "code",
   "execution_count": 24,
   "metadata": {
    "deletable": false,
    "editable": false,
    "tags": []
   },
   "outputs": [
    {
     "name": "stdout",
     "output_type": "stream",
     "text": [
      "size,rep,function,IC,Cycles,CPI,MHz,CT,ET,cmdlineMHz\n",
      "1024,0,baseline_int, 78322,44966,0.574117,7494.333333,0.133434,0.000006,4000\n",
      "1024,1,baseline_int, 75026,23146,0.308506,3306.571429,0.302428,0.000007,4000\n",
      "2048,0,baseline_int, 146706,38762,0.264216,3876.200000,0.257985,0.000010,4000\n",
      "2048,1,baseline_int, 146706,39070,0.266315,3907.000000,0.255951,0.000010,4000\n"
     ]
    }
   ],
   "source": [
    "!cat first.csv"
   ]
  },
  {
   "cell_type": "markdown",
   "metadata": {
    "deletable": false,
    "editable": false,
    "tags": []
   },
   "source": [
    "And render it nicely:"
   ]
  },
  {
   "cell_type": "code",
   "execution_count": 53,
   "metadata": {
    "deletable": false,
    "editable": false,
    "tags": []
   },
   "outputs": [
    {
     "data": {
      "text/html": [
       "<style type=\"text/css\">\n",
       "#T_cbcaf_row0_col0, #T_cbcaf_row0_col1, #T_cbcaf_row0_col2, #T_cbcaf_row0_col3, #T_cbcaf_row0_col4, #T_cbcaf_row0_col5, #T_cbcaf_row0_col6, #T_cbcaf_row0_col7, #T_cbcaf_row0_col8, #T_cbcaf_row0_col9, #T_cbcaf_row0_col10, #T_cbcaf_row1_col0, #T_cbcaf_row1_col1, #T_cbcaf_row1_col2, #T_cbcaf_row1_col3, #T_cbcaf_row1_col4, #T_cbcaf_row1_col5, #T_cbcaf_row1_col6, #T_cbcaf_row1_col7, #T_cbcaf_row1_col8, #T_cbcaf_row1_col9, #T_cbcaf_row1_col10, #T_cbcaf_row2_col0, #T_cbcaf_row2_col1, #T_cbcaf_row2_col2, #T_cbcaf_row2_col3, #T_cbcaf_row2_col4, #T_cbcaf_row2_col5, #T_cbcaf_row2_col6, #T_cbcaf_row2_col7, #T_cbcaf_row2_col8, #T_cbcaf_row2_col9, #T_cbcaf_row2_col10, #T_cbcaf_row3_col0, #T_cbcaf_row3_col1, #T_cbcaf_row3_col2, #T_cbcaf_row3_col3, #T_cbcaf_row3_col4, #T_cbcaf_row3_col5, #T_cbcaf_row3_col6, #T_cbcaf_row3_col7, #T_cbcaf_row3_col8, #T_cbcaf_row3_col9, #T_cbcaf_row3_col10 {\n",
       "  font-family: monospace;\n",
       "}\n",
       "</style>\n",
       "<table id=\"T_cbcaf\">\n",
       "  <thead>\n",
       "    <tr>\n",
       "      <th class=\"blank level0\" >&nbsp;</th>\n",
       "      <th id=\"T_cbcaf_level0_col0\" class=\"col_heading level0 col0\" >index</th>\n",
       "      <th id=\"T_cbcaf_level0_col1\" class=\"col_heading level0 col1\" >size</th>\n",
       "      <th id=\"T_cbcaf_level0_col2\" class=\"col_heading level0 col2\" >rep</th>\n",
       "      <th id=\"T_cbcaf_level0_col3\" class=\"col_heading level0 col3\" >function</th>\n",
       "      <th id=\"T_cbcaf_level0_col4\" class=\"col_heading level0 col4\" >IC</th>\n",
       "      <th id=\"T_cbcaf_level0_col5\" class=\"col_heading level0 col5\" >Cycles</th>\n",
       "      <th id=\"T_cbcaf_level0_col6\" class=\"col_heading level0 col6\" >CPI</th>\n",
       "      <th id=\"T_cbcaf_level0_col7\" class=\"col_heading level0 col7\" >MHz</th>\n",
       "      <th id=\"T_cbcaf_level0_col8\" class=\"col_heading level0 col8\" >CT</th>\n",
       "      <th id=\"T_cbcaf_level0_col9\" class=\"col_heading level0 col9\" >ET</th>\n",
       "      <th id=\"T_cbcaf_level0_col10\" class=\"col_heading level0 col10\" >cmdlineMHz</th>\n",
       "    </tr>\n",
       "  </thead>\n",
       "  <tbody>\n",
       "    <tr>\n",
       "      <th id=\"T_cbcaf_level0_row0\" class=\"row_heading level0 row0\" >0</th>\n",
       "      <td id=\"T_cbcaf_row0_col0\" class=\"data row0 col0\" >0</td>\n",
       "      <td id=\"T_cbcaf_row0_col1\" class=\"data row0 col1\" >1024</td>\n",
       "      <td id=\"T_cbcaf_row0_col2\" class=\"data row0 col2\" >0</td>\n",
       "      <td id=\"T_cbcaf_row0_col3\" class=\"data row0 col3\" >baseline_int</td>\n",
       "      <td id=\"T_cbcaf_row0_col4\" class=\"data row0 col4\" >78322</td>\n",
       "      <td id=\"T_cbcaf_row0_col5\" class=\"data row0 col5\" >44966</td>\n",
       "      <td id=\"T_cbcaf_row0_col6\" class=\"data row0 col6\" >0.574117</td>\n",
       "      <td id=\"T_cbcaf_row0_col7\" class=\"data row0 col7\" >7494.333333</td>\n",
       "      <td id=\"T_cbcaf_row0_col8\" class=\"data row0 col8\" >0.133434</td>\n",
       "      <td id=\"T_cbcaf_row0_col9\" class=\"data row0 col9\" >0.000006</td>\n",
       "      <td id=\"T_cbcaf_row0_col10\" class=\"data row0 col10\" >4000</td>\n",
       "    </tr>\n",
       "    <tr>\n",
       "      <th id=\"T_cbcaf_level0_row1\" class=\"row_heading level0 row1\" >1</th>\n",
       "      <td id=\"T_cbcaf_row1_col0\" class=\"data row1 col0\" >1</td>\n",
       "      <td id=\"T_cbcaf_row1_col1\" class=\"data row1 col1\" >1024</td>\n",
       "      <td id=\"T_cbcaf_row1_col2\" class=\"data row1 col2\" >1</td>\n",
       "      <td id=\"T_cbcaf_row1_col3\" class=\"data row1 col3\" >baseline_int</td>\n",
       "      <td id=\"T_cbcaf_row1_col4\" class=\"data row1 col4\" >75026</td>\n",
       "      <td id=\"T_cbcaf_row1_col5\" class=\"data row1 col5\" >23146</td>\n",
       "      <td id=\"T_cbcaf_row1_col6\" class=\"data row1 col6\" >0.308506</td>\n",
       "      <td id=\"T_cbcaf_row1_col7\" class=\"data row1 col7\" >3306.571429</td>\n",
       "      <td id=\"T_cbcaf_row1_col8\" class=\"data row1 col8\" >0.302428</td>\n",
       "      <td id=\"T_cbcaf_row1_col9\" class=\"data row1 col9\" >0.000007</td>\n",
       "      <td id=\"T_cbcaf_row1_col10\" class=\"data row1 col10\" >4000</td>\n",
       "    </tr>\n",
       "    <tr>\n",
       "      <th id=\"T_cbcaf_level0_row2\" class=\"row_heading level0 row2\" >2</th>\n",
       "      <td id=\"T_cbcaf_row2_col0\" class=\"data row2 col0\" >2</td>\n",
       "      <td id=\"T_cbcaf_row2_col1\" class=\"data row2 col1\" >2048</td>\n",
       "      <td id=\"T_cbcaf_row2_col2\" class=\"data row2 col2\" >0</td>\n",
       "      <td id=\"T_cbcaf_row2_col3\" class=\"data row2 col3\" >baseline_int</td>\n",
       "      <td id=\"T_cbcaf_row2_col4\" class=\"data row2 col4\" >146706</td>\n",
       "      <td id=\"T_cbcaf_row2_col5\" class=\"data row2 col5\" >38762</td>\n",
       "      <td id=\"T_cbcaf_row2_col6\" class=\"data row2 col6\" >0.264216</td>\n",
       "      <td id=\"T_cbcaf_row2_col7\" class=\"data row2 col7\" >3876.200000</td>\n",
       "      <td id=\"T_cbcaf_row2_col8\" class=\"data row2 col8\" >0.257985</td>\n",
       "      <td id=\"T_cbcaf_row2_col9\" class=\"data row2 col9\" >0.000010</td>\n",
       "      <td id=\"T_cbcaf_row2_col10\" class=\"data row2 col10\" >4000</td>\n",
       "    </tr>\n",
       "    <tr>\n",
       "      <th id=\"T_cbcaf_level0_row3\" class=\"row_heading level0 row3\" >3</th>\n",
       "      <td id=\"T_cbcaf_row3_col0\" class=\"data row3 col0\" >3</td>\n",
       "      <td id=\"T_cbcaf_row3_col1\" class=\"data row3 col1\" >2048</td>\n",
       "      <td id=\"T_cbcaf_row3_col2\" class=\"data row3 col2\" >1</td>\n",
       "      <td id=\"T_cbcaf_row3_col3\" class=\"data row3 col3\" >baseline_int</td>\n",
       "      <td id=\"T_cbcaf_row3_col4\" class=\"data row3 col4\" >146706</td>\n",
       "      <td id=\"T_cbcaf_row3_col5\" class=\"data row3 col5\" >39070</td>\n",
       "      <td id=\"T_cbcaf_row3_col6\" class=\"data row3 col6\" >0.266315</td>\n",
       "      <td id=\"T_cbcaf_row3_col7\" class=\"data row3 col7\" >3907.000000</td>\n",
       "      <td id=\"T_cbcaf_row3_col8\" class=\"data row3 col8\" >0.255951</td>\n",
       "      <td id=\"T_cbcaf_row3_col9\" class=\"data row3 col9\" >0.000010</td>\n",
       "      <td id=\"T_cbcaf_row3_col10\" class=\"data row3 col10\" >4000</td>\n",
       "    </tr>\n",
       "  </tbody>\n",
       "</table>\n"
      ],
      "text/plain": [
       "<pandas.io.formats.style.Styler at 0x7faac9524070>"
      ]
     },
     "metadata": {},
     "output_type": "display_data"
    }
   ],
   "source": [
    "display_mono(render_csv(\"first.csv\"))"
   ]
  },
  {
   "cell_type": "markdown",
   "metadata": {
    "deletable": false,
    "editable": false,
    "tags": []
   },
   "source": [
    "Here's what the column means:\n",
    "\n",
    "1.  `size` is the size of the `array`\n",
    "2. `rep` is the 'repetition number' (explained below).\n",
    "3.  `function` is the the function in this line is for.\n",
    "4.  `IC` is the number of dynamic instructions the program ran.\n",
    "5.  `Cycles` is the number of CPU cycles the program ran.\n",
    "6.  `MHz` is the average CPU clock speed when running the program.\n",
    "7.  `ET` is the number of seconds the program ran.\n",
    "8.  Ignore `Unnamed: 8` its existence is a bug I haven't had time to fix.\n",
    "\n",
    "Let's focus on a few columns:"
   ]
  },
  {
   "cell_type": "code",
   "execution_count": 31,
   "metadata": {
    "deletable": false,
    "editable": false,
    "tags": []
   },
   "outputs": [
    {
     "data": {
      "text/html": [
       "<style type=\"text/css\">\n",
       "#T_69411_row0_col0, #T_69411_row0_col1, #T_69411_row0_col2, #T_69411_row0_col3, #T_69411_row1_col0, #T_69411_row1_col1, #T_69411_row1_col2, #T_69411_row1_col3, #T_69411_row2_col0, #T_69411_row2_col1, #T_69411_row2_col2, #T_69411_row2_col3, #T_69411_row3_col0, #T_69411_row3_col1, #T_69411_row3_col2, #T_69411_row3_col3 {\n",
       "  font-family: monospace;\n",
       "}\n",
       "</style>\n",
       "<table id=\"T_69411\">\n",
       "  <thead>\n",
       "    <tr>\n",
       "      <th class=\"blank level0\" >&nbsp;</th>\n",
       "      <th id=\"T_69411_level0_col0\" class=\"col_heading level0 col0\" >index</th>\n",
       "      <th id=\"T_69411_level0_col1\" class=\"col_heading level0 col1\" >function</th>\n",
       "      <th id=\"T_69411_level0_col2\" class=\"col_heading level0 col2\" >rep</th>\n",
       "      <th id=\"T_69411_level0_col3\" class=\"col_heading level0 col3\" >size</th>\n",
       "    </tr>\n",
       "  </thead>\n",
       "  <tbody>\n",
       "    <tr>\n",
       "      <th id=\"T_69411_level0_row0\" class=\"row_heading level0 row0\" >0</th>\n",
       "      <td id=\"T_69411_row0_col0\" class=\"data row0 col0\" >0</td>\n",
       "      <td id=\"T_69411_row0_col1\" class=\"data row0 col1\" >baseline_int</td>\n",
       "      <td id=\"T_69411_row0_col2\" class=\"data row0 col2\" >0</td>\n",
       "      <td id=\"T_69411_row0_col3\" class=\"data row0 col3\" >1024</td>\n",
       "    </tr>\n",
       "    <tr>\n",
       "      <th id=\"T_69411_level0_row1\" class=\"row_heading level0 row1\" >1</th>\n",
       "      <td id=\"T_69411_row1_col0\" class=\"data row1 col0\" >1</td>\n",
       "      <td id=\"T_69411_row1_col1\" class=\"data row1 col1\" >baseline_int</td>\n",
       "      <td id=\"T_69411_row1_col2\" class=\"data row1 col2\" >1</td>\n",
       "      <td id=\"T_69411_row1_col3\" class=\"data row1 col3\" >1024</td>\n",
       "    </tr>\n",
       "    <tr>\n",
       "      <th id=\"T_69411_level0_row2\" class=\"row_heading level0 row2\" >2</th>\n",
       "      <td id=\"T_69411_row2_col0\" class=\"data row2 col0\" >2</td>\n",
       "      <td id=\"T_69411_row2_col1\" class=\"data row2 col1\" >baseline_int</td>\n",
       "      <td id=\"T_69411_row2_col2\" class=\"data row2 col2\" >0</td>\n",
       "      <td id=\"T_69411_row2_col3\" class=\"data row2 col3\" >2048</td>\n",
       "    </tr>\n",
       "    <tr>\n",
       "      <th id=\"T_69411_level0_row3\" class=\"row_heading level0 row3\" >3</th>\n",
       "      <td id=\"T_69411_row3_col0\" class=\"data row3 col0\" >3</td>\n",
       "      <td id=\"T_69411_row3_col1\" class=\"data row3 col1\" >baseline_int</td>\n",
       "      <td id=\"T_69411_row3_col2\" class=\"data row3 col2\" >1</td>\n",
       "      <td id=\"T_69411_row3_col3\" class=\"data row3 col3\" >2048</td>\n",
       "    </tr>\n",
       "  </tbody>\n",
       "</table>\n"
      ],
      "text/plain": [
       "<pandas.io.formats.style.Styler at 0x7fab9c207970>"
      ]
     },
     "metadata": {},
     "output_type": "display_data"
    }
   ],
   "source": [
    "display_mono(render_csv(\"first.csv\", columns=[\"function\", \"rep\", \"size\"]))"
   ]
  },
  {
   "cell_type": "markdown",
   "metadata": {
    "deletable": false,
    "editable": false,
    "tags": []
   },
   "source": [
    "## Measuring The Performance Equation\n",
    "Now that we know how to take measurements, we can try to understand `baseline_int()`'s performance.  We will do this using the performance equation:\n",
    "\n",
    "```\n",
    "ET = IC * CPI * CT\n",
    "```\n",
    "\n",
    "So, we'll need to measure `IC` (instruction count), `CPI` (cycles per instruction), `CT` (cycle time), and `ET`, and we'll do that using \"performance counters\".  `microbench.exe` already has support for performance counters built in, we just need to tell it to collect data.  We can do that using the command below.  Here's what the additions to the command line mean.\n",
    "\n",
    "1. `-r` will run the test 25 times so we can average across lots of runs.\n",
    "2.  We set the clock speed to 4000MHz with `-M 4000`.\n",
    "\n",
    "**Performance counters _only_ work on the cloud servers.** In fact, the program will fail locally:"
   ]
  },
  {
   "cell_type": "code",
   "execution_count": 27,
   "metadata": {
    "deletable": false,
    "editable": false,
    "tags": []
   },
   "outputs": [
    {
     "name": "stdout",
     "output_type": "stream",
     "text": [
      "sh: 1: /usr/sbin/changefreq: not found\n",
      "sh: 1: /usr/sbin/changefreq: not found\n",
      "Execution complete\n"
     ]
    }
   ],
   "source": [
    "!./microbench.exe -o inst_count.csv -r 25 -f baseline_int"
   ]
  },
  {
   "cell_type": "markdown",
   "metadata": {
    "editable": false
   },
   "source": [
    "So run it in the cloud:"
   ]
  },
  {
   "cell_type": "code",
   "execution_count": 32,
   "metadata": {
    "deletable": false,
    "editable": false,
    "tags": []
   },
   "outputs": [
    {
     "name": "stdout",
     "output_type": "stream",
     "text": [
      "Execution complete\n"
     ]
    }
   ],
   "source": [
    "!cs203 run './microbench.exe -o inst_count.csv -M 4000 -r 25 -function baseline_int'"
   ]
  },
  {
   "cell_type": "code",
   "execution_count": 34,
   "metadata": {
    "deletable": false,
    "editable": false,
    "tags": []
   },
   "outputs": [
    {
     "data": {
      "text/html": [
       "<style type=\"text/css\">\n",
       "#T_1f4b4_row0_col0, #T_1f4b4_row0_col1, #T_1f4b4_row0_col2, #T_1f4b4_row0_col3, #T_1f4b4_row0_col4, #T_1f4b4_row0_col5 {\n",
       "  font-family: monospace;\n",
       "}\n",
       "</style>\n",
       "<table id=\"T_1f4b4\">\n",
       "  <thead>\n",
       "    <tr>\n",
       "      <th class=\"blank level0\" >&nbsp;</th>\n",
       "      <th id=\"T_1f4b4_level0_col0\" class=\"col_heading level0 col0\" >size</th>\n",
       "      <th id=\"T_1f4b4_level0_col1\" class=\"col_heading level0 col1\" >ET</th>\n",
       "      <th id=\"T_1f4b4_level0_col2\" class=\"col_heading level0 col2\" >IC</th>\n",
       "      <th id=\"T_1f4b4_level0_col3\" class=\"col_heading level0 col3\" >CPI</th>\n",
       "      <th id=\"T_1f4b4_level0_col4\" class=\"col_heading level0 col4\" >MHz</th>\n",
       "      <th id=\"T_1f4b4_level0_col5\" class=\"col_heading level0 col5\" >CT</th>\n",
       "    </tr>\n",
       "  </thead>\n",
       "  <tbody>\n",
       "    <tr>\n",
       "      <th id=\"T_1f4b4_level0_row0\" class=\"row_heading level0 row0\" >0</th>\n",
       "      <td id=\"T_1f4b4_row0_col0\" class=\"data row0 col0\" >1048576</td>\n",
       "      <td id=\"T_1f4b4_row0_col1\" class=\"data row0 col1\" >0.004263</td>\n",
       "      <td id=\"T_1f4b4_row0_col2\" class=\"data row0 col2\" >73413430.640000</td>\n",
       "      <td id=\"T_1f4b4_row0_col3\" class=\"data row0 col3\" >0.231419</td>\n",
       "      <td id=\"T_1f4b4_row0_col4\" class=\"data row0 col4\" >3984.749738</td>\n",
       "      <td id=\"T_1f4b4_row0_col5\" class=\"data row0 col5\" >0.250959</td>\n",
       "    </tr>\n",
       "  </tbody>\n",
       "</table>\n"
      ],
      "text/plain": [
       "<pandas.io.formats.style.Styler at 0x7faac941ef70>"
      ]
     },
     "metadata": {},
     "output_type": "display_data"
    }
   ],
   "source": [
    "display_mono(render_csv(\"inst_count.csv\", columns=columns, average_by=\"size\"))  # Compute averages across all the reps."
   ]
  },
  {
   "cell_type": "markdown",
   "metadata": {
    "deletable": false,
    "editable": false,
    "tags": []
   },
   "source": [
    "We are going to see a lot of data like this so, let's be clear about what they mean:\n",
    "\n",
    "| size| IC | CPI | CT | ET | cmdlineMHz|MHz|\n",
    "|-----|----|-----|----|----|-----------|-------|\n",
    "| size of `array` |  dynamic instructions executed | Cycles/instruction | Cycle Time | Execution Time  | MHz value from the command line| Measured MHZ|\n",
    "\n",
    "Note that `-M` parameter and the reported `MHz` don't quite match.  This is due to noise in how we measure elapsed time and \"cold start\" effects which cause the very first repetition to be much noiser than than the others."
   ]
  },
  {
   "cell_type": "markdown",
   "metadata": {
    "deletable": false,
    "tags": []
   },
   "source": [
    "## Instruction Count\n",
    "\n",
    "Let's see how changing the instruction count (`IC`) affects performance.  There are two ways we can increase instruction count for `baseline_int()`:\n",
    "\n",
    "1.  We can run the same experiment multiple times.\n",
    "2.  We can increase the size of `array` with the `-size` parameter."
   ]
  },
  {
   "cell_type": "markdown",
   "metadata": {
    "deletable": false,
    "editable": false,
    "tags": []
   },
   "source": [
    "### Running The Experiment Mutiple Times\n",
    "\n",
    "So far we've been passing `-r` (reps) to control how many times we run an experiment.  This helps smooth out noise in the measurement, but we can crank it up to increase IC.  We'll run it 3 times with 25, 50, and 100 reps."
   ]
  },
  {
   "cell_type": "code",
   "execution_count": 35,
   "metadata": {
    "tags": []
   },
   "outputs": [
    {
     "name": "stdout",
     "output_type": "stream",
     "text": [
      "Execution complete\n",
      "Execution complete\n",
      "Execution complete\n"
     ]
    }
   ],
   "source": [
    "#This takes a while...\n",
    "!cs203 run './microbench.exe -o 25.csv -r 25 -f baseline_int'\n",
    "!cs203 run './microbench.exe -o 50.csv -r 50 -f baseline_int'\n",
    "!cs203 run './microbench.exe -o 100.csv -r 100 -f baseline_int'\n"
   ]
  },
  {
   "cell_type": "code",
   "execution_count": 48,
   "metadata": {
    "cs203.is_response": true,
    "deletable": false,
    "tags": []
   },
   "outputs": [
    {
     "data": {
      "text/html": [
       "<style type=\"text/css\">\n",
       "#T_1b31f_row0_col0, #T_1b31f_row0_col1, #T_1b31f_row0_col2, #T_1b31f_row0_col3, #T_1b31f_row0_col4, #T_1b31f_row0_col5, #T_1b31f_row1_col0, #T_1b31f_row1_col1, #T_1b31f_row1_col2, #T_1b31f_row1_col3, #T_1b31f_row1_col4, #T_1b31f_row1_col5, #T_1b31f_row2_col0, #T_1b31f_row2_col1, #T_1b31f_row2_col2, #T_1b31f_row2_col3, #T_1b31f_row2_col4, #T_1b31f_row2_col5 {\n",
       "  font-family: monospace;\n",
       "}\n",
       "</style>\n",
       "<table id=\"T_1b31f\">\n",
       "  <thead>\n",
       "    <tr>\n",
       "      <th class=\"blank level0\" >&nbsp;</th>\n",
       "      <th id=\"T_1b31f_level0_col0\" class=\"col_heading level0 col0\" >reps</th>\n",
       "      <th id=\"T_1b31f_level0_col1\" class=\"col_heading level0 col1\" >ET</th>\n",
       "      <th id=\"T_1b31f_level0_col2\" class=\"col_heading level0 col2\" >IC</th>\n",
       "      <th id=\"T_1b31f_level0_col3\" class=\"col_heading level0 col3\" >CPI</th>\n",
       "      <th id=\"T_1b31f_level0_col4\" class=\"col_heading level0 col4\" >MHz</th>\n",
       "      <th id=\"T_1b31f_level0_col5\" class=\"col_heading level0 col5\" >CT</th>\n",
       "    </tr>\n",
       "  </thead>\n",
       "  <tbody>\n",
       "    <tr>\n",
       "      <th id=\"T_1b31f_level0_row0\" class=\"row_heading level0 row0\" >0</th>\n",
       "      <td id=\"T_1b31f_row0_col0\" class=\"data row0 col0\" >25</td>\n",
       "      <td id=\"T_1b31f_row0_col1\" class=\"data row0 col1\" >0.106621</td>\n",
       "      <td id=\"T_1b31f_row0_col2\" class=\"data row0 col2\" >1835382345</td>\n",
       "      <td id=\"T_1b31f_row0_col3\" class=\"data row0 col3\" >0.231314</td>\n",
       "      <td id=\"T_1b31f_row0_col4\" class=\"data row0 col4\" >3981.903920</td>\n",
       "      <td id=\"T_1b31f_row0_col5\" class=\"data row0 col5\" >0.251139</td>\n",
       "    </tr>\n",
       "    <tr>\n",
       "      <th id=\"T_1b31f_level0_row1\" class=\"row_heading level0 row1\" >1</th>\n",
       "      <td id=\"T_1b31f_row1_col0\" class=\"data row1 col0\" >50</td>\n",
       "      <td id=\"T_1b31f_row1_col1\" class=\"data row1 col1\" >0.212712</td>\n",
       "      <td id=\"T_1b31f_row1_col2\" class=\"data row1 col2\" >3670699124</td>\n",
       "      <td id=\"T_1b31f_row1_col3\" class=\"data row1 col3\" >0.230918</td>\n",
       "      <td id=\"T_1b31f_row1_col4\" class=\"data row1 col4\" >3984.861285</td>\n",
       "      <td id=\"T_1b31f_row1_col5\" class=\"data row1 col5\" >0.250952</td>\n",
       "    </tr>\n",
       "    <tr>\n",
       "      <th id=\"T_1b31f_level0_row2\" class=\"row_heading level0 row2\" >2</th>\n",
       "      <td id=\"T_1b31f_row2_col0\" class=\"data row2 col0\" >100</td>\n",
       "      <td id=\"T_1b31f_row2_col1\" class=\"data row2 col1\" >0.454120</td>\n",
       "      <td id=\"T_1b31f_row2_col2\" class=\"data row2 col2\" >7341477157</td>\n",
       "      <td id=\"T_1b31f_row2_col3\" class=\"data row2 col3\" >0.246423</td>\n",
       "      <td id=\"T_1b31f_row2_col4\" class=\"data row2 col4\" >3983.802665</td>\n",
       "      <td id=\"T_1b31f_row2_col5\" class=\"data row2 col5\" >0.251018</td>\n",
       "    </tr>\n",
       "  </tbody>\n",
       "</table>\n"
      ],
      "text/plain": [
       "<pandas.io.formats.style.Styler at 0x7fab6f4cd340>"
      ]
     },
     "metadata": {},
     "output_type": "display_data"
    },
    {
     "data": {
      "image/png": "[encoded data removed]",
      "text/plain": [
       "<Figure size 1152x288 with 4 Axes>"
      ]
     },
     "metadata": {
      "needs_background": "light"
     },
     "output_type": "display_data"
    }
   ],
   "source": [
    "df = IC_avg_and_combine(\"25.csv\", \"50.csv\", \"100.csv\")\n",
    "plotPE(df=df, lines=True, what=[ ('reps', \"IC\"), (\"reps\", \"CPI\"), (\"reps\", \"CT\"), (\"reps\", \"ET\") ], columns=4)\n",
    "display_mono(df[[\"reps\"] +  columns])"
   ]
  },
  {
   "cell_type": "markdown",
   "metadata": {
    "deletable": false,
    "editable": false,
    "tags": []
   },
   "source": [
    "As we run the same function multiple times, the instances of instructions performing the computation by this function will also increase. This number of instruction instances is the exact \"instruction count\" that we should use in the classic CPU performance equation. However, we won't know how many instances of instructions every time we execute the program until the parameters like \"-reps\" are set, we also refer this number of instances as **dynamic instructions** in the rest of the class.\n",
    "\n",
    "### Increasing the Size of `array`\n",
    "\n",
    "Instead of increasing `reps` we can increase the size of `array` so we'll run the same computation over more data.\n",
    "We will vary the size over a very large range: 10,000 to 20,480,000.\n",
    "\n",
    "Kick off the cell below to collect the data.  While it's running answer this question:"
   ]
  },
  {
   "cell_type": "code",
   "execution_count": 42,
   "metadata": {
    "deletable": false,
    "editable": false,
    "tags": []
   },
   "outputs": [
    {
     "name": "stdout",
     "output_type": "stream",
     "text": [
      "The key is already registered\n"
     ]
    },
    {
     "data": {
      "text/html": [
       "<style>div.prompt, code, output, prompt, kbd, pre, samp {font-family: 'SF Mono', 'Courier New', Courier, monospace, sans-serif !important;}</style>"
      ],
      "text/plain": [
       "<IPython.core.display.HTML object>"
      ]
     },
     "metadata": {},
     "output_type": "display_data"
    },
    {
     "name": "stdout",
     "output_type": "stream",
     "text": [
      "Done loading notebook! We're good to go!\n",
      "Execution complete\n"
     ]
    }
   ],
   "source": [
    "!cs203 run './microbench.exe -o array_size.csv -reps 25 -M 4000 -function baseline_int -size 10000 20000 40000'"
   ]
  },
  {
   "cell_type": "code",
   "execution_count": 47,
   "metadata": {
    "cs203.is_response": true,
    "deletable": false,
    "editable": false,
    "tags": []
   },
   "outputs": [
    {
     "data": {
      "text/html": [
       "<style type=\"text/css\">\n",
       "#T_aa810_row0_col0, #T_aa810_row0_col1, #T_aa810_row0_col2, #T_aa810_row0_col3, #T_aa810_row0_col4, #T_aa810_row0_col5, #T_aa810_row1_col0, #T_aa810_row1_col1, #T_aa810_row1_col2, #T_aa810_row1_col3, #T_aa810_row1_col4, #T_aa810_row1_col5, #T_aa810_row2_col0, #T_aa810_row2_col1, #T_aa810_row2_col2, #T_aa810_row2_col3, #T_aa810_row2_col4, #T_aa810_row2_col5 {\n",
       "  font-family: monospace;\n",
       "}\n",
       "</style>\n",
       "<table id=\"T_aa810\">\n",
       "  <thead>\n",
       "    <tr>\n",
       "      <th class=\"blank level0\" >&nbsp;</th>\n",
       "      <th id=\"T_aa810_level0_col0\" class=\"col_heading level0 col0\" >size</th>\n",
       "      <th id=\"T_aa810_level0_col1\" class=\"col_heading level0 col1\" >ET</th>\n",
       "      <th id=\"T_aa810_level0_col2\" class=\"col_heading level0 col2\" >IC</th>\n",
       "      <th id=\"T_aa810_level0_col3\" class=\"col_heading level0 col3\" >CPI</th>\n",
       "      <th id=\"T_aa810_level0_col4\" class=\"col_heading level0 col4\" >MHz</th>\n",
       "      <th id=\"T_aa810_level0_col5\" class=\"col_heading level0 col5\" >CT</th>\n",
       "    </tr>\n",
       "  </thead>\n",
       "  <tbody>\n",
       "    <tr>\n",
       "      <th id=\"T_aa810_level0_row0\" class=\"row_heading level0 row0\" >0</th>\n",
       "      <td id=\"T_aa810_row0_col0\" class=\"data row0 col0\" >10000</td>\n",
       "      <td id=\"T_aa810_row0_col1\" class=\"data row0 col1\" >0.000037</td>\n",
       "      <td id=\"T_aa810_row0_col2\" class=\"data row0 col2\" >703477.840000</td>\n",
       "      <td id=\"T_aa810_row0_col3\" class=\"data row0 col3\" >0.209268</td>\n",
       "      <td id=\"T_aa810_row0_col4\" class=\"data row0 col4\" >3978.673685</td>\n",
       "      <td id=\"T_aa810_row0_col5\" class=\"data row0 col5\" >0.251510</td>\n",
       "    </tr>\n",
       "    <tr>\n",
       "      <th id=\"T_aa810_level0_row1\" class=\"row_heading level0 row1\" >1</th>\n",
       "      <td id=\"T_aa810_row1_col0\" class=\"data row1 col0\" >20000</td>\n",
       "      <td id=\"T_aa810_row1_col1\" class=\"data row1 col1\" >0.000073</td>\n",
       "      <td id=\"T_aa810_row1_col2\" class=\"data row1 col2\" >1403346.000000</td>\n",
       "      <td id=\"T_aa810_row1_col3\" class=\"data row1 col3\" >0.207830</td>\n",
       "      <td id=\"T_aa810_row1_col4\" class=\"data row1 col4\" >3975.902958</td>\n",
       "      <td id=\"T_aa810_row1_col5\" class=\"data row1 col5\" >0.251527</td>\n",
       "    </tr>\n",
       "    <tr>\n",
       "      <th id=\"T_aa810_level0_row2\" class=\"row_heading level0 row2\" >2</th>\n",
       "      <td id=\"T_aa810_row2_col0\" class=\"data row2 col0\" >40000</td>\n",
       "      <td id=\"T_aa810_row2_col1\" class=\"data row2 col1\" >0.000144</td>\n",
       "      <td id=\"T_aa810_row2_col2\" class=\"data row2 col2\" >2803803.160000</td>\n",
       "      <td id=\"T_aa810_row2_col3\" class=\"data row2 col3\" >0.204108</td>\n",
       "      <td id=\"T_aa810_row2_col4\" class=\"data row2 col4\" >3985.348361</td>\n",
       "      <td id=\"T_aa810_row2_col5\" class=\"data row2 col5\" >0.250923</td>\n",
       "    </tr>\n",
       "  </tbody>\n",
       "</table>\n"
      ],
      "text/plain": [
       "<pandas.io.formats.style.Styler at 0x7faabe15fb80>"
      ]
     },
     "metadata": {},
     "output_type": "display_data"
    },
    {
     "data": {
      "image/png": "[encoded data removed]",
      "text/plain": [
       "<Figure size 1440x288 with 4 Axes>"
      ]
     },
     "metadata": {
      "needs_background": "light"
     },
     "output_type": "display_data"
    }
   ],
   "source": [
    "df=render_csv(\"array_size.csv\", columns=columns, average_by=\"size\")\n",
    "plotPE(df=df, lines=True, what=[ ('size', \"IC\"), (\"size\", \"CPI\"), (\"size\", \"CT\"),(\"size\", \"ET\")], columns=5, average_by=\"size\")\n",
    "display_mono(df)"
   ]
  },
  {
   "cell_type": "markdown",
   "metadata": {
    "deletable": false,
    "editable": false,
    "tags": []
   },
   "source": [
    "<div class=\"alert alert-block alert-danger\">\n",
    "    \n",
    "**Answer the question _before_ you look at the results.**  The goal of this question (and many more to follow) is for you to predict the answer and then see if the results match your intuition.  Don't be discouraged if you frequently get the prediction wrong:  They are intentionally challenging.  Also, a major goal of the assignment is to highlight behavior that seems _non-intuitive_ so you can _improve your intuition_.\n",
    "</div>\n",
    "\n",
    "Kick off the cell below to generate the data.  While it's running answer this question:"
   ]
  },
  {
   "cell_type": "code",
   "execution_count": 60,
   "metadata": {
    "deletable": false,
    "editable": false,
    "tags": []
   },
   "outputs": [
    {
     "name": "stdout",
     "output_type": "stream",
     "text": [
      "Execution complete\n"
     ]
    }
   ],
   "source": [
    "!cs203 run './microbench.exe -o array_size.csv -reps 25 -M 4000 -function baseline_int -size 10000 20000  40000 80000 160000 320000 640000 1280000 2560000 5120000 10240000'"
   ]
  },
  {
   "cell_type": "markdown",
   "metadata": {
    "cs203.is_response": true,
    "cs203.points": 1,
    "cs203.question_type": "completeness",
    "deletable": false,
    "editable": false,
    "tags": []
   },
   "source": [
    "<div class=\"alert alert-block alert-info\">\n",
    "\n",
    "### Question 3 (Completeness)\n",
    "\n",
    "\n",
    "\n",
    "This time, the four graphs will show each term of the performance equation changes as we increase `-size`.  What do you think the value of each element in classic CPU performance equation will be? For each term, write down and explain the value when `size` is at 80,000.\n",
    "\n",
    "</div>\n",
    "</div>"
   ]
  },
  {
   "cell_type": "markdown",
   "metadata": {
    "cs203.is_response": true,
    "cs203.points": 1,
    "cs203.question_type": "completeness",
    "deletable": false,
    "editable": true
   },
   "source": [
    "<div class=\"alert alert-block alert-info\">\n",
    "<div class=\"answer\">\n",
    "Answer:\n",
    "\n",
    "|      | Value at `-size` == 80,000 | \n",
    "|-----|---------|\n",
    "| IC  |         |\n",
    "| CPI |         |\n",
    "| CT  |         |\n",
    "| ET  |         |\n",
    "\n",
    "    \n",
    "Please explain why and show your formula (use latex please).\n",
    "\n",
    "</div>\n",
    "</div>"
   ]
  },
  {
   "cell_type": "markdown",
   "metadata": {
    "deletable": false,
    "editable": false,
    "tags": []
   },
   "source": [
    "Now, let's plot the result and verify your prediction and see how even larger `size`s affects the metrics."
   ]
  },
  {
   "cell_type": "code",
   "execution_count": 61,
   "metadata": {
    "cs203.is_response": true,
    "deletable": false,
    "editable": false,
    "tags": []
   },
   "outputs": [
    {
     "data": {
      "text/html": [
       "<style type=\"text/css\">\n",
       "#T_d78b4_row0_col0, #T_d78b4_row0_col1, #T_d78b4_row0_col2, #T_d78b4_row0_col3, #T_d78b4_row0_col4, #T_d78b4_row0_col5, #T_d78b4_row1_col0, #T_d78b4_row1_col1, #T_d78b4_row1_col2, #T_d78b4_row1_col3, #T_d78b4_row1_col4, #T_d78b4_row1_col5, #T_d78b4_row2_col0, #T_d78b4_row2_col1, #T_d78b4_row2_col2, #T_d78b4_row2_col3, #T_d78b4_row2_col4, #T_d78b4_row2_col5, #T_d78b4_row3_col0, #T_d78b4_row3_col1, #T_d78b4_row3_col2, #T_d78b4_row3_col3, #T_d78b4_row3_col4, #T_d78b4_row3_col5, #T_d78b4_row4_col0, #T_d78b4_row4_col1, #T_d78b4_row4_col2, #T_d78b4_row4_col3, #T_d78b4_row4_col4, #T_d78b4_row4_col5, #T_d78b4_row5_col0, #T_d78b4_row5_col1, #T_d78b4_row5_col2, #T_d78b4_row5_col3, #T_d78b4_row5_col4, #T_d78b4_row5_col5, #T_d78b4_row6_col0, #T_d78b4_row6_col1, #T_d78b4_row6_col2, #T_d78b4_row6_col3, #T_d78b4_row6_col4, #T_d78b4_row6_col5, #T_d78b4_row7_col0, #T_d78b4_row7_col1, #T_d78b4_row7_col2, #T_d78b4_row7_col3, #T_d78b4_row7_col4, #T_d78b4_row7_col5, #T_d78b4_row8_col0, #T_d78b4_row8_col1, #T_d78b4_row8_col2, #T_d78b4_row8_col3, #T_d78b4_row8_col4, #T_d78b4_row8_col5, #T_d78b4_row9_col0, #T_d78b4_row9_col1, #T_d78b4_row9_col2, #T_d78b4_row9_col3, #T_d78b4_row9_col4, #T_d78b4_row9_col5, #T_d78b4_row10_col0, #T_d78b4_row10_col1, #T_d78b4_row10_col2, #T_d78b4_row10_col3, #T_d78b4_row10_col4, #T_d78b4_row10_col5 {\n",
       "  font-family: monospace;\n",
       "}\n",
       "</style>\n",
       "<table id=\"T_d78b4\">\n",
       "  <thead>\n",
       "    <tr>\n",
       "      <th class=\"blank level0\" >&nbsp;</th>\n",
       "      <th id=\"T_d78b4_level0_col0\" class=\"col_heading level0 col0\" >size</th>\n",
       "      <th id=\"T_d78b4_level0_col1\" class=\"col_heading level0 col1\" >ET</th>\n",
       "      <th id=\"T_d78b4_level0_col2\" class=\"col_heading level0 col2\" >IC</th>\n",
       "      <th id=\"T_d78b4_level0_col3\" class=\"col_heading level0 col3\" >CPI</th>\n",
       "      <th id=\"T_d78b4_level0_col4\" class=\"col_heading level0 col4\" >MHz</th>\n",
       "      <th id=\"T_d78b4_level0_col5\" class=\"col_heading level0 col5\" >CT</th>\n",
       "    </tr>\n",
       "  </thead>\n",
       "  <tbody>\n",
       "    <tr>\n",
       "      <th id=\"T_d78b4_level0_row0\" class=\"row_heading level0 row0\" >0</th>\n",
       "      <td id=\"T_d78b4_row0_col0\" class=\"data row0 col0\" >10000</td>\n",
       "      <td id=\"T_d78b4_row0_col1\" class=\"data row0 col1\" >0.000044</td>\n",
       "      <td id=\"T_d78b4_row0_col2\" class=\"data row0 col2\" >704301.400000</td>\n",
       "      <td id=\"T_d78b4_row0_col3\" class=\"data row0 col3\" >0.244805</td>\n",
       "      <td id=\"T_d78b4_row0_col4\" class=\"data row0 col4\" >3966.783845</td>\n",
       "      <td id=\"T_d78b4_row0_col5\" class=\"data row0 col5\" >0.252709</td>\n",
       "    </tr>\n",
       "    <tr>\n",
       "      <th id=\"T_d78b4_level0_row1\" class=\"row_heading level0 row1\" >1</th>\n",
       "      <td id=\"T_d78b4_row1_col0\" class=\"data row1 col0\" >20000</td>\n",
       "      <td id=\"T_d78b4_row1_col1\" class=\"data row1 col1\" >0.000083</td>\n",
       "      <td id=\"T_d78b4_row1_col2\" class=\"data row1 col2\" >1403821.720000</td>\n",
       "      <td id=\"T_d78b4_row1_col3\" class=\"data row1 col3\" >0.235428</td>\n",
       "      <td id=\"T_d78b4_row1_col4\" class=\"data row1 col4\" >3980.462416</td>\n",
       "      <td id=\"T_d78b4_row1_col5\" class=\"data row1 col5\" >0.251238</td>\n",
       "    </tr>\n",
       "    <tr>\n",
       "      <th id=\"T_d78b4_level0_row2\" class=\"row_heading level0 row2\" >2</th>\n",
       "      <td id=\"T_d78b4_row2_col0\" class=\"data row2 col0\" >40000</td>\n",
       "      <td id=\"T_d78b4_row2_col1\" class=\"data row2 col1\" >0.000163</td>\n",
       "      <td id=\"T_d78b4_row2_col2\" class=\"data row2 col2\" >2803346.000000</td>\n",
       "      <td id=\"T_d78b4_row2_col3\" class=\"data row2 col3\" >0.231176</td>\n",
       "      <td id=\"T_d78b4_row2_col4\" class=\"data row2 col4\" >3987.632242</td>\n",
       "      <td id=\"T_d78b4_row2_col5\" class=\"data row2 col5\" >0.250777</td>\n",
       "    </tr>\n",
       "    <tr>\n",
       "      <th id=\"T_d78b4_level0_row3\" class=\"row_heading level0 row3\" >3</th>\n",
       "      <td id=\"T_d78b4_row3_col0\" class=\"data row3 col0\" >80000</td>\n",
       "      <td id=\"T_d78b4_row3_col1\" class=\"data row3 col1\" >0.000337</td>\n",
       "      <td id=\"T_d78b4_row3_col2\" class=\"data row3 col2\" >5605042.160000</td>\n",
       "      <td id=\"T_d78b4_row3_col3\" class=\"data row3 col3\" >0.239887</td>\n",
       "      <td id=\"T_d78b4_row3_col4\" class=\"data row3 col4\" >3985.136541</td>\n",
       "      <td id=\"T_d78b4_row3_col5\" class=\"data row3 col5\" >0.250936</td>\n",
       "    </tr>\n",
       "    <tr>\n",
       "      <th id=\"T_d78b4_level0_row4\" class=\"row_heading level0 row4\" >4</th>\n",
       "      <td id=\"T_d78b4_row4_col0\" class=\"data row4 col0\" >160000</td>\n",
       "      <td id=\"T_d78b4_row4_col1\" class=\"data row4 col1\" >0.000670</td>\n",
       "      <td id=\"T_d78b4_row4_col2\" class=\"data row4 col2\" >11205507.000000</td>\n",
       "      <td id=\"T_d78b4_row4_col3\" class=\"data row4 col3\" >0.238470</td>\n",
       "      <td id=\"T_d78b4_row4_col4\" class=\"data row4 col4\" >3988.707426</td>\n",
       "      <td id=\"T_d78b4_row4_col5\" class=\"data row4 col5\" >0.250708</td>\n",
       "    </tr>\n",
       "    <tr>\n",
       "      <th id=\"T_d78b4_level0_row5\" class=\"row_heading level0 row5\" >5</th>\n",
       "      <td id=\"T_d78b4_row5_col0\" class=\"data row5 col0\" >320000</td>\n",
       "      <td id=\"T_d78b4_row5_col1\" class=\"data row5 col1\" >0.001252</td>\n",
       "      <td id=\"T_d78b4_row5_col2\" class=\"data row5 col2\" >22407173.040000</td>\n",
       "      <td id=\"T_d78b4_row5_col3\" class=\"data row5 col3\" >0.222979</td>\n",
       "      <td id=\"T_d78b4_row5_col4\" class=\"data row5 col4\" >3989.406002</td>\n",
       "      <td id=\"T_d78b4_row5_col5\" class=\"data row5 col5\" >0.250664</td>\n",
       "    </tr>\n",
       "    <tr>\n",
       "      <th id=\"T_d78b4_level0_row6\" class=\"row_heading level0 row6\" >6</th>\n",
       "      <td id=\"T_d78b4_row6_col0\" class=\"data row6 col0\" >640000</td>\n",
       "      <td id=\"T_d78b4_row6_col1\" class=\"data row6 col1\" >0.002501</td>\n",
       "      <td id=\"T_d78b4_row6_col2\" class=\"data row6 col2\" >44812041.160000</td>\n",
       "      <td id=\"T_d78b4_row6_col3\" class=\"data row6 col3\" >0.222632</td>\n",
       "      <td id=\"T_d78b4_row6_col4\" class=\"data row6 col4\" >3988.803483</td>\n",
       "      <td id=\"T_d78b4_row6_col5\" class=\"data row6 col5\" >0.250702</td>\n",
       "    </tr>\n",
       "    <tr>\n",
       "      <th id=\"T_d78b4_level0_row7\" class=\"row_heading level0 row7\" >7</th>\n",
       "      <td id=\"T_d78b4_row7_col0\" class=\"data row7 col0\" >1280000</td>\n",
       "      <td id=\"T_d78b4_row7_col1\" class=\"data row7 col1\" >0.005448</td>\n",
       "      <td id=\"T_d78b4_row7_col2\" class=\"data row7 col2\" >89615464.520000</td>\n",
       "      <td id=\"T_d78b4_row7_col3\" class=\"data row7 col3\" >0.241891</td>\n",
       "      <td id=\"T_d78b4_row7_col4\" class=\"data row7 col4\" >3979.023806</td>\n",
       "      <td id=\"T_d78b4_row7_col5\" class=\"data row7 col5\" >0.251321</td>\n",
       "    </tr>\n",
       "    <tr>\n",
       "      <th id=\"T_d78b4_level0_row8\" class=\"row_heading level0 row8\" >8</th>\n",
       "      <td id=\"T_d78b4_row8_col0\" class=\"data row8 col0\" >2560000</td>\n",
       "      <td id=\"T_d78b4_row8_col1\" class=\"data row8 col1\" >0.011216</td>\n",
       "      <td id=\"T_d78b4_row8_col2\" class=\"data row8 col2\" >179227960.760000</td>\n",
       "      <td id=\"T_d78b4_row8_col3\" class=\"data row8 col3\" >0.248896</td>\n",
       "      <td id=\"T_d78b4_row8_col4\" class=\"data row8 col4\" >3977.351488</td>\n",
       "      <td id=\"T_d78b4_row8_col5\" class=\"data row8 col5\" >0.251424</td>\n",
       "    </tr>\n",
       "    <tr>\n",
       "      <th id=\"T_d78b4_level0_row9\" class=\"row_heading level0 row9\" >9</th>\n",
       "      <td id=\"T_d78b4_row9_col0\" class=\"data row9 col0\" >5120000</td>\n",
       "      <td id=\"T_d78b4_row9_col1\" class=\"data row9 col1\" >0.022885</td>\n",
       "      <td id=\"T_d78b4_row9_col2\" class=\"data row9 col2\" >358453212.560000</td>\n",
       "      <td id=\"T_d78b4_row9_col3\" class=\"data row9 col3\" >0.253916</td>\n",
       "      <td id=\"T_d78b4_row9_col4\" class=\"data row9 col4\" >3977.090130</td>\n",
       "      <td id=\"T_d78b4_row9_col5\" class=\"data row9 col5\" >0.251440</td>\n",
       "    </tr>\n",
       "    <tr>\n",
       "      <th id=\"T_d78b4_level0_row10\" class=\"row_heading level0 row10\" >10</th>\n",
       "      <td id=\"T_d78b4_row10_col0\" class=\"data row10 col0\" >10240000</td>\n",
       "      <td id=\"T_d78b4_row10_col1\" class=\"data row10 col1\" >0.045781</td>\n",
       "      <td id=\"T_d78b4_row10_col2\" class=\"data row10 col2\" >716885557.200000</td>\n",
       "      <td id=\"T_d78b4_row10_col3\" class=\"data row10 col3\" >0.254170</td>\n",
       "      <td id=\"T_d78b4_row10_col4\" class=\"data row10 col4\" >3980.000512</td>\n",
       "      <td id=\"T_d78b4_row10_col5\" class=\"data row10 col5\" >0.251256</td>\n",
       "    </tr>\n",
       "  </tbody>\n",
       "</table>\n"
      ],
      "text/plain": [
       "<pandas.io.formats.style.Styler at 0x7fab6f69b940>"
      ]
     },
     "metadata": {},
     "output_type": "display_data"
    },
    {
     "data": {
      "image/png": "[encoded data removed]",
      "text/plain": [
       "<Figure size 1440x288 with 4 Axes>"
      ]
     },
     "metadata": {
      "needs_background": "light"
     },
     "output_type": "display_data"
    }
   ],
   "source": [
    "df=render_csv(\"array_size.csv\", columns=columns, average_by=\"size\")\n",
    "plotPE(df=df, lines=True, what=[ ('size', \"IC\"), (\"size\", \"CPI\"), (\"size\", \"CT\"),(\"size\", \"ET\")], columns=5, average_by=\"size\")\n",
    "display_mono(df)"
   ]
  },
  {
   "cell_type": "markdown",
   "metadata": {
    "deletable": false,
    "editable": false,
    "tags": []
   },
   "source": [
    "Does the result match your predictions? What do you find surprising?"
   ]
  },
  {
   "cell_type": "markdown",
   "metadata": {
    "deletable": false,
    "editable": false,
    "tags": []
   },
   "source": [
    "<div class=\"alert alert-block alert-danger\">\n",
    "    \n",
    "**Interesting Question:**  Why does increasing the size of `array` change CPI?  And why does this change occur so quickly?\n",
    "    \n",
    "\n",
    "</div>"
   ]
  },
  {
   "cell_type": "markdown",
   "metadata": {
    "deletable": false,
    "editable": false,
    "tags": []
   },
   "source": [
    "## Cycle Time\n",
    "\n",
    "Next, we'll take a look at how clock rate affects performance.  Before we do, though, let's see what our options are for clock rate on our machine:"
   ]
  },
  {
   "cell_type": "code",
   "execution_count": 54,
   "metadata": {
    "deletable": false,
    "editable": false,
    "tags": []
   },
   "outputs": [
    {
     "name": "stdout",
     "output_type": "stream",
     "text": [
      "analyzing CPU 0:\n",
      "  driver: intel_pstate\n",
      "  CPUs which run at the same hardware frequency: 0\n",
      "  CPUs which need to have their frequency coordinated by software: 0\n",
      "  maximum transition latency:  Cannot determine or is not supported.\n",
      "  hardware limits: 800.000 MHz - 4.300000 GHz\n",
      "  available cpufreq governors: performance powersave\n",
      "  current policy: frequency should be within 800.000 MHz and 4.300000 GHz.\n",
      "                  The governor \"powersave\" may decide which speed to use\n",
      "                  within this range.\n",
      "  current CPU frequency: Unable to call hardware\n",
      "  current CPU frequency: 800.481 MHz (asserted by call to kernel)\n",
      "  boost state support:\n",
      "    Supported: yes\n",
      "    Active: yes\n"
     ]
    }
   ],
   "source": [
    "!cs203 run 'cpupower frequency-info -n'"
   ]
  },
  {
   "cell_type": "markdown",
   "metadata": {
    "deletable": false,
    "editable": false,
    "tags": []
   },
   "source": [
    "As you can see, the processors in our target systems can run between 800MHz and 4300MHz.\n",
    "\n",
    "Let's see how that affects things by plotting execution time as a function of clock speed (we are skipping 800MHz for the moment.  We'll come back to it.).  The readings for the current clock speed may vary from run to run.  It just ends up at whatever the last experiment left it at.\n",
    "\n",
    "Kick off the cell below to collect the data.  While it's running answer this question:"
   ]
  },
  {
   "cell_type": "code",
   "execution_count": 55,
   "metadata": {
    "cs203.is_response": true,
    "deletable": false,
    "editable": false,
    "tags": []
   },
   "outputs": [
    {
     "name": "stdout",
     "output_type": "stream",
     "text": [
      "Execution complete\n"
     ]
    }
   ],
   "source": [
    "!cs203 run './microbench.exe -o cycle_time.csv -M 800 1600 2000 3200 4000 4300 -f baseline_int -r 50'"
   ]
  },
  {
   "cell_type": "markdown",
   "metadata": {
    "cs203.is_response": true,
    "cs203.points": 1,
    "cs203.question_type": "completeness",
    "deletable": false,
    "editable": false,
    "tags": []
   },
   "source": [
    "<div class=\"alert alert-block alert-info\">\n",
    "    \n",
    "### Question 4 (Completeness)\n",
    "\n",
    "\n",
    "We are going to plot four graphs that show how each term of the performance equation changes as we increase clock rate.  What _shape_ do you think each curve will have (linear? curved?) and what _direction_ will it go (increasing? Decreasing? flat?)?  For each term, predict the ratio between its value at 4000MHz and its value at 2000Mhz.\n",
    "\n",
    "</div>"
   ]
  },
  {
   "cell_type": "markdown",
   "metadata": {
    "cs203.is_response": true,
    "cs203.points": 1,
    "cs203.question_type": "completeness",
    "deletable": false,
    "editable": true,
    "tags": []
   },
   "source": [
    "<div class=\"alert alert-block alert-info\">\n",
    "Answer:\n",
    "<div class=\"answer\">\n",
    "\n",
    "\n",
    "|      | 4000 MHz v.s. 2000 MHz |\n",
    "|-----|---------|\n",
    "| IC  |         |\n",
    "| CPI |         |\n",
    "| CT  |         |\n",
    "| ET |       |\n",
    "| Speedup |       |\n",
    "\n",
    "    \n",
    "</div>\n",
    "</div>"
   ]
  },
  {
   "cell_type": "markdown",
   "metadata": {
    "deletable": false,
    "editable": false,
    "tags": []
   },
   "source": [
    "Now, let's take a look of the result by running the following cell."
   ]
  },
  {
   "cell_type": "code",
   "execution_count": 57,
   "metadata": {
    "cs203.is_response": true,
    "deletable": false,
    "editable": false,
    "tags": []
   },
   "outputs": [
    {
     "data": {
      "text/html": [
       "<style type=\"text/css\">\n",
       "#T_df8cb_row0_col0, #T_df8cb_row0_col1, #T_df8cb_row0_col2, #T_df8cb_row0_col3, #T_df8cb_row0_col4, #T_df8cb_row0_col5, #T_df8cb_row1_col0, #T_df8cb_row1_col1, #T_df8cb_row1_col2, #T_df8cb_row1_col3, #T_df8cb_row1_col4, #T_df8cb_row1_col5, #T_df8cb_row2_col0, #T_df8cb_row2_col1, #T_df8cb_row2_col2, #T_df8cb_row2_col3, #T_df8cb_row2_col4, #T_df8cb_row2_col5, #T_df8cb_row3_col0, #T_df8cb_row3_col1, #T_df8cb_row3_col2, #T_df8cb_row3_col3, #T_df8cb_row3_col4, #T_df8cb_row3_col5, #T_df8cb_row4_col0, #T_df8cb_row4_col1, #T_df8cb_row4_col2, #T_df8cb_row4_col3, #T_df8cb_row4_col4, #T_df8cb_row4_col5, #T_df8cb_row5_col0, #T_df8cb_row5_col1, #T_df8cb_row5_col2, #T_df8cb_row5_col3, #T_df8cb_row5_col4, #T_df8cb_row5_col5 {\n",
       "  font-family: monospace;\n",
       "}\n",
       "</style>\n",
       "<table id=\"T_df8cb\">\n",
       "  <thead>\n",
       "    <tr>\n",
       "      <th class=\"blank level0\" >&nbsp;</th>\n",
       "      <th id=\"T_df8cb_level0_col0\" class=\"col_heading level0 col0\" >cmdlineMHz</th>\n",
       "      <th id=\"T_df8cb_level0_col1\" class=\"col_heading level0 col1\" >ET</th>\n",
       "      <th id=\"T_df8cb_level0_col2\" class=\"col_heading level0 col2\" >IC</th>\n",
       "      <th id=\"T_df8cb_level0_col3\" class=\"col_heading level0 col3\" >CPI</th>\n",
       "      <th id=\"T_df8cb_level0_col4\" class=\"col_heading level0 col4\" >MHz</th>\n",
       "      <th id=\"T_df8cb_level0_col5\" class=\"col_heading level0 col5\" >CT</th>\n",
       "    </tr>\n",
       "  </thead>\n",
       "  <tbody>\n",
       "    <tr>\n",
       "      <th id=\"T_df8cb_level0_row0\" class=\"row_heading level0 row0\" >0</th>\n",
       "      <td id=\"T_df8cb_row0_col0\" class=\"data row0 col0\" >800</td>\n",
       "      <td id=\"T_df8cb_row0_col1\" class=\"data row0 col1\" >0.022137</td>\n",
       "      <td id=\"T_df8cb_row0_col2\" class=\"data row0 col2\" >73446956.440000</td>\n",
       "      <td id=\"T_df8cb_row0_col3\" class=\"data row0 col3\" >0.240277</td>\n",
       "      <td id=\"T_df8cb_row0_col4\" class=\"data row0 col4\" >797.226457</td>\n",
       "      <td id=\"T_df8cb_row0_col5\" class=\"data row0 col5\" >1.254349</td>\n",
       "    </tr>\n",
       "    <tr>\n",
       "      <th id=\"T_df8cb_level0_row1\" class=\"row_heading level0 row1\" >1</th>\n",
       "      <td id=\"T_df8cb_row1_col0\" class=\"data row1 col0\" >1600</td>\n",
       "      <td id=\"T_df8cb_row1_col1\" class=\"data row1 col1\" >0.011854</td>\n",
       "      <td id=\"T_df8cb_row1_col2\" class=\"data row1 col2\" >73429703.380000</td>\n",
       "      <td id=\"T_df8cb_row1_col3\" class=\"data row1 col3\" >0.256388</td>\n",
       "      <td id=\"T_df8cb_row1_col4\" class=\"data row1 col4\" >1588.158137</td>\n",
       "      <td id=\"T_df8cb_row1_col5\" class=\"data row1 col5\" >0.629665</td>\n",
       "    </tr>\n",
       "    <tr>\n",
       "      <th id=\"T_df8cb_level0_row2\" class=\"row_heading level0 row2\" >2</th>\n",
       "      <td id=\"T_df8cb_row2_col0\" class=\"data row2 col0\" >2000</td>\n",
       "      <td id=\"T_df8cb_row2_col1\" class=\"data row2 col1\" >0.008694</td>\n",
       "      <td id=\"T_df8cb_row2_col2\" class=\"data row2 col2\" >73424046.580000</td>\n",
       "      <td id=\"T_df8cb_row2_col3\" class=\"data row2 col3\" >0.234999</td>\n",
       "      <td id=\"T_df8cb_row2_col4\" class=\"data row2 col4\" >1984.626524</td>\n",
       "      <td id=\"T_df8cb_row2_col5\" class=\"data row2 col5\" >0.503879</td>\n",
       "    </tr>\n",
       "    <tr>\n",
       "      <th id=\"T_df8cb_level0_row3\" class=\"row_heading level0 row3\" >3</th>\n",
       "      <td id=\"T_df8cb_row3_col0\" class=\"data row3 col0\" >3200</td>\n",
       "      <td id=\"T_df8cb_row3_col1\" class=\"data row3 col1\" >0.005735</td>\n",
       "      <td id=\"T_df8cb_row3_col2\" class=\"data row3 col2\" >73417701.280000</td>\n",
       "      <td id=\"T_df8cb_row3_col3\" class=\"data row3 col3\" >0.248684</td>\n",
       "      <td id=\"T_df8cb_row3_col4\" class=\"data row3 col4\" >3183.555833</td>\n",
       "      <td id=\"T_df8cb_row3_col5\" class=\"data row3 col5\" >0.314118</td>\n",
       "    </tr>\n",
       "    <tr>\n",
       "      <th id=\"T_df8cb_level0_row4\" class=\"row_heading level0 row4\" >4</th>\n",
       "      <td id=\"T_df8cb_row4_col0\" class=\"data row4 col0\" >4000</td>\n",
       "      <td id=\"T_df8cb_row4_col1\" class=\"data row4 col1\" >0.004531</td>\n",
       "      <td id=\"T_df8cb_row4_col2\" class=\"data row4 col2\" >73414974.920000</td>\n",
       "      <td id=\"T_df8cb_row4_col3\" class=\"data row4 col3\" >0.246075</td>\n",
       "      <td id=\"T_df8cb_row4_col4\" class=\"data row4 col4\" >3986.882533</td>\n",
       "      <td id=\"T_df8cb_row4_col5\" class=\"data row4 col5\" >0.250824</td>\n",
       "    </tr>\n",
       "    <tr>\n",
       "      <th id=\"T_df8cb_level0_row5\" class=\"row_heading level0 row5\" >5</th>\n",
       "      <td id=\"T_df8cb_row5_col0\" class=\"data row5 col0\" >4300</td>\n",
       "      <td id=\"T_df8cb_row5_col1\" class=\"data row5 col1\" >0.004406</td>\n",
       "      <td id=\"T_df8cb_row5_col2\" class=\"data row5 col2\" >73414842.200000</td>\n",
       "      <td id=\"T_df8cb_row5_col3\" class=\"data row5 col3\" >0.246117</td>\n",
       "      <td id=\"T_df8cb_row5_col4\" class=\"data row5 col4\" >4101.421338</td>\n",
       "      <td id=\"T_df8cb_row5_col5\" class=\"data row5 col5\" >0.243859</td>\n",
       "    </tr>\n",
       "  </tbody>\n",
       "</table>\n"
      ],
      "text/plain": [
       "<pandas.io.formats.style.Styler at 0x7fab6f447c10>"
      ]
     },
     "metadata": {},
     "output_type": "display_data"
    },
    {
     "data": {
      "image/png": "[encoded data removed]",
      "text/plain": [
       "<Figure size 1152x288 with 4 Axes>"
      ]
     },
     "metadata": {
      "needs_background": "light"
     },
     "output_type": "display_data"
    }
   ],
   "source": [
    "df = render_csv(\"cycle_time.csv\", columns=columns, average_by=\"cmdlineMHz\")\n",
    "plotPE(df=df, lines=True, what=[ ('cmdlineMHz', \"IC\"), (\"cmdlineMHz\", \"CPI\"), (\"cmdlineMHz\", \"CT\"), (\"cmdlineMHz\", \"ET\") ], columns=4, average_by=\"cmdlineMHz\")\n",
    "display_mono(df)"
   ]
  },
  {
   "cell_type": "markdown",
   "metadata": {
    "deletable": false,
    "editable": false,
    "tags": []
   },
   "source": [
    "Compare the actual ratio of the values at 4000MHz and 2000MHZ.  How do these results differ from what you expected?  How much speedup does double doubling the clock rate provide?"
   ]
  },
  {
   "attachments": {
    "image.png": {
     "image/png": "[encoded data removed]"
    }
   },
   "cell_type": "markdown",
   "metadata": {
    "deletable": false,
    "tags": []
   },
   "source": [
    "<div class=\"alert alert-block alert-danger\">\n",
    "    \n",
    "**Interesting question:** How can clock rate affect `CPI`?\n",
    "    \n",
    "![image.png](attachment:image.png)\n",
    "</div>"
   ]
  },
  {
   "cell_type": "markdown",
   "metadata": {
    "deletable": false,
    "editable": false,
    "tags": []
   },
   "source": [
    "## Cycles Per Instruction\n",
    "\n",
    "Unlike `IC` and `CT` we can't set `CPI` directly, but we can adjust the code and see how `CPI` changes.  We'll do this in two ways.  First, we'll change the data type we are operating on. Then, we'll change the compiler options.  Finally, we'll restructure the code.\n",
    "\n",
    "### Floating Point vs Integer Operations\n",
    "\n",
    "Here's `baseline_double()` (on the left) that is identical to `baseline_int()` (on the right) but uses 64-bit floating point values (of type `double`) point instead of 64-bit integers (`uint64_t`):"
   ]
  },
  {
   "cell_type": "code",
   "execution_count": null,
   "metadata": {
    "deletable": false,
    "editable": false,
    "init_cell": true,
    "tags": []
   },
   "outputs": [],
   "source": [
    "compare([do_render_code(\"microbench.cpp\", show=\"baseline_double\"),\n",
    "        do_render_code(\"microbench.cpp\", show=\"baseline_int\")])\n",
    "     "
   ]
  },
  {
   "cell_type": "markdown",
   "metadata": {
    "deletable": false,
    "editable": false,
    "tags": []
   },
   "source": [
    "Kick off the the cell below to run both functions, and answer this question:"
   ]
  },
  {
   "cell_type": "code",
   "execution_count": 9,
   "metadata": {
    "deletable": false,
    "editable": false,
    "tags": []
   },
   "outputs": [
    {
     "name": "stdout",
     "output_type": "stream",
     "text": [
      "make: 'microbench.exe' is up to date.\n",
      "Execution complete\n"
     ]
    }
   ],
   "source": [
    "!make  microbench.exe\n",
    "!cs203 run './microbench.exe -o int_double.csv  -r 25 -M 4000 -function baseline_int baseline_double'"
   ]
  },
  {
   "cell_type": "markdown",
   "metadata": {
    "cs203.is_response": true,
    "cs203.points": 1,
    "cs203.question_type": "completeness",
    "deletable": false,
    "editable": false,
    "tags": []
   },
   "source": [
    "<div class=\"alert alert-block alert-info\">\n",
    "    \n",
    "### Question 5 (Completeness)\n",
    "\n",
    " \n",
    "How do you think each term in the performance equation will change for `baseline_double()` compared to `baseline_int()`?\n",
    "    \n",
    "</div>\n",
    "</div>"
   ]
  },
  {
   "cell_type": "markdown",
   "metadata": {
    "cs203.is_response": true,
    "cs203.points": 1,
    "cs203.question_type": "completeness",
    "deletable": false,
    "editable": true
   },
   "source": [
    "<div class=\"alert alert-block alert-info\"> \n",
    "Answer:\n",
    "<div class=\"answer\">\n",
    "\n",
    "\n",
    "|      | `baseline_double()` v.s. `baseline_int()` |\n",
    "|-----|---------|\n",
    "| IC  |         |\n",
    "| CPI |         |\n",
    "| CT  |         |\n",
    "| ET |       |\n",
    "| Speedup |       |\n",
    "\n",
    "Please also explain why you think your prediction makes sense.\n",
    "</div>\n",
    "</div>"
   ]
  },
  {
   "cell_type": "markdown",
   "metadata": {
    "deletable": false,
    "editable": false,
    "tags": []
   },
   "source": [
    "Now, let's check the result!"
   ]
  },
  {
   "cell_type": "code",
   "execution_count": 10,
   "metadata": {
    "deletable": false,
    "editable": false,
    "tags": []
   },
   "outputs": [
    {
     "data": {
      "text/html": [
       "<style type=\"text/css\">\n",
       "#T_edf1e_row0_col0, #T_edf1e_row0_col1, #T_edf1e_row0_col2, #T_edf1e_row0_col3, #T_edf1e_row0_col4, #T_edf1e_row1_col0, #T_edf1e_row1_col1, #T_edf1e_row1_col2, #T_edf1e_row1_col3, #T_edf1e_row1_col4 {\n",
       "  font-family: monospace;\n",
       "}\n",
       "</style>\n",
       "<table id=\"T_edf1e\">\n",
       "  <thead>\n",
       "    <tr>\n",
       "      <th class=\"blank level0\" >&nbsp;</th>\n",
       "      <th id=\"T_edf1e_level0_col0\" class=\"col_heading level0 col0\" >function</th>\n",
       "      <th id=\"T_edf1e_level0_col1\" class=\"col_heading level0 col1\" >IC</th>\n",
       "      <th id=\"T_edf1e_level0_col2\" class=\"col_heading level0 col2\" >CPI</th>\n",
       "      <th id=\"T_edf1e_level0_col3\" class=\"col_heading level0 col3\" >CT</th>\n",
       "      <th id=\"T_edf1e_level0_col4\" class=\"col_heading level0 col4\" >ET</th>\n",
       "    </tr>\n",
       "  </thead>\n",
       "  <tbody>\n",
       "    <tr>\n",
       "      <th id=\"T_edf1e_level0_row0\" class=\"row_heading level0 row0\" >0</th>\n",
       "      <td id=\"T_edf1e_row0_col0\" class=\"data row0 col0\" >baseline_double</td>\n",
       "      <td id=\"T_edf1e_row0_col1\" class=\"data row0 col1\" >87050020.560000</td>\n",
       "      <td id=\"T_edf1e_row0_col2\" class=\"data row0 col2\" >0.303999</td>\n",
       "      <td id=\"T_edf1e_row0_col3\" class=\"data row0 col3\" >0.250625</td>\n",
       "      <td id=\"T_edf1e_row0_col4\" class=\"data row0 col4\" >0.006632</td>\n",
       "    </tr>\n",
       "    <tr>\n",
       "      <th id=\"T_edf1e_level0_row1\" class=\"row_heading level0 row1\" >1</th>\n",
       "      <td id=\"T_edf1e_row1_col0\" class=\"data row1 col0\" >baseline_int</td>\n",
       "      <td id=\"T_edf1e_row1_col1\" class=\"data row1 col1\" >73414236.720000</td>\n",
       "      <td id=\"T_edf1e_row1_col2\" class=\"data row1 col2\" >0.232551</td>\n",
       "      <td id=\"T_edf1e_row1_col3\" class=\"data row1 col3\" >0.250946</td>\n",
       "      <td id=\"T_edf1e_row1_col4\" class=\"data row1 col4\" >0.004284</td>\n",
       "    </tr>\n",
       "  </tbody>\n",
       "</table>\n"
      ],
      "text/plain": [
       "<pandas.io.formats.style.Styler at 0x7f7355574580>"
      ]
     },
     "metadata": {},
     "output_type": "display_data"
    },
    {
     "data": {
      "image/png": "[encoded data removed]",
      "text/plain": [
       "<Figure size 1600x400 with 4 Axes>"
      ]
     },
     "metadata": {
      "needs_background": "light"
     },
     "output_type": "display_data"
    }
   ],
   "source": [
    "df = render_csv(\"int_double.csv\", columns=[\"IC\", \"CPI\", \"CT\", \"ET\"], average_by=\"function\")\n",
    "plotPEBar(df=df, what=[ ('function', \"IC\"), (\"function\", \"CPI\"), (\"function\", \"CT\"), (\"function\", \"ET\") ], \n",
    "          columns=4, average_by=\"function\")\n",
    "display_mono(df)"
   ]
  },
  {
   "cell_type": "markdown",
   "metadata": {
    "deletable": false,
    "editable": false,
    "tags": []
   },
   "source": [
    "Are you surprised with the result? As the processor uses different ALUs in processing floating points and integers, and typically the logic of floating operations are more complex, we should imagine floating operations are significantly slower than integers -- so don't use them unless you really have to!"
   ]
  },
  {
   "cell_type": "markdown",
   "metadata": {
    "cs203.is_response": true,
    "cs203.question_type": "optional",
    "deletable": false,
    "editable": false,
    "tags": []
   },
   "source": [
    "<div class=\"alert alert-block alert-info\">\n",
    "\n",
    "### Question 6 (Completeness)\n",
    " \n",
    "In `microbench.cpp` there are also `baseline_char()` and `baseline_float()`. Copy the code cells above and modify them to see how those functions compare.  What did you find?\n",
    "    \n",
    "</div>"
   ]
  },
  {
   "cell_type": "code",
   "execution_count": null,
   "metadata": {
    "cs203.is_response": true,
    "deletable": false,
    "editable": true,
    "tags": []
   },
   "outputs": [],
   "source": [
    "#Put your commands here\n"
   ]
  },
  {
   "cell_type": "markdown",
   "metadata": {
    "cs203.is_response": true,
    "cs203.question_type": "optional",
    "deletable": false,
    "tags": []
   },
   "source": [
    "<div class=\"alert alert-block alert-info\">   \n",
    "<div class=\"answer\">\n",
    "Answer: \n",
    "</div> \n",
    "</div>"
   ]
  },
  {
   "attachments": {
    "image.png": {
     "image/png": "[encoded data removed]"
    }
   },
   "cell_type": "markdown",
   "metadata": {
    "deletable": false,
    "editable": false,
    "tags": []
   },
   "source": [
    "<div class=\"alert alert-block alert-danger\">\n",
    "\n",
    "**Interesting question:** How and why do the datatypes we use change `IC` and `CPI`?\n",
    "    \n",
    "![image.png](attachment:image.png)\n",
    "    \n",
    "_Does anyone else think this version of the \"thinking\" emoji looks like an alien?_\n",
    "</div>"
   ]
  },
  {
   "cell_type": "markdown",
   "metadata": {
    "deletable": false,
    "editable": false,
    "tags": []
   },
   "source": [
    "### The Compiler's Effect\n",
    "\n",
    "`microbench.cpp` contains the following function:"
   ]
  },
  {
   "cell_type": "code",
   "execution_count": 11,
   "metadata": {
    "deletable": false,
    "editable": false,
    "tags": []
   },
   "outputs": [
    {
     "data": {
      "text/html": [
       "<style>pre { line-height: 125%; }\n",
       "td.linenos .normal { color: inherit; background-color: transparent; padding-left: 5px; padding-right: 5px; }\n",
       "span.linenos { color: inherit; background-color: transparent; padding-left: 5px; padding-right: 5px; }\n",
       "td.linenos .special { color: #000000; background-color: #ffffc0; padding-left: 5px; padding-right: 5px; }\n",
       "span.linenos.special { color: #000000; background-color: #ffffc0; padding-left: 5px; padding-right: 5px; }\n",
       ".output_html .hll { background-color: #ffffcc }\n",
       ".output_html { background: #f8f8f8; }\n",
       ".output_html .c { color: #3D7B7B; font-style: italic } /* Comment */\n",
       ".output_html .err { border: 1px solid #FF0000 } /* Error */\n",
       ".output_html .k { color: #008000; font-weight: bold } /* Keyword */\n",
       ".output_html .o { color: #666666 } /* Operator */\n",
       ".output_html .ch { color: #3D7B7B; font-style: italic } /* Comment.Hashbang */\n",
       ".output_html .cm { color: #3D7B7B; font-style: italic } /* Comment.Multiline */\n",
       ".output_html .cp { color: #9C6500 } /* Comment.Preproc */\n",
       ".output_html .cpf { color: #3D7B7B; font-style: italic } /* Comment.PreprocFile */\n",
       ".output_html .c1 { color: #3D7B7B; font-style: italic } /* Comment.Single */\n",
       ".output_html .cs { color: #3D7B7B; font-style: italic } /* Comment.Special */\n",
       ".output_html .gd { color: #A00000 } /* Generic.Deleted */\n",
       ".output_html .ge { font-style: italic } /* Generic.Emph */\n",
       ".output_html .ges { font-weight: bold; font-style: italic } /* Generic.EmphStrong */\n",
       ".output_html .gr { color: #E40000 } /* Generic.Error */\n",
       ".output_html .gh { color: #000080; font-weight: bold } /* Generic.Heading */\n",
       ".output_html .gi { color: #008400 } /* Generic.Inserted */\n",
       ".output_html .go { color: #717171 } /* Generic.Output */\n",
       ".output_html .gp { color: #000080; font-weight: bold } /* Generic.Prompt */\n",
       ".output_html .gs { font-weight: bold } /* Generic.Strong */\n",
       ".output_html .gu { color: #800080; font-weight: bold } /* Generic.Subheading */\n",
       ".output_html .gt { color: #0044DD } /* Generic.Traceback */\n",
       ".output_html .kc { color: #008000; font-weight: bold } /* Keyword.Constant */\n",
       ".output_html .kd { color: #008000; font-weight: bold } /* Keyword.Declaration */\n",
       ".output_html .kn { color: #008000; font-weight: bold } /* Keyword.Namespace */\n",
       ".output_html .kp { color: #008000 } /* Keyword.Pseudo */\n",
       ".output_html .kr { color: #008000; font-weight: bold } /* Keyword.Reserved */\n",
       ".output_html .kt { color: #B00040 } /* Keyword.Type */\n",
       ".output_html .m { color: #666666 } /* Literal.Number */\n",
       ".output_html .s { color: #BA2121 } /* Literal.String */\n",
       ".output_html .na { color: #687822 } /* Name.Attribute */\n",
       ".output_html .nb { color: #008000 } /* Name.Builtin */\n",
       ".output_html .nc { color: #0000FF; font-weight: bold } /* Name.Class */\n",
       ".output_html .no { color: #880000 } /* Name.Constant */\n",
       ".output_html .nd { color: #AA22FF } /* Name.Decorator */\n",
       ".output_html .ni { color: #717171; font-weight: bold } /* Name.Entity */\n",
       ".output_html .ne { color: #CB3F38; font-weight: bold } /* Name.Exception */\n",
       ".output_html .nf { color: #0000FF } /* Name.Function */\n",
       ".output_html .nl { color: #767600 } /* Name.Label */\n",
       ".output_html .nn { color: #0000FF; font-weight: bold } /* Name.Namespace */\n",
       ".output_html .nt { color: #008000; font-weight: bold } /* Name.Tag */\n",
       ".output_html .nv { color: #19177C } /* Name.Variable */\n",
       ".output_html .ow { color: #AA22FF; font-weight: bold } /* Operator.Word */\n",
       ".output_html .w { color: #bbbbbb } /* Text.Whitespace */\n",
       ".output_html .mb { color: #666666 } /* Literal.Number.Bin */\n",
       ".output_html .mf { color: #666666 } /* Literal.Number.Float */\n",
       ".output_html .mh { color: #666666 } /* Literal.Number.Hex */\n",
       ".output_html .mi { color: #666666 } /* Literal.Number.Integer */\n",
       ".output_html .mo { color: #666666 } /* Literal.Number.Oct */\n",
       ".output_html .sa { color: #BA2121 } /* Literal.String.Affix */\n",
       ".output_html .sb { color: #BA2121 } /* Literal.String.Backtick */\n",
       ".output_html .sc { color: #BA2121 } /* Literal.String.Char */\n",
       ".output_html .dl { color: #BA2121 } /* Literal.String.Delimiter */\n",
       ".output_html .sd { color: #BA2121; font-style: italic } /* Literal.String.Doc */\n",
       ".output_html .s2 { color: #BA2121 } /* Literal.String.Double */\n",
       ".output_html .se { color: #AA5D1F; font-weight: bold } /* Literal.String.Escape */\n",
       ".output_html .sh { color: #BA2121 } /* Literal.String.Heredoc */\n",
       ".output_html .si { color: #A45A77; font-weight: bold } /* Literal.String.Interpol */\n",
       ".output_html .sx { color: #008000 } /* Literal.String.Other */\n",
       ".output_html .sr { color: #A45A77 } /* Literal.String.Regex */\n",
       ".output_html .s1 { color: #BA2121 } /* Literal.String.Single */\n",
       ".output_html .ss { color: #19177C } /* Literal.String.Symbol */\n",
       ".output_html .bp { color: #008000 } /* Name.Builtin.Pseudo */\n",
       ".output_html .fm { color: #0000FF } /* Name.Function.Magic */\n",
       ".output_html .vc { color: #19177C } /* Name.Variable.Class */\n",
       ".output_html .vg { color: #19177C } /* Name.Variable.Global */\n",
       ".output_html .vi { color: #19177C } /* Name.Variable.Instance */\n",
       ".output_html .vm { color: #19177C } /* Name.Variable.Magic */\n",
       ".output_html .il { color: #666666 } /* Literal.Number.Integer.Long */</style><div class=\"highlight\"><pre><span></span><span class=\"c1\">// microbench.cpp:39-52 (14 lines)</span>\n",
       "<span class=\"k\">extern</span><span class=\"w\"> </span><span class=\"s\">&quot;C&quot;</span><span class=\"w\"> </span><span class=\"kt\">uint64_t</span><span class=\"w\"> </span><span class=\"o\">*</span><span class=\"n\">__attribute__</span><span class=\"w\"> </span><span class=\"p\">((</span><span class=\"n\">optimize</span><span class=\"p\">(</span><span class=\"mi\">4</span><span class=\"p\">)))</span><span class=\"w\"> </span><span class=\"n\">baseline_int_O4</span><span class=\"w\"> </span><span class=\"p\">(</span><span class=\"kt\">uint64_t</span><span class=\"w\"> </span><span class=\"o\">*</span><span class=\"w\"> </span><span class=\"n\">array</span><span class=\"p\">,</span><span class=\"w\"> </span><span class=\"kt\">unsigned</span><span class=\"w\"> </span><span class=\"kt\">long</span><span class=\"w\"> </span><span class=\"kt\">int</span><span class=\"w\"> </span><span class=\"n\">size</span><span class=\"p\">)</span><span class=\"w\"> </span><span class=\"p\">{</span>\n",
       "<span class=\"w\">    </span><span class=\"c1\">//uint64_t * array = new uint64_t[size];</span>\n",
       "<span class=\"w\">    </span><span class=\"k\">for</span><span class=\"p\">(</span><span class=\"n\">uint</span><span class=\"w\"> </span><span class=\"n\">i</span><span class=\"w\"> </span><span class=\"o\">=</span><span class=\"w\"> </span><span class=\"mi\">0</span><span class=\"p\">;</span><span class=\"w\"> </span><span class=\"n\">i</span><span class=\"w\"> </span><span class=\"o\">&lt;</span><span class=\"w\"> </span><span class=\"n\">size</span><span class=\"p\">;</span><span class=\"w\"> </span><span class=\"n\">i</span><span class=\"o\">++</span><span class=\"p\">)</span><span class=\"w\"> </span><span class=\"p\">{</span>\n",
       "<span class=\"w\">        </span><span class=\"n\">array</span><span class=\"p\">[</span><span class=\"n\">i</span><span class=\"p\">]</span><span class=\"w\"> </span><span class=\"o\">=</span><span class=\"w\"> </span><span class=\"mi\">0</span><span class=\"p\">;</span>\n",
       "<span class=\"w\">    </span><span class=\"p\">}</span>\n",
       "\n",
       "<span class=\"w\">    </span><span class=\"k\">for</span><span class=\"w\"> </span><span class=\"p\">(</span><span class=\"n\">uint</span><span class=\"w\"> </span><span class=\"n\">j</span><span class=\"w\"> </span><span class=\"o\">=</span><span class=\"w\"> </span><span class=\"mi\">0</span><span class=\"p\">;</span><span class=\"w\"> </span><span class=\"n\">j</span><span class=\"w\"> </span><span class=\"o\">&lt;</span><span class=\"w\"> </span><span class=\"mi\">3</span><span class=\"p\">;</span><span class=\"w\"> </span><span class=\"n\">j</span><span class=\"o\">++</span><span class=\"p\">)</span><span class=\"w\"> </span><span class=\"p\">{</span>\n",
       "<span class=\"w\">        </span><span class=\"k\">for</span><span class=\"p\">(</span><span class=\"n\">uint</span><span class=\"w\"> </span><span class=\"n\">i</span><span class=\"o\">=</span><span class=\"w\"> </span><span class=\"mi\">1</span><span class=\"w\"> </span><span class=\"p\">;</span><span class=\"w\"> </span><span class=\"n\">i</span><span class=\"w\"> </span><span class=\"o\">&lt;</span><span class=\"w\"> </span><span class=\"n\">size</span><span class=\"p\">;</span><span class=\"w\"> </span><span class=\"n\">i</span><span class=\"o\">++</span><span class=\"p\">)</span><span class=\"w\"> </span><span class=\"p\">{</span>\n",
       "<span class=\"w\">            </span><span class=\"n\">array</span><span class=\"p\">[</span><span class=\"n\">i</span><span class=\"p\">]</span><span class=\"w\"> </span><span class=\"o\">+=</span><span class=\"w\"> </span><span class=\"n\">i</span><span class=\"o\">*</span><span class=\"p\">(</span><span class=\"mi\">1</span><span class=\"o\">+</span><span class=\"n\">j</span><span class=\"p\">);</span>\n",
       "<span class=\"w\">        </span><span class=\"p\">}</span>\n",
       "\n",
       "<span class=\"w\">    </span><span class=\"p\">}</span>\n",
       "<span class=\"w\">    </span><span class=\"k\">return</span><span class=\"w\"> </span><span class=\"n\">array</span><span class=\"p\">;</span>\n",
       "<span class=\"p\">}</span>\n",
       "</pre></div>\n"
      ],
      "text/latex": [
       "\\begin{Verbatim}[commandchars=\\\\\\{\\}]\n",
       "\\PY{c+c1}{// microbench.cpp:39\\PYZhy{}52 (14 lines)}\n",
       "\\PY{k}{extern}\\PY{+w}{ }\\PY{l+s}{\\PYZdq{}}\\PY{l+s}{C}\\PY{l+s}{\\PYZdq{}}\\PY{+w}{ }\\PY{k+kt}{uint64\\PYZus{}t}\\PY{+w}{ }\\PY{o}{*}\\PY{n}{\\PYZus{}\\PYZus{}attribute\\PYZus{}\\PYZus{}}\\PY{+w}{ }\\PY{p}{(}\\PY{p}{(}\\PY{n}{optimize}\\PY{p}{(}\\PY{l+m+mi}{4}\\PY{p}{)}\\PY{p}{)}\\PY{p}{)}\\PY{+w}{ }\\PY{n}{baseline\\PYZus{}int\\PYZus{}O4}\\PY{+w}{ }\\PY{p}{(}\\PY{k+kt}{uint64\\PYZus{}t}\\PY{+w}{ }\\PY{o}{*}\\PY{+w}{ }\\PY{n}{array}\\PY{p}{,}\\PY{+w}{ }\\PY{k+kt}{unsigned}\\PY{+w}{ }\\PY{k+kt}{long}\\PY{+w}{ }\\PY{k+kt}{int}\\PY{+w}{ }\\PY{n}{size}\\PY{p}{)}\\PY{+w}{ }\\PY{p}{\\PYZob{}}\n",
       "\\PY{+w}{    }\\PY{c+c1}{//uint64\\PYZus{}t * array = new uint64\\PYZus{}t[size];}\n",
       "\\PY{+w}{    }\\PY{k}{for}\\PY{p}{(}\\PY{n}{uint}\\PY{+w}{ }\\PY{n}{i}\\PY{+w}{ }\\PY{o}{=}\\PY{+w}{ }\\PY{l+m+mi}{0}\\PY{p}{;}\\PY{+w}{ }\\PY{n}{i}\\PY{+w}{ }\\PY{o}{\\PYZlt{}}\\PY{+w}{ }\\PY{n}{size}\\PY{p}{;}\\PY{+w}{ }\\PY{n}{i}\\PY{o}{+}\\PY{o}{+}\\PY{p}{)}\\PY{+w}{ }\\PY{p}{\\PYZob{}}\n",
       "\\PY{+w}{        }\\PY{n}{array}\\PY{p}{[}\\PY{n}{i}\\PY{p}{]}\\PY{+w}{ }\\PY{o}{=}\\PY{+w}{ }\\PY{l+m+mi}{0}\\PY{p}{;}\n",
       "\\PY{+w}{    }\\PY{p}{\\PYZcb{}}\n",
       "\n",
       "\\PY{+w}{    }\\PY{k}{for}\\PY{+w}{ }\\PY{p}{(}\\PY{n}{uint}\\PY{+w}{ }\\PY{n}{j}\\PY{+w}{ }\\PY{o}{=}\\PY{+w}{ }\\PY{l+m+mi}{0}\\PY{p}{;}\\PY{+w}{ }\\PY{n}{j}\\PY{+w}{ }\\PY{o}{\\PYZlt{}}\\PY{+w}{ }\\PY{l+m+mi}{3}\\PY{p}{;}\\PY{+w}{ }\\PY{n}{j}\\PY{o}{+}\\PY{o}{+}\\PY{p}{)}\\PY{+w}{ }\\PY{p}{\\PYZob{}}\n",
       "\\PY{+w}{        }\\PY{k}{for}\\PY{p}{(}\\PY{n}{uint}\\PY{+w}{ }\\PY{n}{i}\\PY{o}{=}\\PY{+w}{ }\\PY{l+m+mi}{1}\\PY{+w}{ }\\PY{p}{;}\\PY{+w}{ }\\PY{n}{i}\\PY{+w}{ }\\PY{o}{\\PYZlt{}}\\PY{+w}{ }\\PY{n}{size}\\PY{p}{;}\\PY{+w}{ }\\PY{n}{i}\\PY{o}{+}\\PY{o}{+}\\PY{p}{)}\\PY{+w}{ }\\PY{p}{\\PYZob{}}\n",
       "\\PY{+w}{            }\\PY{n}{array}\\PY{p}{[}\\PY{n}{i}\\PY{p}{]}\\PY{+w}{ }\\PY{o}{+}\\PY{o}{=}\\PY{+w}{ }\\PY{n}{i}\\PY{o}{*}\\PY{p}{(}\\PY{l+m+mi}{1}\\PY{o}{+}\\PY{n}{j}\\PY{p}{)}\\PY{p}{;}\n",
       "\\PY{+w}{        }\\PY{p}{\\PYZcb{}}\n",
       "\n",
       "\\PY{+w}{    }\\PY{p}{\\PYZcb{}}\n",
       "\\PY{+w}{    }\\PY{k}{return}\\PY{+w}{ }\\PY{n}{array}\\PY{p}{;}\n",
       "\\PY{p}{\\PYZcb{}}\n",
       "\\end{Verbatim}\n"
      ],
      "text/plain": [
       "// microbench.cpp:39-52 (14 lines)\n",
       "extern \"C\" uint64_t *__attribute__ ((optimize(4))) baseline_int_O4 (uint64_t * array, unsigned long int size) {\n",
       "    //uint64_t * array = new uint64_t[size];\n",
       "    for(uint i = 0; i < size; i++) {\n",
       "        array[i] = 0;\n",
       "    }\n",
       "\n",
       "    for (uint j = 0; j < 3; j++) {\n",
       "        for(uint i= 1 ; i < size; i++) {\n",
       "            array[i] += i*(1+j);\n",
       "        }\n",
       "\n",
       "    }\n",
       "    return array;\n",
       "}"
      ]
     },
     "metadata": {},
     "output_type": "display_data"
    }
   ],
   "source": [
    "render_code(\"microbench.cpp\", show=\"baseline_int_O4\")"
   ]
  },
  {
   "cell_type": "markdown",
   "metadata": {
    "deletable": false,
    "editable": false,
    "tags": []
   },
   "source": [
    "It's identical to `baseline_int()` except that for the `__attribute__ ((optimize(4)))` which is a little bit of `gcc` magic to optimize this functions as much as it can (it's the equivalent of passing `-O4` on the command line but just for this function).\n",
    "\n",
    "Let's see how optimizations affect performance.  Kick off the experiment in the cell below and answer this question after it finishes:"
   ]
  },
  {
   "cell_type": "code",
   "execution_count": 17,
   "metadata": {
    "cs203.is_response": true,
    "deletable": false,
    "editable": false,
    "tags": []
   },
   "outputs": [
    {
     "name": "stdout",
     "output_type": "stream",
     "text": [
      "Execution complete\n"
     ]
    },
    {
     "data": {
      "text/html": [
       "<style type=\"text/css\">\n",
       "#T_964fa_row0_col0, #T_964fa_row0_col1, #T_964fa_row0_col2, #T_964fa_row0_col3, #T_964fa_row0_col4, #T_964fa_row1_col0, #T_964fa_row1_col1, #T_964fa_row1_col2, #T_964fa_row1_col3, #T_964fa_row1_col4 {\n",
       "  font-family: monospace;\n",
       "}\n",
       "</style>\n",
       "<table id=\"T_964fa\">\n",
       "  <thead>\n",
       "    <tr>\n",
       "      <th class=\"blank level0\" >&nbsp;</th>\n",
       "      <th id=\"T_964fa_level0_col0\" class=\"col_heading level0 col0\" >function</th>\n",
       "      <th id=\"T_964fa_level0_col1\" class=\"col_heading level0 col1\" >IC</th>\n",
       "      <th id=\"T_964fa_level0_col2\" class=\"col_heading level0 col2\" >CPI</th>\n",
       "      <th id=\"T_964fa_level0_col3\" class=\"col_heading level0 col3\" >CT</th>\n",
       "      <th id=\"T_964fa_level0_col4\" class=\"col_heading level0 col4\" >ET</th>\n",
       "    </tr>\n",
       "  </thead>\n",
       "  <tbody>\n",
       "    <tr>\n",
       "      <th id=\"T_964fa_level0_row0\" class=\"row_heading level0 row0\" >0</th>\n",
       "      <td id=\"T_964fa_row0_col0\" class=\"data row0 col0\" >baseline_int</td>\n",
       "      <td id=\"T_964fa_row0_col1\" class=\"data row0 col1\" >73413291.360000</td>\n",
       "      <td id=\"T_964fa_row0_col2\" class=\"data row0 col2\" >0.229425</td>\n",
       "      <td id=\"T_964fa_row0_col3\" class=\"data row0 col3\" >0.251032</td>\n",
       "      <td id=\"T_964fa_row0_col4\" class=\"data row0 col4\" >0.004228</td>\n",
       "    </tr>\n",
       "    <tr>\n",
       "      <th id=\"T_964fa_level0_row1\" class=\"row_heading level0 row1\" >1</th>\n",
       "      <td id=\"T_964fa_row1_col0\" class=\"data row1 col0\" >baseline_int_O4</td>\n",
       "      <td id=\"T_964fa_row1_col1\" class=\"data row1 col1\" >27270370.960000</td>\n",
       "      <td id=\"T_964fa_row1_col2\" class=\"data row1 col2\" >0.245046</td>\n",
       "      <td id=\"T_964fa_row1_col3\" class=\"data row1 col3\" >0.250802</td>\n",
       "      <td id=\"T_964fa_row1_col4\" class=\"data row1 col4\" >0.001676</td>\n",
       "    </tr>\n",
       "  </tbody>\n",
       "</table>\n"
      ],
      "text/plain": [
       "<pandas.io.formats.style.Styler at 0x7f734905f4f0>"
      ]
     },
     "metadata": {},
     "output_type": "display_data"
    },
    {
     "data": {
      "image/png": "[encoded data removed]",
      "text/plain": [
       "<Figure size 1600x400 with 4 Axes>"
      ]
     },
     "metadata": {
      "needs_background": "light"
     },
     "output_type": "display_data"
    }
   ],
   "source": [
    "!cs203 run './microbench.exe -o opt.csv  -r 25  -M  4000 -f  baseline_int baseline_int_O4'\n",
    "df= render_csv(\"opt.csv\", columns=[\"IC\", \"CPI\", \"CT\", \"ET\",], average_by=\"function\")\n",
    "plotPEBar(df=df, what=[ ('function', \"IC\"), (\"function\", \"CPI\"), (\"function\", \"CT\"), (\"function\", \"ET\") ], columns=4, average_by=\"function\")\n",
    "display_mono(df)"
   ]
  },
  {
   "cell_type": "markdown",
   "metadata": {
    "cs203.is_response": true,
    "cs203.points": 1,
    "cs203.question_type": "completeness",
    "deletable": false,
    "editable": false,
    "tags": []
   },
   "source": [
    "<div class=\"alert alert-block alert-success\">\n",
    "    \n",
    "### Question 7 (Correctness)\n",
    "\n",
    "  \n",
    "What did you observe the change of each term in the performance equation for `baseline_int()` compared to `baseline_int_O4()`? Why do you think you observed such changes?\n",
    "\n",
    "</div>"
   ]
  },
  {
   "cell_type": "markdown",
   "metadata": {
    "cs203.is_response": true,
    "cs203.points": 1,
    "cs203.question_type": "completeness",
    "deletable": false,
    "editable": true
   },
   "source": [
    " \n",
    "<div class=\"alert alert-block alert-success\">  \n",
    "Answer:\n",
    "<div class=\"answer\">\n",
    "\n",
    "\n",
    "|      | `baseline_int_O4()` v.s. `baseline_int()` |\n",
    "|-----|---------|\n",
    "| IC  |         |\n",
    "| CPI |         |\n",
    "| CT  |         |\n",
    "| ET |       |\n",
    "| Speedup |       |\n",
    "\n",
    "Please also explain\n",
    "</div>\n",
    "</div>"
   ]
  },
  {
   "cell_type": "markdown",
   "metadata": {
    "deletable": false,
    "editable": false,
    "tags": []
   },
   "source": [
    "For the experiments above, we should have a pretty good sense regarding by what and how much each factor performance can be affected. Now, let's try the question below and put together everything we have learned so far."
   ]
  },
  {
   "cell_type": "markdown",
   "metadata": {
    "cs203.is_response": true,
    "cs203.points": 1,
    "cs203.question_type": "completeness",
    "deletable": false,
    "editable": false,
    "tags": []
   },
   "source": [
    "<div class=\"alert alert-block alert-success\">\n",
    "    \n",
    "### Question 8 (Correctness)\n",
    "\n",
    "For the `microbench.exe` program above, if we set `-r` as 25, `-size` as 20480000. Please estimate the speedup of running `baseline_int_O4()` at 2000MHz comapred to the baseline configration of running `baseline_int()` at 4000MHz.\n",
    "\n",
    "</div>"
   ]
  },
  {
   "cell_type": "markdown",
   "metadata": {
    "cs203.is_response": true,
    "cs203.points": 1,
    "cs203.question_type": "completeness",
    "deletable": false,
    "editable": true,
    "tags": []
   },
   "source": [
    " \n",
    "<div class=\"alert alert-block alert-success\">  \n",
    "Answer:\n",
    "<div class=\"answer\">\n",
    "\n",
    "\n",
    "|      | `baseline_int_O4()` at 2000MHz v.s. `baseline_int()` at 4000MHz  |\n",
    "|-----|---------|\n",
    "| IC  |         |\n",
    "| CPI |         |\n",
    "| CT  |         |\n",
    "| ET |       |\n",
    "| Speedup |       |\n",
    "\n",
    "Please try to complete the table above, show your numerical computation and also explain why your answers make sense.\n",
    "</div>\n",
    "</div>"
   ]
  },
  {
   "cell_type": "markdown",
   "metadata": {
    "deletable": false,
    "editable": false,
    "tags": []
   },
   "source": [
    "Other than compiler optimizations, the programmer has the power to affect the CPI! Let's take a look of the following few examples.\n",
    "\n",
    "### Code Structure\n",
    "\n",
    "\n",
    "These two functions increment all the elements in an array by `1.0`, but they do it slightly different ways."
   ]
  },
  {
   "cell_type": "code",
   "execution_count": null,
   "metadata": {
    "deletable": false,
    "editable": false,
    "init_cell": true,
    "tags": []
   },
   "outputs": [],
   "source": [
    "compare([do_render_code(\"microbench.cpp\", show=\"matrix_row_major\"),\n",
    "         do_render_code(\"microbench.cpp\", show=\"matrix_column_major\")])"
   ]
  },
  {
   "cell_type": "markdown",
   "metadata": {
    "deletable": false,
    "editable": false,
    "tags": []
   },
   "source": [
    "We'll run both versions and compare their performance.  Kick off the  experiment below and answer this question:"
   ]
  },
  {
   "cell_type": "markdown",
   "metadata": {
    "cs203.is_response": true,
    "cs203.points": 1,
    "cs203.question_type": "completeness",
    "deletable": false,
    "editable": false,
    "tags": []
   },
   "source": [
    "<div class=\"alert alert-block alert-success\">\n",
    "\n",
    "### Question 9 (Correctness)\n",
    "\n",
    "  \n",
    "If `size` is equal to 8,388,608 how many times will \"This Line\" execute in each function? What's the algorithm complexity of each implementation? If every instruction takes about the same time, do you think one will be faster than the other?  Why?\n",
    "    \n",
    "</div>"
   ]
  },
  {
   "cell_type": "markdown",
   "metadata": {
    "cs203.is_response": true,
    "cs203.points": 1,
    "cs203.question_type": "completeness",
    "deletable": false,
    "editable": true
   },
   "source": [
    "<div class=\"alert alert-block alert-success\">  \n",
    "Answer:\n",
    "<div class=\"answer\">\n",
    "        \n",
    "**How many times does `This Line` execute in `matrix_row_major()`:**\n",
    "\n",
    "\n",
    "    \n",
    "**How many times does `This Line` execute in `matrix_column_major()`:**\n",
    "\n",
    "\n",
    "    \n",
    "**Is there any difference in the \"Big-O\" running time of these two functions?**\n",
    "\n",
    "\n",
    "    \n",
    "**Do you think one will be faster than the other if every instruction takes the same time?  Why?**\n",
    "\n",
    "</div>\n",
    "</div>"
   ]
  },
  {
   "cell_type": "code",
   "execution_count": 23,
   "metadata": {
    "deletable": false,
    "editable": false,
    "tags": []
   },
   "outputs": [
    {
     "name": "stdout",
     "output_type": "stream",
     "text": [
      "Execution complete\n"
     ]
    }
   ],
   "source": [
    "!cs203 run  './microbench.exe -o matrix.csv -size 8388608 -r 25  -M  4000 -f  matrix_row_major matrix_column_major'\n"
   ]
  },
  {
   "cell_type": "code",
   "execution_count": 25,
   "metadata": {
    "deletable": false,
    "editable": false,
    "tags": []
   },
   "outputs": [
    {
     "data": {
      "text/html": [
       "<style type=\"text/css\">\n",
       "#T_14165_row0_col0, #T_14165_row0_col1, #T_14165_row0_col2, #T_14165_row0_col3, #T_14165_row0_col4, #T_14165_row1_col0, #T_14165_row1_col1, #T_14165_row1_col2, #T_14165_row1_col3, #T_14165_row1_col4 {\n",
       "  font-family: monospace;\n",
       "}\n",
       "</style>\n",
       "<table id=\"T_14165\">\n",
       "  <thead>\n",
       "    <tr>\n",
       "      <th class=\"blank level0\" >&nbsp;</th>\n",
       "      <th id=\"T_14165_level0_col0\" class=\"col_heading level0 col0\" >function</th>\n",
       "      <th id=\"T_14165_level0_col1\" class=\"col_heading level0 col1\" >IC</th>\n",
       "      <th id=\"T_14165_level0_col2\" class=\"col_heading level0 col2\" >CPI</th>\n",
       "      <th id=\"T_14165_level0_col3\" class=\"col_heading level0 col3\" >CT</th>\n",
       "      <th id=\"T_14165_level0_col4\" class=\"col_heading level0 col4\" >ET</th>\n",
       "    </tr>\n",
       "  </thead>\n",
       "  <tbody>\n",
       "    <tr>\n",
       "      <th id=\"T_14165_level0_row0\" class=\"row_heading level0 row0\" >0</th>\n",
       "      <td id=\"T_14165_row0_col0\" class=\"data row0 col0\" >matrix_column_major</td>\n",
       "      <td id=\"T_14165_row0_col1\" class=\"data row0 col1\" >84072972.080000</td>\n",
       "      <td id=\"T_14165_row0_col2\" class=\"data row0 col2\" >4.920932</td>\n",
       "      <td id=\"T_14165_row0_col3\" class=\"data row0 col3\" >0.250568</td>\n",
       "      <td id=\"T_14165_row0_col4\" class=\"data row0 col4\" >0.103664</td>\n",
       "    </tr>\n",
       "    <tr>\n",
       "      <th id=\"T_14165_level0_row1\" class=\"row_heading level0 row1\" >1</th>\n",
       "      <td id=\"T_14165_row1_col0\" class=\"data row1 col0\" >matrix_row_major</td>\n",
       "      <td id=\"T_14165_row1_col1\" class=\"data row1 col1\" >67187168.280000</td>\n",
       "      <td id=\"T_14165_row1_col2\" class=\"data row1 col2\" >0.307934</td>\n",
       "      <td id=\"T_14165_row1_col3\" class=\"data row1 col3\" >0.250633</td>\n",
       "      <td id=\"T_14165_row1_col4\" class=\"data row1 col4\" >0.005185</td>\n",
       "    </tr>\n",
       "  </tbody>\n",
       "</table>\n"
      ],
      "text/plain": [
       "<pandas.io.formats.style.Styler at 0x7f73497e86d0>"
      ]
     },
     "metadata": {},
     "output_type": "display_data"
    },
    {
     "data": {
      "image/png": "[encoded data removed]",
      "text/plain": [
       "<Figure size 1600x400 with 4 Axes>"
      ]
     },
     "metadata": {
      "needs_background": "light"
     },
     "output_type": "display_data"
    }
   ],
   "source": [
    "df = render_csv(\"matrix.csv\", columns=[\"IC\", \"CPI\", \"CT\", \"ET\"], average_by=\"function\")\n",
    "plotPEBar(df=df, what=[ ('function', \"IC\"), (\"function\", \"CPI\"), (\"function\", \"CT\"), (\"function\", \"ET\") ], average_by=\"function\", columns=4, skip=2)\n",
    "display_mono(df)"
   ]
  },
  {
   "cell_type": "markdown",
   "metadata": {
    "cs203.is_response": true,
    "cs203.points": 1,
    "cs203.question_type": "completeness",
    "deletable": false,
    "editable": false,
    "tags": []
   },
   "source": [
    "<div class=\"alert alert-block alert-success\">\n",
    "\n",
    "### Question 10 (Correctness)\n",
    "\n",
    "\n",
    "Calculate the speedup of `matrix_row_major` over `matrix_column_major`.  Why is this result surprising?\n",
    "\n",
    "</div>\n",
    "</div>"
   ]
  },
  {
   "cell_type": "markdown",
   "metadata": {
    "cs203.is_response": true,
    "cs203.points": 1,
    "cs203.question_type": "completeness",
    "deletable": false,
    "editable": true
   },
   "source": [
    "<div class=\"alert alert-block alert-success\">\n",
    "Answer:\n",
    "    <div class=\"answer\">\n",
    "        \n",
    "**Speedup:**\n",
    "    \n",
    "\n",
    "    \n",
    "**Why is this surprising?:**\n",
    "\n",
    "\n",
    "</div>\n",
    "</div>"
   ]
  },
  {
   "attachments": {
    "image.png": {
     "image/png": "[encoded data removed]"
    }
   },
   "cell_type": "markdown",
   "metadata": {
    "deletable": false,
    "editable": false,
    "tags": []
   },
   "source": [
    "<div class=\"alert alert-block alert-danger\">\n",
    "\n",
    "**Interesting Question:** Why does the order in which the program performs calculations affect `CPI`?\n",
    "    \n",
    "![image.png](attachment:image.png)\n",
    "</div>"
   ]
  },
  {
   "cell_type": "markdown",
   "metadata": {
    "deletable": false,
    "editable": false,
    "tags": []
   },
   "source": [
    "# Amdahl's Law"
   ]
  },
  {
   "cell_type": "markdown",
   "metadata": {
    "deletable": false,
    "editable": false,
    "tags": []
   },
   "source": [
    "Recall from cs203 that Amdahl's Law limits the speed up an optimization can provide.  It's given as \n",
    "\n",
    "$$S_{tot} = \\frac{1}{\\left(\\frac{x}{S}\\right) + (1-x)}$$\n",
    "\n",
    "Where $S$ is the speedup provided by the optimization, $x$ is the fraction of execution time affected by the optimization, and $S_{tot}$ is total speedup.\n",
    "\n",
    "The function below (also in `microbench.cpp`) calls two of the other functions we have studied."
   ]
  },
  {
   "cell_type": "code",
   "execution_count": 19,
   "metadata": {
    "deletable": false,
    "editable": false,
    "init_cell": true,
    "tags": []
   },
   "outputs": [
    {
     "data": {
      "text/html": [
       "<style>pre { line-height: 125%; }\n",
       "td.linenos .normal { color: inherit; background-color: transparent; padding-left: 5px; padding-right: 5px; }\n",
       "span.linenos { color: inherit; background-color: transparent; padding-left: 5px; padding-right: 5px; }\n",
       "td.linenos .special { color: #000000; background-color: #ffffc0; padding-left: 5px; padding-right: 5px; }\n",
       "span.linenos.special { color: #000000; background-color: #ffffc0; padding-left: 5px; padding-right: 5px; }\n",
       ".output_html .hll { background-color: #ffffcc }\n",
       ".output_html { background: #f8f8f8; }\n",
       ".output_html .c { color: #3D7B7B; font-style: italic } /* Comment */\n",
       ".output_html .err { border: 1px solid #FF0000 } /* Error */\n",
       ".output_html .k { color: #008000; font-weight: bold } /* Keyword */\n",
       ".output_html .o { color: #666666 } /* Operator */\n",
       ".output_html .ch { color: #3D7B7B; font-style: italic } /* Comment.Hashbang */\n",
       ".output_html .cm { color: #3D7B7B; font-style: italic } /* Comment.Multiline */\n",
       ".output_html .cp { color: #9C6500 } /* Comment.Preproc */\n",
       ".output_html .cpf { color: #3D7B7B; font-style: italic } /* Comment.PreprocFile */\n",
       ".output_html .c1 { color: #3D7B7B; font-style: italic } /* Comment.Single */\n",
       ".output_html .cs { color: #3D7B7B; font-style: italic } /* Comment.Special */\n",
       ".output_html .gd { color: #A00000 } /* Generic.Deleted */\n",
       ".output_html .ge { font-style: italic } /* Generic.Emph */\n",
       ".output_html .ges { font-weight: bold; font-style: italic } /* Generic.EmphStrong */\n",
       ".output_html .gr { color: #E40000 } /* Generic.Error */\n",
       ".output_html .gh { color: #000080; font-weight: bold } /* Generic.Heading */\n",
       ".output_html .gi { color: #008400 } /* Generic.Inserted */\n",
       ".output_html .go { color: #717171 } /* Generic.Output */\n",
       ".output_html .gp { color: #000080; font-weight: bold } /* Generic.Prompt */\n",
       ".output_html .gs { font-weight: bold } /* Generic.Strong */\n",
       ".output_html .gu { color: #800080; font-weight: bold } /* Generic.Subheading */\n",
       ".output_html .gt { color: #0044DD } /* Generic.Traceback */\n",
       ".output_html .kc { color: #008000; font-weight: bold } /* Keyword.Constant */\n",
       ".output_html .kd { color: #008000; font-weight: bold } /* Keyword.Declaration */\n",
       ".output_html .kn { color: #008000; font-weight: bold } /* Keyword.Namespace */\n",
       ".output_html .kp { color: #008000 } /* Keyword.Pseudo */\n",
       ".output_html .kr { color: #008000; font-weight: bold } /* Keyword.Reserved */\n",
       ".output_html .kt { color: #B00040 } /* Keyword.Type */\n",
       ".output_html .m { color: #666666 } /* Literal.Number */\n",
       ".output_html .s { color: #BA2121 } /* Literal.String */\n",
       ".output_html .na { color: #687822 } /* Name.Attribute */\n",
       ".output_html .nb { color: #008000 } /* Name.Builtin */\n",
       ".output_html .nc { color: #0000FF; font-weight: bold } /* Name.Class */\n",
       ".output_html .no { color: #880000 } /* Name.Constant */\n",
       ".output_html .nd { color: #AA22FF } /* Name.Decorator */\n",
       ".output_html .ni { color: #717171; font-weight: bold } /* Name.Entity */\n",
       ".output_html .ne { color: #CB3F38; font-weight: bold } /* Name.Exception */\n",
       ".output_html .nf { color: #0000FF } /* Name.Function */\n",
       ".output_html .nl { color: #767600 } /* Name.Label */\n",
       ".output_html .nn { color: #0000FF; font-weight: bold } /* Name.Namespace */\n",
       ".output_html .nt { color: #008000; font-weight: bold } /* Name.Tag */\n",
       ".output_html .nv { color: #19177C } /* Name.Variable */\n",
       ".output_html .ow { color: #AA22FF; font-weight: bold } /* Operator.Word */\n",
       ".output_html .w { color: #bbbbbb } /* Text.Whitespace */\n",
       ".output_html .mb { color: #666666 } /* Literal.Number.Bin */\n",
       ".output_html .mf { color: #666666 } /* Literal.Number.Float */\n",
       ".output_html .mh { color: #666666 } /* Literal.Number.Hex */\n",
       ".output_html .mi { color: #666666 } /* Literal.Number.Integer */\n",
       ".output_html .mo { color: #666666 } /* Literal.Number.Oct */\n",
       ".output_html .sa { color: #BA2121 } /* Literal.String.Affix */\n",
       ".output_html .sb { color: #BA2121 } /* Literal.String.Backtick */\n",
       ".output_html .sc { color: #BA2121 } /* Literal.String.Char */\n",
       ".output_html .dl { color: #BA2121 } /* Literal.String.Delimiter */\n",
       ".output_html .sd { color: #BA2121; font-style: italic } /* Literal.String.Doc */\n",
       ".output_html .s2 { color: #BA2121 } /* Literal.String.Double */\n",
       ".output_html .se { color: #AA5D1F; font-weight: bold } /* Literal.String.Escape */\n",
       ".output_html .sh { color: #BA2121 } /* Literal.String.Heredoc */\n",
       ".output_html .si { color: #A45A77; font-weight: bold } /* Literal.String.Interpol */\n",
       ".output_html .sx { color: #008000 } /* Literal.String.Other */\n",
       ".output_html .sr { color: #A45A77 } /* Literal.String.Regex */\n",
       ".output_html .s1 { color: #BA2121 } /* Literal.String.Single */\n",
       ".output_html .ss { color: #19177C } /* Literal.String.Symbol */\n",
       ".output_html .bp { color: #008000 } /* Name.Builtin.Pseudo */\n",
       ".output_html .fm { color: #0000FF } /* Name.Function.Magic */\n",
       ".output_html .vc { color: #19177C } /* Name.Variable.Class */\n",
       ".output_html .vg { color: #19177C } /* Name.Variable.Global */\n",
       ".output_html .vi { color: #19177C } /* Name.Variable.Instance */\n",
       ".output_html .vm { color: #19177C } /* Name.Variable.Magic */\n",
       ".output_html .il { color: #666666 } /* Literal.Number.Integer.Long */</style><div class=\"highlight\"><pre><span></span><span class=\"c1\">// microbench.cpp:145-149 (5 lines)</span>\n",
       "<span class=\"k\">extern</span><span class=\"w\"> </span><span class=\"s\">&quot;C&quot;</span><span class=\"w\"> </span><span class=\"kt\">uint64_t</span><span class=\"w\"> </span><span class=\"o\">*</span><span class=\"n\">__attribute__</span><span class=\"w\"> </span><span class=\"p\">((</span><span class=\"n\">optimize</span><span class=\"p\">(</span><span class=\"mi\">0</span><span class=\"p\">)))</span><span class=\"w\"> </span><span class=\"n\">everything</span><span class=\"p\">(</span><span class=\"kt\">uint64_t</span><span class=\"w\"> </span><span class=\"o\">*</span><span class=\"w\"> </span><span class=\"n\">array</span><span class=\"p\">,</span><span class=\"w\"> </span><span class=\"kt\">unsigned</span><span class=\"w\"> </span><span class=\"kt\">long</span><span class=\"w\"> </span><span class=\"kt\">int</span><span class=\"w\"> </span><span class=\"n\">size</span><span class=\"p\">)</span><span class=\"w\"> </span><span class=\"p\">{</span>\n",
       "<span class=\"w\">    </span><span class=\"n\">matrix_column_major</span><span class=\"p\">(</span><span class=\"n\">array</span><span class=\"p\">,</span><span class=\"w\"> </span><span class=\"n\">size</span><span class=\"p\">);</span>\n",
       "<span class=\"w\">    </span><span class=\"n\">baseline_int</span><span class=\"p\">(</span><span class=\"n\">array</span><span class=\"p\">,</span><span class=\"n\">size</span><span class=\"p\">);</span>\n",
       "<span class=\"w\">    </span><span class=\"k\">return</span><span class=\"w\"> </span><span class=\"n\">array</span><span class=\"p\">;</span>\n",
       "<span class=\"p\">}</span>\n",
       "</pre></div>\n"
      ],
      "text/latex": [
       "\\begin{Verbatim}[commandchars=\\\\\\{\\}]\n",
       "\\PY{c+c1}{// microbench.cpp:145\\PYZhy{}149 (5 lines)}\n",
       "\\PY{k}{extern}\\PY{+w}{ }\\PY{l+s}{\\PYZdq{}}\\PY{l+s}{C}\\PY{l+s}{\\PYZdq{}}\\PY{+w}{ }\\PY{k+kt}{uint64\\PYZus{}t}\\PY{+w}{ }\\PY{o}{*}\\PY{n}{\\PYZus{}\\PYZus{}attribute\\PYZus{}\\PYZus{}}\\PY{+w}{ }\\PY{p}{(}\\PY{p}{(}\\PY{n}{optimize}\\PY{p}{(}\\PY{l+m+mi}{0}\\PY{p}{)}\\PY{p}{)}\\PY{p}{)}\\PY{+w}{ }\\PY{n}{everything}\\PY{p}{(}\\PY{k+kt}{uint64\\PYZus{}t}\\PY{+w}{ }\\PY{o}{*}\\PY{+w}{ }\\PY{n}{array}\\PY{p}{,}\\PY{+w}{ }\\PY{k+kt}{unsigned}\\PY{+w}{ }\\PY{k+kt}{long}\\PY{+w}{ }\\PY{k+kt}{int}\\PY{+w}{ }\\PY{n}{size}\\PY{p}{)}\\PY{+w}{ }\\PY{p}{\\PYZob{}}\n",
       "\\PY{+w}{    }\\PY{n}{matrix\\PYZus{}column\\PYZus{}major}\\PY{p}{(}\\PY{n}{array}\\PY{p}{,}\\PY{+w}{ }\\PY{n}{size}\\PY{p}{)}\\PY{p}{;}\n",
       "\\PY{+w}{    }\\PY{n}{baseline\\PYZus{}int}\\PY{p}{(}\\PY{n}{array}\\PY{p}{,}\\PY{n}{size}\\PY{p}{)}\\PY{p}{;}\n",
       "\\PY{+w}{    }\\PY{k}{return}\\PY{+w}{ }\\PY{n}{array}\\PY{p}{;}\n",
       "\\PY{p}{\\PYZcb{}}\n",
       "\\end{Verbatim}\n"
      ],
      "text/plain": [
       "// microbench.cpp:145-149 (5 lines)\n",
       "extern \"C\" uint64_t *__attribute__ ((optimize(0))) everything(uint64_t * array, unsigned long int size) {\n",
       "    matrix_column_major(array, size);\n",
       "    baseline_int(array,size);\n",
       "    return array;\n",
       "}"
      ]
     },
     "metadata": {},
     "output_type": "display_data"
    }
   ],
   "source": [
    "render_code(\"microbench.cpp\", show=\"everything\")"
   ]
  },
  {
   "cell_type": "code",
   "execution_count": 26,
   "metadata": {
    "deletable": false,
    "editable": false,
    "tags": []
   },
   "outputs": [
    {
     "name": "stdout",
     "output_type": "stream",
     "text": [
      "make: 'microbench.exe' is up to date.\n",
      "Execution complete\n"
     ]
    }
   ],
   "source": [
    "!make microbench.exe\n",
    "!cs203  run   './microbench.exe -o everything.csv --size 8388608 -r 25  -M 4000 -f  matrix_column_major baseline_int everything '"
   ]
  },
  {
   "cell_type": "code",
   "execution_count": 27,
   "metadata": {
    "cs203.is_response": true,
    "deletable": false,
    "tags": []
   },
   "outputs": [
    {
     "data": {
      "text/html": [
       "<style type=\"text/css\">\n",
       "#T_76a5c_row0_col0, #T_76a5c_row0_col1, #T_76a5c_row0_col2, #T_76a5c_row0_col3, #T_76a5c_row0_col4, #T_76a5c_row1_col0, #T_76a5c_row1_col1, #T_76a5c_row1_col2, #T_76a5c_row1_col3, #T_76a5c_row1_col4, #T_76a5c_row2_col0, #T_76a5c_row2_col1, #T_76a5c_row2_col2, #T_76a5c_row2_col3, #T_76a5c_row2_col4 {\n",
       "  font-family: monospace;\n",
       "}\n",
       "</style>\n",
       "<table id=\"T_76a5c\">\n",
       "  <thead>\n",
       "    <tr>\n",
       "      <th class=\"blank level0\" >&nbsp;</th>\n",
       "      <th id=\"T_76a5c_level0_col0\" class=\"col_heading level0 col0\" >function</th>\n",
       "      <th id=\"T_76a5c_level0_col1\" class=\"col_heading level0 col1\" >IC</th>\n",
       "      <th id=\"T_76a5c_level0_col2\" class=\"col_heading level0 col2\" >CPI</th>\n",
       "      <th id=\"T_76a5c_level0_col3\" class=\"col_heading level0 col3\" >CT</th>\n",
       "      <th id=\"T_76a5c_level0_col4\" class=\"col_heading level0 col4\" >ET</th>\n",
       "    </tr>\n",
       "  </thead>\n",
       "  <tbody>\n",
       "    <tr>\n",
       "      <th id=\"T_76a5c_level0_row0\" class=\"row_heading level0 row0\" >0</th>\n",
       "      <td id=\"T_76a5c_row0_col0\" class=\"data row0 col0\" >baseline_int</td>\n",
       "      <td id=\"T_76a5c_row0_col1\" class=\"data row0 col1\" >73413425.280000</td>\n",
       "      <td id=\"T_76a5c_row0_col2\" class=\"data row0 col2\" >0.229259</td>\n",
       "      <td id=\"T_76a5c_row0_col3\" class=\"data row0 col3\" >0.251226</td>\n",
       "      <td id=\"T_76a5c_row0_col4\" class=\"data row0 col4\" >0.004228</td>\n",
       "    </tr>\n",
       "    <tr>\n",
       "      <th id=\"T_76a5c_level0_row1\" class=\"row_heading level0 row1\" >1</th>\n",
       "      <td id=\"T_76a5c_row1_col0\" class=\"data row1 col0\" >everything</td>\n",
       "      <td id=\"T_76a5c_row1_col1\" class=\"data row1 col1\" >83921648.760000</td>\n",
       "      <td id=\"T_76a5c_row1_col2\" class=\"data row1 col2\" >0.467763</td>\n",
       "      <td id=\"T_76a5c_row1_col3\" class=\"data row1 col3\" >0.250750</td>\n",
       "      <td id=\"T_76a5c_row1_col4\" class=\"data row1 col4\" >0.009843</td>\n",
       "    </tr>\n",
       "    <tr>\n",
       "      <th id=\"T_76a5c_level0_row2\" class=\"row_heading level0 row2\" >2</th>\n",
       "      <td id=\"T_76a5c_row2_col0\" class=\"data row2 col0\" >matrix_column_major</td>\n",
       "      <td id=\"T_76a5c_row2_col1\" class=\"data row2 col1\" >10507906.920000</td>\n",
       "      <td id=\"T_76a5c_row2_col2\" class=\"data row2 col2\" >2.157416</td>\n",
       "      <td id=\"T_76a5c_row2_col3\" class=\"data row2 col3\" >0.250559</td>\n",
       "      <td id=\"T_76a5c_row2_col4\" class=\"data row2 col4\" >0.005680</td>\n",
       "    </tr>\n",
       "  </tbody>\n",
       "</table>\n"
      ],
      "text/plain": [
       "<pandas.io.formats.style.Styler at 0x7f7349783940>"
      ]
     },
     "metadata": {},
     "output_type": "display_data"
    }
   ],
   "source": [
    "display_mono(render_csv(\"everything.csv\", columns=[\"IC\", \"CPI\", \"CT\", \"ET\"], average_by=\"function\"))"
   ]
  },
  {
   "cell_type": "markdown",
   "metadata": {
    "deletable": false,
    "editable": false,
    "tags": []
   },
   "source": [
    "Imagine that you are a manager and your team is tasked with the improving the performance of `everything()`.  Members of your team propose two different approaches:\n",
    "\n",
    "1.  Option 1: Replacing `matrix_column_major()` with `matrix_row_major()`\n",
    "2.  Option 2: Replacing `baseline_int()` with `baseline_int_O4()`.\n",
    "\n",
    "To answer the question below you'll need to look at some csv files you created above.  For convenience, you can display them here, like so:"
   ]
  },
  {
   "cell_type": "code",
   "execution_count": 29,
   "metadata": {
    "cs203.is_response": true,
    "deletable": false,
    "editable": false,
    "tags": []
   },
   "outputs": [
    {
     "data": {
      "text/html": [
       "<style type=\"text/css\">\n",
       "#T_05db3_row0_col0, #T_05db3_row0_col1, #T_05db3_row0_col2, #T_05db3_row0_col3, #T_05db3_row0_col4, #T_05db3_row0_col5, #T_05db3_row1_col0, #T_05db3_row1_col1, #T_05db3_row1_col2, #T_05db3_row1_col3, #T_05db3_row1_col4, #T_05db3_row1_col5 {\n",
       "  font-family: monospace;\n",
       "}\n",
       "</style>\n",
       "<table id=\"T_05db3\">\n",
       "  <thead>\n",
       "    <tr>\n",
       "      <th class=\"blank level0\" >&nbsp;</th>\n",
       "      <th id=\"T_05db3_level0_col0\" class=\"col_heading level0 col0\" >function</th>\n",
       "      <th id=\"T_05db3_level0_col1\" class=\"col_heading level0 col1\" >ET</th>\n",
       "      <th id=\"T_05db3_level0_col2\" class=\"col_heading level0 col2\" >IC</th>\n",
       "      <th id=\"T_05db3_level0_col3\" class=\"col_heading level0 col3\" >CPI</th>\n",
       "      <th id=\"T_05db3_level0_col4\" class=\"col_heading level0 col4\" >MHz</th>\n",
       "      <th id=\"T_05db3_level0_col5\" class=\"col_heading level0 col5\" >CT</th>\n",
       "    </tr>\n",
       "  </thead>\n",
       "  <tbody>\n",
       "    <tr>\n",
       "      <th id=\"T_05db3_level0_row0\" class=\"row_heading level0 row0\" >0</th>\n",
       "      <td id=\"T_05db3_row0_col0\" class=\"data row0 col0\" >matrix_column_major</td>\n",
       "      <td id=\"T_05db3_row0_col1\" class=\"data row0 col1\" >0.103664</td>\n",
       "      <td id=\"T_05db3_row0_col2\" class=\"data row0 col2\" >84072972.080000</td>\n",
       "      <td id=\"T_05db3_row0_col3\" class=\"data row0 col3\" >4.920932</td>\n",
       "      <td id=\"T_05db3_row0_col4\" class=\"data row0 col4\" >3990.940772</td>\n",
       "      <td id=\"T_05db3_row0_col5\" class=\"data row0 col5\" >0.250568</td>\n",
       "    </tr>\n",
       "    <tr>\n",
       "      <th id=\"T_05db3_level0_row1\" class=\"row_heading level0 row1\" >1</th>\n",
       "      <td id=\"T_05db3_row1_col0\" class=\"data row1 col0\" >matrix_row_major</td>\n",
       "      <td id=\"T_05db3_row1_col1\" class=\"data row1 col1\" >0.005185</td>\n",
       "      <td id=\"T_05db3_row1_col2\" class=\"data row1 col2\" >67187168.280000</td>\n",
       "      <td id=\"T_05db3_row1_col3\" class=\"data row1 col3\" >0.307934</td>\n",
       "      <td id=\"T_05db3_row1_col4\" class=\"data row1 col4\" >3989.902651</td>\n",
       "      <td id=\"T_05db3_row1_col5\" class=\"data row1 col5\" >0.250633</td>\n",
       "    </tr>\n",
       "  </tbody>\n",
       "</table>\n"
      ],
      "text/plain": [
       "<pandas.io.formats.style.Styler at 0x7f734aa291f0>"
      ]
     },
     "metadata": {},
     "output_type": "display_data"
    }
   ],
   "source": [
    "display_mono(render_csv(\"matrix.csv\", columns=columns, average_by=\"function\"))"
   ]
  },
  {
   "cell_type": "markdown",
   "metadata": {
    "cs203.is_response": true,
    "cs203.points": 1,
    "cs203.question_type": "completeness",
    "deletable": false,
    "editable": false,
    "tags": []
   },
   "source": [
    "<div class=\"alert alert-block alert-success\">\n",
    "\n",
    "### Question 11 (Correctness)\n",
    "\n",
    "\n",
    "Use the speedup of `matrix_row_major` over `matrix_column_major` you calculated in Question 13. Please use Amdahl's Law to estimate the speedup of replacing  `matrix_column_major` with `matrix_row_major`. (Show your work, including the values of `x` and `S` and how you computed them.)\n",
    "\n",
    "</div>"
   ]
  },
  {
   "cell_type": "markdown",
   "metadata": {
    "cs203.is_response": true,
    "cs203.points": 1,
    "cs203.question_type": "completeness",
    "deletable": false,
    "tags": []
   },
   "source": [
    "<div class=\"alert alert-block alert-success\">\n",
    "Answer:\n",
    "    <div class=\"answer\">\n",
    "        \n",
    "**Speedup:**\n",
    "\n",
    "x = \n",
    "    \n",
    "S = (Hint: you computed this in the previous question) \n",
    "\n",
    "S_tot = \n",
    "</div>\n",
    "</div>"
   ]
  },
  {
   "cell_type": "markdown",
   "metadata": {
    "deletable": false,
    "editable": false,
    "tags": []
   },
   "source": [
    "Now, let's practice one more problem!"
   ]
  },
  {
   "cell_type": "code",
   "execution_count": null,
   "metadata": {
    "cs203.is_response": true,
    "deletable": false,
    "editable": false,
    "tags": []
   },
   "outputs": [],
   "source": [
    "display_mono(render_csv(\"opt.csv\", columns=columns, average_by=\"function\"))"
   ]
  },
  {
   "cell_type": "markdown",
   "metadata": {
    "cs203.is_response": true,
    "cs203.points": 4,
    "cs203.question_type": "correctness",
    "deletable": false,
    "editable": false,
    "tags": []
   },
   "source": [
    "<div class=\"alert alert-block alert-warning\"><div class=\"question correctness points-4\">\n",
    "\n",
    "### Question 12 (Challenging)\n",
    "\n",
    "Use the speedup of `baseline_int_O4()` over `baseline_int()` you calculated in Question 11. Please use Amdahl's Law to estimate the speedup of replacing  `baseline_int()` with `baseline_int_O4()` (Show your work, including the values of `x` and `S` and how you computed them.)\n",
    "\n",
    "</div>\n",
    "</div>\n",
    "    "
   ]
  },
  {
   "cell_type": "markdown",
   "metadata": {
    "cs203.is_response": true,
    "cs203.points": 4,
    "cs203.question_type": "correctness",
    "deletable": false,
    "editable": true
   },
   "source": [
    "<div class=\"alert alert-block alert-warning\">\n",
    "    Answer:\n",
    "<div class=\"answer\">\n",
    "\n",
    "x = \n",
    "    \n",
    "S = (Hint: you computed this in the previous question) \n",
    "\n",
    "S_tot = \n",
    "\n",
    "\n",
    "</div>\n",
    "</div>"
   ]
  },
  {
   "cell_type": "markdown",
   "metadata": {
    "deletable": false,
    "editable": false,
    "tags": []
   },
   "source": [
    "`microbench.cpp` has implementaitons of both options:"
   ]
  },
  {
   "cell_type": "code",
   "execution_count": 30,
   "metadata": {
    "deletable": false,
    "editable": false,
    "init_cell": true,
    "tags": []
   },
   "outputs": [
    {
     "data": {
      "text/html": [
       "<style>pre { line-height: 125%; }\n",
       "td.linenos .normal { color: inherit; background-color: transparent; padding-left: 5px; padding-right: 5px; }\n",
       "span.linenos { color: inherit; background-color: transparent; padding-left: 5px; padding-right: 5px; }\n",
       "td.linenos .special { color: #000000; background-color: #ffffc0; padding-left: 5px; padding-right: 5px; }\n",
       "span.linenos.special { color: #000000; background-color: #ffffc0; padding-left: 5px; padding-right: 5px; }\n",
       ".output_html .hll { background-color: #ffffcc }\n",
       ".output_html { background: #f8f8f8; }\n",
       ".output_html .c { color: #3D7B7B; font-style: italic } /* Comment */\n",
       ".output_html .err { border: 1px solid #FF0000 } /* Error */\n",
       ".output_html .k { color: #008000; font-weight: bold } /* Keyword */\n",
       ".output_html .o { color: #666666 } /* Operator */\n",
       ".output_html .ch { color: #3D7B7B; font-style: italic } /* Comment.Hashbang */\n",
       ".output_html .cm { color: #3D7B7B; font-style: italic } /* Comment.Multiline */\n",
       ".output_html .cp { color: #9C6500 } /* Comment.Preproc */\n",
       ".output_html .cpf { color: #3D7B7B; font-style: italic } /* Comment.PreprocFile */\n",
       ".output_html .c1 { color: #3D7B7B; font-style: italic } /* Comment.Single */\n",
       ".output_html .cs { color: #3D7B7B; font-style: italic } /* Comment.Special */\n",
       ".output_html .gd { color: #A00000 } /* Generic.Deleted */\n",
       ".output_html .ge { font-style: italic } /* Generic.Emph */\n",
       ".output_html .ges { font-weight: bold; font-style: italic } /* Generic.EmphStrong */\n",
       ".output_html .gr { color: #E40000 } /* Generic.Error */\n",
       ".output_html .gh { color: #000080; font-weight: bold } /* Generic.Heading */\n",
       ".output_html .gi { color: #008400 } /* Generic.Inserted */\n",
       ".output_html .go { color: #717171 } /* Generic.Output */\n",
       ".output_html .gp { color: #000080; font-weight: bold } /* Generic.Prompt */\n",
       ".output_html .gs { font-weight: bold } /* Generic.Strong */\n",
       ".output_html .gu { color: #800080; font-weight: bold } /* Generic.Subheading */\n",
       ".output_html .gt { color: #0044DD } /* Generic.Traceback */\n",
       ".output_html .kc { color: #008000; font-weight: bold } /* Keyword.Constant */\n",
       ".output_html .kd { color: #008000; font-weight: bold } /* Keyword.Declaration */\n",
       ".output_html .kn { color: #008000; font-weight: bold } /* Keyword.Namespace */\n",
       ".output_html .kp { color: #008000 } /* Keyword.Pseudo */\n",
       ".output_html .kr { color: #008000; font-weight: bold } /* Keyword.Reserved */\n",
       ".output_html .kt { color: #B00040 } /* Keyword.Type */\n",
       ".output_html .m { color: #666666 } /* Literal.Number */\n",
       ".output_html .s { color: #BA2121 } /* Literal.String */\n",
       ".output_html .na { color: #687822 } /* Name.Attribute */\n",
       ".output_html .nb { color: #008000 } /* Name.Builtin */\n",
       ".output_html .nc { color: #0000FF; font-weight: bold } /* Name.Class */\n",
       ".output_html .no { color: #880000 } /* Name.Constant */\n",
       ".output_html .nd { color: #AA22FF } /* Name.Decorator */\n",
       ".output_html .ni { color: #717171; font-weight: bold } /* Name.Entity */\n",
       ".output_html .ne { color: #CB3F38; font-weight: bold } /* Name.Exception */\n",
       ".output_html .nf { color: #0000FF } /* Name.Function */\n",
       ".output_html .nl { color: #767600 } /* Name.Label */\n",
       ".output_html .nn { color: #0000FF; font-weight: bold } /* Name.Namespace */\n",
       ".output_html .nt { color: #008000; font-weight: bold } /* Name.Tag */\n",
       ".output_html .nv { color: #19177C } /* Name.Variable */\n",
       ".output_html .ow { color: #AA22FF; font-weight: bold } /* Operator.Word */\n",
       ".output_html .w { color: #bbbbbb } /* Text.Whitespace */\n",
       ".output_html .mb { color: #666666 } /* Literal.Number.Bin */\n",
       ".output_html .mf { color: #666666 } /* Literal.Number.Float */\n",
       ".output_html .mh { color: #666666 } /* Literal.Number.Hex */\n",
       ".output_html .mi { color: #666666 } /* Literal.Number.Integer */\n",
       ".output_html .mo { color: #666666 } /* Literal.Number.Oct */\n",
       ".output_html .sa { color: #BA2121 } /* Literal.String.Affix */\n",
       ".output_html .sb { color: #BA2121 } /* Literal.String.Backtick */\n",
       ".output_html .sc { color: #BA2121 } /* Literal.String.Char */\n",
       ".output_html .dl { color: #BA2121 } /* Literal.String.Delimiter */\n",
       ".output_html .sd { color: #BA2121; font-style: italic } /* Literal.String.Doc */\n",
       ".output_html .s2 { color: #BA2121 } /* Literal.String.Double */\n",
       ".output_html .se { color: #AA5D1F; font-weight: bold } /* Literal.String.Escape */\n",
       ".output_html .sh { color: #BA2121 } /* Literal.String.Heredoc */\n",
       ".output_html .si { color: #A45A77; font-weight: bold } /* Literal.String.Interpol */\n",
       ".output_html .sx { color: #008000 } /* Literal.String.Other */\n",
       ".output_html .sr { color: #A45A77 } /* Literal.String.Regex */\n",
       ".output_html .s1 { color: #BA2121 } /* Literal.String.Single */\n",
       ".output_html .ss { color: #19177C } /* Literal.String.Symbol */\n",
       ".output_html .bp { color: #008000 } /* Name.Builtin.Pseudo */\n",
       ".output_html .fm { color: #0000FF } /* Name.Function.Magic */\n",
       ".output_html .vc { color: #19177C } /* Name.Variable.Class */\n",
       ".output_html .vg { color: #19177C } /* Name.Variable.Global */\n",
       ".output_html .vi { color: #19177C } /* Name.Variable.Instance */\n",
       ".output_html .vm { color: #19177C } /* Name.Variable.Magic */\n",
       ".output_html .il { color: #666666 } /* Literal.Number.Integer.Long */</style><div class=\"highlight\"><pre><span></span><span class=\"c1\">// microbench.cpp:157-161 (5 lines)</span>\n",
       "<span class=\"k\">extern</span><span class=\"w\"> </span><span class=\"s\">&quot;C&quot;</span><span class=\"w\"> </span><span class=\"kt\">uint64_t</span><span class=\"w\"> </span><span class=\"o\">*</span><span class=\"n\">__attribute__</span><span class=\"w\"> </span><span class=\"p\">((</span><span class=\"n\">optimize</span><span class=\"p\">(</span><span class=\"mi\">0</span><span class=\"p\">)))</span><span class=\"w\"> </span><span class=\"n\">option_1</span><span class=\"p\">(</span><span class=\"kt\">uint64_t</span><span class=\"w\"> </span><span class=\"o\">*</span><span class=\"w\"> </span><span class=\"n\">array</span><span class=\"p\">,</span><span class=\"w\"> </span><span class=\"kt\">unsigned</span><span class=\"w\"> </span><span class=\"kt\">long</span><span class=\"w\"> </span><span class=\"kt\">int</span><span class=\"w\"> </span><span class=\"n\">size</span><span class=\"p\">)</span><span class=\"w\"> </span><span class=\"p\">{</span>\n",
       "<span class=\"w\">    </span><span class=\"n\">matrix_row_major</span><span class=\"p\">(</span><span class=\"n\">array</span><span class=\"p\">,</span><span class=\"w\"> </span><span class=\"n\">size</span><span class=\"p\">);</span>\n",
       "<span class=\"w\">    </span><span class=\"n\">baseline_int</span><span class=\"p\">(</span><span class=\"n\">array</span><span class=\"p\">,</span><span class=\"n\">size</span><span class=\"p\">);</span>\n",
       "<span class=\"w\">    </span><span class=\"k\">return</span><span class=\"w\"> </span><span class=\"n\">array</span><span class=\"p\">;</span>\n",
       "<span class=\"p\">}</span>\n",
       "</pre></div>\n"
      ],
      "text/latex": [
       "\\begin{Verbatim}[commandchars=\\\\\\{\\}]\n",
       "\\PY{c+c1}{// microbench.cpp:157\\PYZhy{}161 (5 lines)}\n",
       "\\PY{k}{extern}\\PY{+w}{ }\\PY{l+s}{\\PYZdq{}}\\PY{l+s}{C}\\PY{l+s}{\\PYZdq{}}\\PY{+w}{ }\\PY{k+kt}{uint64\\PYZus{}t}\\PY{+w}{ }\\PY{o}{*}\\PY{n}{\\PYZus{}\\PYZus{}attribute\\PYZus{}\\PYZus{}}\\PY{+w}{ }\\PY{p}{(}\\PY{p}{(}\\PY{n}{optimize}\\PY{p}{(}\\PY{l+m+mi}{0}\\PY{p}{)}\\PY{p}{)}\\PY{p}{)}\\PY{+w}{ }\\PY{n}{option\\PYZus{}1}\\PY{p}{(}\\PY{k+kt}{uint64\\PYZus{}t}\\PY{+w}{ }\\PY{o}{*}\\PY{+w}{ }\\PY{n}{array}\\PY{p}{,}\\PY{+w}{ }\\PY{k+kt}{unsigned}\\PY{+w}{ }\\PY{k+kt}{long}\\PY{+w}{ }\\PY{k+kt}{int}\\PY{+w}{ }\\PY{n}{size}\\PY{p}{)}\\PY{+w}{ }\\PY{p}{\\PYZob{}}\n",
       "\\PY{+w}{    }\\PY{n}{matrix\\PYZus{}row\\PYZus{}major}\\PY{p}{(}\\PY{n}{array}\\PY{p}{,}\\PY{+w}{ }\\PY{n}{size}\\PY{p}{)}\\PY{p}{;}\n",
       "\\PY{+w}{    }\\PY{n}{baseline\\PYZus{}int}\\PY{p}{(}\\PY{n}{array}\\PY{p}{,}\\PY{n}{size}\\PY{p}{)}\\PY{p}{;}\n",
       "\\PY{+w}{    }\\PY{k}{return}\\PY{+w}{ }\\PY{n}{array}\\PY{p}{;}\n",
       "\\PY{p}{\\PYZcb{}}\n",
       "\\end{Verbatim}\n"
      ],
      "text/plain": [
       "// microbench.cpp:157-161 (5 lines)\n",
       "extern \"C\" uint64_t *__attribute__ ((optimize(0))) option_1(uint64_t * array, unsigned long int size) {\n",
       "    matrix_row_major(array, size);\n",
       "    baseline_int(array,size);\n",
       "    return array;\n",
       "}"
      ]
     },
     "metadata": {},
     "output_type": "display_data"
    },
    {
     "data": {
      "text/html": [
       "<style>pre { line-height: 125%; }\n",
       "td.linenos .normal { color: inherit; background-color: transparent; padding-left: 5px; padding-right: 5px; }\n",
       "span.linenos { color: inherit; background-color: transparent; padding-left: 5px; padding-right: 5px; }\n",
       "td.linenos .special { color: #000000; background-color: #ffffc0; padding-left: 5px; padding-right: 5px; }\n",
       "span.linenos.special { color: #000000; background-color: #ffffc0; padding-left: 5px; padding-right: 5px; }\n",
       ".output_html .hll { background-color: #ffffcc }\n",
       ".output_html { background: #f8f8f8; }\n",
       ".output_html .c { color: #3D7B7B; font-style: italic } /* Comment */\n",
       ".output_html .err { border: 1px solid #FF0000 } /* Error */\n",
       ".output_html .k { color: #008000; font-weight: bold } /* Keyword */\n",
       ".output_html .o { color: #666666 } /* Operator */\n",
       ".output_html .ch { color: #3D7B7B; font-style: italic } /* Comment.Hashbang */\n",
       ".output_html .cm { color: #3D7B7B; font-style: italic } /* Comment.Multiline */\n",
       ".output_html .cp { color: #9C6500 } /* Comment.Preproc */\n",
       ".output_html .cpf { color: #3D7B7B; font-style: italic } /* Comment.PreprocFile */\n",
       ".output_html .c1 { color: #3D7B7B; font-style: italic } /* Comment.Single */\n",
       ".output_html .cs { color: #3D7B7B; font-style: italic } /* Comment.Special */\n",
       ".output_html .gd { color: #A00000 } /* Generic.Deleted */\n",
       ".output_html .ge { font-style: italic } /* Generic.Emph */\n",
       ".output_html .ges { font-weight: bold; font-style: italic } /* Generic.EmphStrong */\n",
       ".output_html .gr { color: #E40000 } /* Generic.Error */\n",
       ".output_html .gh { color: #000080; font-weight: bold } /* Generic.Heading */\n",
       ".output_html .gi { color: #008400 } /* Generic.Inserted */\n",
       ".output_html .go { color: #717171 } /* Generic.Output */\n",
       ".output_html .gp { color: #000080; font-weight: bold } /* Generic.Prompt */\n",
       ".output_html .gs { font-weight: bold } /* Generic.Strong */\n",
       ".output_html .gu { color: #800080; font-weight: bold } /* Generic.Subheading */\n",
       ".output_html .gt { color: #0044DD } /* Generic.Traceback */\n",
       ".output_html .kc { color: #008000; font-weight: bold } /* Keyword.Constant */\n",
       ".output_html .kd { color: #008000; font-weight: bold } /* Keyword.Declaration */\n",
       ".output_html .kn { color: #008000; font-weight: bold } /* Keyword.Namespace */\n",
       ".output_html .kp { color: #008000 } /* Keyword.Pseudo */\n",
       ".output_html .kr { color: #008000; font-weight: bold } /* Keyword.Reserved */\n",
       ".output_html .kt { color: #B00040 } /* Keyword.Type */\n",
       ".output_html .m { color: #666666 } /* Literal.Number */\n",
       ".output_html .s { color: #BA2121 } /* Literal.String */\n",
       ".output_html .na { color: #687822 } /* Name.Attribute */\n",
       ".output_html .nb { color: #008000 } /* Name.Builtin */\n",
       ".output_html .nc { color: #0000FF; font-weight: bold } /* Name.Class */\n",
       ".output_html .no { color: #880000 } /* Name.Constant */\n",
       ".output_html .nd { color: #AA22FF } /* Name.Decorator */\n",
       ".output_html .ni { color: #717171; font-weight: bold } /* Name.Entity */\n",
       ".output_html .ne { color: #CB3F38; font-weight: bold } /* Name.Exception */\n",
       ".output_html .nf { color: #0000FF } /* Name.Function */\n",
       ".output_html .nl { color: #767600 } /* Name.Label */\n",
       ".output_html .nn { color: #0000FF; font-weight: bold } /* Name.Namespace */\n",
       ".output_html .nt { color: #008000; font-weight: bold } /* Name.Tag */\n",
       ".output_html .nv { color: #19177C } /* Name.Variable */\n",
       ".output_html .ow { color: #AA22FF; font-weight: bold } /* Operator.Word */\n",
       ".output_html .w { color: #bbbbbb } /* Text.Whitespace */\n",
       ".output_html .mb { color: #666666 } /* Literal.Number.Bin */\n",
       ".output_html .mf { color: #666666 } /* Literal.Number.Float */\n",
       ".output_html .mh { color: #666666 } /* Literal.Number.Hex */\n",
       ".output_html .mi { color: #666666 } /* Literal.Number.Integer */\n",
       ".output_html .mo { color: #666666 } /* Literal.Number.Oct */\n",
       ".output_html .sa { color: #BA2121 } /* Literal.String.Affix */\n",
       ".output_html .sb { color: #BA2121 } /* Literal.String.Backtick */\n",
       ".output_html .sc { color: #BA2121 } /* Literal.String.Char */\n",
       ".output_html .dl { color: #BA2121 } /* Literal.String.Delimiter */\n",
       ".output_html .sd { color: #BA2121; font-style: italic } /* Literal.String.Doc */\n",
       ".output_html .s2 { color: #BA2121 } /* Literal.String.Double */\n",
       ".output_html .se { color: #AA5D1F; font-weight: bold } /* Literal.String.Escape */\n",
       ".output_html .sh { color: #BA2121 } /* Literal.String.Heredoc */\n",
       ".output_html .si { color: #A45A77; font-weight: bold } /* Literal.String.Interpol */\n",
       ".output_html .sx { color: #008000 } /* Literal.String.Other */\n",
       ".output_html .sr { color: #A45A77 } /* Literal.String.Regex */\n",
       ".output_html .s1 { color: #BA2121 } /* Literal.String.Single */\n",
       ".output_html .ss { color: #19177C } /* Literal.String.Symbol */\n",
       ".output_html .bp { color: #008000 } /* Name.Builtin.Pseudo */\n",
       ".output_html .fm { color: #0000FF } /* Name.Function.Magic */\n",
       ".output_html .vc { color: #19177C } /* Name.Variable.Class */\n",
       ".output_html .vg { color: #19177C } /* Name.Variable.Global */\n",
       ".output_html .vi { color: #19177C } /* Name.Variable.Instance */\n",
       ".output_html .vm { color: #19177C } /* Name.Variable.Magic */\n",
       ".output_html .il { color: #666666 } /* Literal.Number.Integer.Long */</style><div class=\"highlight\"><pre><span></span><span class=\"c1\">// microbench.cpp:163-167 (5 lines)</span>\n",
       "<span class=\"k\">extern</span><span class=\"w\"> </span><span class=\"s\">&quot;C&quot;</span><span class=\"w\"> </span><span class=\"kt\">uint64_t</span><span class=\"w\"> </span><span class=\"o\">*</span><span class=\"n\">__attribute__</span><span class=\"w\"> </span><span class=\"p\">((</span><span class=\"n\">optimize</span><span class=\"p\">(</span><span class=\"mi\">0</span><span class=\"p\">)))</span><span class=\"w\"> </span><span class=\"n\">option_2</span><span class=\"p\">(</span><span class=\"kt\">uint64_t</span><span class=\"w\"> </span><span class=\"o\">*</span><span class=\"w\"> </span><span class=\"n\">array</span><span class=\"p\">,</span><span class=\"w\"> </span><span class=\"kt\">unsigned</span><span class=\"w\"> </span><span class=\"kt\">long</span><span class=\"w\"> </span><span class=\"kt\">int</span><span class=\"w\"> </span><span class=\"n\">size</span><span class=\"p\">)</span><span class=\"w\"> </span><span class=\"p\">{</span>\n",
       "<span class=\"w\">    </span><span class=\"n\">matrix_column_major</span><span class=\"p\">(</span><span class=\"n\">array</span><span class=\"p\">,</span><span class=\"w\"> </span><span class=\"n\">size</span><span class=\"p\">);</span>\n",
       "<span class=\"w\">    </span><span class=\"n\">baseline_int_O4</span><span class=\"p\">(</span><span class=\"n\">array</span><span class=\"p\">,</span><span class=\"n\">size</span><span class=\"p\">);</span>\n",
       "<span class=\"w\">    </span><span class=\"k\">return</span><span class=\"w\"> </span><span class=\"n\">array</span><span class=\"p\">;</span>\n",
       "<span class=\"p\">}</span>\n",
       "</pre></div>\n"
      ],
      "text/latex": [
       "\\begin{Verbatim}[commandchars=\\\\\\{\\}]\n",
       "\\PY{c+c1}{// microbench.cpp:163\\PYZhy{}167 (5 lines)}\n",
       "\\PY{k}{extern}\\PY{+w}{ }\\PY{l+s}{\\PYZdq{}}\\PY{l+s}{C}\\PY{l+s}{\\PYZdq{}}\\PY{+w}{ }\\PY{k+kt}{uint64\\PYZus{}t}\\PY{+w}{ }\\PY{o}{*}\\PY{n}{\\PYZus{}\\PYZus{}attribute\\PYZus{}\\PYZus{}}\\PY{+w}{ }\\PY{p}{(}\\PY{p}{(}\\PY{n}{optimize}\\PY{p}{(}\\PY{l+m+mi}{0}\\PY{p}{)}\\PY{p}{)}\\PY{p}{)}\\PY{+w}{ }\\PY{n}{option\\PYZus{}2}\\PY{p}{(}\\PY{k+kt}{uint64\\PYZus{}t}\\PY{+w}{ }\\PY{o}{*}\\PY{+w}{ }\\PY{n}{array}\\PY{p}{,}\\PY{+w}{ }\\PY{k+kt}{unsigned}\\PY{+w}{ }\\PY{k+kt}{long}\\PY{+w}{ }\\PY{k+kt}{int}\\PY{+w}{ }\\PY{n}{size}\\PY{p}{)}\\PY{+w}{ }\\PY{p}{\\PYZob{}}\n",
       "\\PY{+w}{    }\\PY{n}{matrix\\PYZus{}column\\PYZus{}major}\\PY{p}{(}\\PY{n}{array}\\PY{p}{,}\\PY{+w}{ }\\PY{n}{size}\\PY{p}{)}\\PY{p}{;}\n",
       "\\PY{+w}{    }\\PY{n}{baseline\\PYZus{}int\\PYZus{}O4}\\PY{p}{(}\\PY{n}{array}\\PY{p}{,}\\PY{n}{size}\\PY{p}{)}\\PY{p}{;}\n",
       "\\PY{+w}{    }\\PY{k}{return}\\PY{+w}{ }\\PY{n}{array}\\PY{p}{;}\n",
       "\\PY{p}{\\PYZcb{}}\n",
       "\\end{Verbatim}\n"
      ],
      "text/plain": [
       "// microbench.cpp:163-167 (5 lines)\n",
       "extern \"C\" uint64_t *__attribute__ ((optimize(0))) option_2(uint64_t * array, unsigned long int size) {\n",
       "    matrix_column_major(array, size);\n",
       "    baseline_int_O4(array,size);\n",
       "    return array;\n",
       "}"
      ]
     },
     "metadata": {},
     "output_type": "display_data"
    }
   ],
   "source": [
    "render_code(\"microbench.cpp\", show=\"option_1\")\n",
    "render_code(\"microbench.cpp\", show=\"option_2\")"
   ]
  },
  {
   "cell_type": "markdown",
   "metadata": {
    "deletable": false,
    "editable": false,
    "tags": []
   },
   "source": [
    "Let's see how they perform:"
   ]
  },
  {
   "cell_type": "code",
   "execution_count": 31,
   "metadata": {
    "deletable": false,
    "editable": false,
    "tags": []
   },
   "outputs": [
    {
     "name": "stdout",
     "output_type": "stream",
     "text": [
      "Execution complete\n"
     ]
    }
   ],
   "source": [
    "!cs203 run   './microbench.exe -o options.csv -size 8388608 -r 25  -M 4000 -f  option_1 option_2 '"
   ]
  },
  {
   "cell_type": "code",
   "execution_count": 33,
   "metadata": {
    "cs203.is_response": true,
    "deletable": false,
    "editable": false,
    "tags": []
   },
   "outputs": [
    {
     "data": {
      "text/html": [
       "<style type=\"text/css\">\n",
       "#T_01c17_row0_col0, #T_01c17_row0_col1, #T_01c17_row0_col2, #T_01c17_row0_col3, #T_01c17_row0_col4, #T_01c17_row1_col0, #T_01c17_row1_col1, #T_01c17_row1_col2, #T_01c17_row1_col3, #T_01c17_row1_col4 {\n",
       "  font-family: monospace;\n",
       "}\n",
       "</style>\n",
       "<table id=\"T_01c17\">\n",
       "  <thead>\n",
       "    <tr>\n",
       "      <th class=\"blank level0\" >&nbsp;</th>\n",
       "      <th id=\"T_01c17_level0_col0\" class=\"col_heading level0 col0\" >function</th>\n",
       "      <th id=\"T_01c17_level0_col1\" class=\"col_heading level0 col1\" >IC</th>\n",
       "      <th id=\"T_01c17_level0_col2\" class=\"col_heading level0 col2\" >CPI</th>\n",
       "      <th id=\"T_01c17_level0_col3\" class=\"col_heading level0 col3\" >CT</th>\n",
       "      <th id=\"T_01c17_level0_col4\" class=\"col_heading level0 col4\" >ET</th>\n",
       "    </tr>\n",
       "  </thead>\n",
       "  <tbody>\n",
       "    <tr>\n",
       "      <th id=\"T_01c17_level0_row0\" class=\"row_heading level0 row0\" >0</th>\n",
       "      <td id=\"T_01c17_row0_col0\" class=\"data row0 col0\" >option_1</td>\n",
       "      <td id=\"T_01c17_row0_col1\" class=\"data row0 col1\" >654455258.960000</td>\n",
       "      <td id=\"T_01c17_row0_col2\" class=\"data row0 col2\" >0.242817</td>\n",
       "      <td id=\"T_01c17_row0_col3\" class=\"data row0 col3\" >0.251210</td>\n",
       "      <td id=\"T_01c17_row0_col4\" class=\"data row0 col4\" >0.039921</td>\n",
       "    </tr>\n",
       "    <tr>\n",
       "      <th id=\"T_01c17_level0_row1\" class=\"row_heading level0 row1\" >1</th>\n",
       "      <td id=\"T_01c17_row1_col0\" class=\"data row1 col0\" >option_2</td>\n",
       "      <td id=\"T_01c17_row1_col1\" class=\"data row1 col1\" >302205812.440000</td>\n",
       "      <td id=\"T_01c17_row1_col2\" class=\"data row1 col2\" >1.639714</td>\n",
       "      <td id=\"T_01c17_row1_col3\" class=\"data row1 col3\" >0.250583</td>\n",
       "      <td id=\"T_01c17_row1_col4\" class=\"data row1 col4\" >0.124172</td>\n",
       "    </tr>\n",
       "  </tbody>\n",
       "</table>\n"
      ],
      "text/plain": [
       "<pandas.io.formats.style.Styler at 0x7f734aa291f0>"
      ]
     },
     "metadata": {},
     "output_type": "display_data"
    }
   ],
   "source": [
    "display_mono(render_csv(\"options.csv\", columns=[\"IC\", \"CPI\", \"CT\", \"ET\"], average_by=\"function\"))"
   ]
  },
  {
   "cell_type": "markdown",
   "metadata": {
    "cs203.is_response": true,
    "cs203.points": 2,
    "cs203.question_type": "correctness",
    "deletable": false,
    "editable": false,
    "tags": []
   },
   "source": [
    "<div class=\"alert alert-block alert-warning\">\n",
    " \n",
    "    \n",
    "### Question 13 (Challenging)\n",
    "\n",
    "\n",
    "What was the actual speedup for each option?  Did Amdahl's law get it right? \n",
    "\n",
    "**Option 1 speedup:**\n",
    "\n",
    "\n",
    "    \n",
    "**Option 2 speedup:**\n",
    "\n",
    "\n",
    "\n",
    "**Did Amdahl's Law get it right?:** \n",
    "</div>"
   ]
  },
  {
   "cell_type": "markdown",
   "metadata": {
    "cs203.is_response": true,
    "cs203.points": 2,
    "cs203.question_type": "correctness",
    "deletable": false,
    "editable": true
   },
   "source": [
    "<div class=\"alert alert-block alert-warning\">\n",
    "Answer:\n",
    "<div class=\"answer\">\n",
    "    \n",
    "**Option 1 speedup:**\n",
    "\n",
    "\n",
    "    \n",
    "**Option 2 speedup:**\n",
    "\n",
    "\n",
    "\n",
    "**Did Amdahl's Law get it right?:** \n",
    "\n",
    "\n",
    "    \n",
    "</div>\n",
    "</div>\n",
    "</div>\n",
    "    "
   ]
  },
  {
   "cell_type": "markdown",
   "metadata": {
    "deletable": false,
    "editable": false,
    "tags": []
   },
   "source": [
    "# Throughput and Latency"
   ]
  },
  {
   "cell_type": "markdown",
   "metadata": {
    "deletable": false,
    "editable": false,
    "tags": []
   },
   "source": [
    "Throughput and latency are two concepts that are completely different, but people often get confused. Throughput presents the \"amount of work that could be done within a given period of time\" and latency means the amount of time necessary for each instance. In this section, we will introduce another optimization of the `baseline_double()` function using NVIDIA's GPU.\n",
    "\n",
    "Before we go through the GPU/CUDA code, let's revisit the ```baseline_double``` function again."
   ]
  },
  {
   "cell_type": "code",
   "execution_count": null,
   "metadata": {
    "deletable": false,
    "editable": false,
    "tags": []
   },
   "outputs": [],
   "source": [
    "render_code(\"microbench.cpp\", show=\"baseline_double\")"
   ]
  },
  {
   "cell_type": "markdown",
   "metadata": {
    "cs203.is_response": true,
    "cs203.points": 2,
    "cs203.question_type": "correctness",
    "deletable": false,
    "editable": false,
    "tags": []
   },
   "source": [
    "<div class=\"alert alert-block alert-success\"><div class=\"question correctness points-2\">\n",
    "\n",
    "\n",
    "### Question 14 (Correctness)\n",
    "\n",
    "\n",
    "Read through the code of ```baseline_double``` function carefully, what is the total ammount of \"floating point ALU operations\" that  ```baseline_double``` function will perform when ```size``` is 8388608?\n",
    "</div>\n",
    "</div>"
   ]
  },
  {
   "cell_type": "markdown",
   "metadata": {
    "cs203.is_response": true,
    "cs203.points": 2,
    "cs203.question_type": "correctness",
    "deletable": false,
    "editable": true,
    "tags": []
   },
   "source": [
    "<div class=\"alert alert-block alert-success\">\n",
    "Answer:\n",
    "\n",
    "<div class=\"answer\">\n",
    "\n",
    "\n",
    "**What is the total amount of \"floating point ALU operations when size is 8388608**\n",
    "\n",
    "    \n",
    "</div>\n",
    "</div>\n",
    "</div>\n",
    "    "
   ]
  },
  {
   "cell_type": "markdown",
   "metadata": {
    "deletable": false,
    "editable": false,
    "tags": []
   },
   "source": [
    "Below you can compare the GPU implementation of `baseline_double()` in three functions: `baseline_double_cuda()`, `baseline_double_cuda_kernel()` and `baseline_double_cuda_init()`:"
   ]
  },
  {
   "cell_type": "code",
   "execution_count": null,
   "metadata": {
    "deletable": false,
    "editable": false,
    "tags": []
   },
   "outputs": [],
   "source": [
    "render_code(\"microbench_cuda.cu\", lang=\"c++\", show=[\"//START\",\"//END\"])"
   ]
  },
  {
   "cell_type": "markdown",
   "metadata": {
    "deletable": false,
    "editable": false,
    "tags": []
   },
   "source": [
    "Again, you don't have to understand why the CUDA code is implemented in this way since we're not a GPU programming class. But you need to believe that these three functions together would lead to the same amount of floating point computation on the GPUs as running ```baseline_double``` function on the CPU.\n",
    "\n",
    "Now, let's try to compile and run the GPU/CUDA code on our server"
   ]
  },
  {
   "cell_type": "code",
   "execution_count": null,
   "metadata": {
    "deletable": false,
    "editable": false,
    "tags": []
   },
   "outputs": [],
   "source": [
    "!rm -f build/*.o; make microbench_cuda.exe\n",
    "!cs203 run './microbench_cuda.exe -o gpu_cpu.csv -s 8388608 -r 50  -M 4000 -f baseline_double_cuda baseline_double'"
   ]
  },
  {
   "cell_type": "markdown",
   "metadata": {
    "deletable": false,
    "editable": false,
    "tags": []
   },
   "source": [
    "And render the result nicely!"
   ]
  },
  {
   "cell_type": "code",
   "execution_count": null,
   "metadata": {
    "cs203.is_response": true,
    "deletable": false,
    "editable": false,
    "tags": []
   },
   "outputs": [],
   "source": [
    "plotPEBar(\"gpu_cpu.csv\", what=[ ('function', \"IC\"), (\"function\", \"CPI\"), (\"function\", \"CT\"), (\"function\", \"ET\") ], \n",
    "          columns=4, average_by=\"function\")\n",
    "display_mono(render_csv(\"gpu_cpu.csv\", columns=[\"IC\", \"CPI\", \"CT\", \"ET\",], average_by=\"function\"))"
   ]
  },
  {
   "cell_type": "markdown",
   "metadata": {
    "deletable": false,
    "editable": false,
    "tags": []
   },
   "source": [
    "A metric that is frequently used to advertise the capability of GPUs is \"FLOPS\". FLOPS means the \"floating point operations per second\". Therefore, it fulfills the definition of **throughput**. The following questions will help us examine if FLOPS is a good performance metric."
   ]
  },
  {
   "cell_type": "markdown",
   "metadata": {
    "cs203.is_response": true,
    "cs203.points": 4,
    "cs203.question_type": "correctness",
    "deletable": false,
    "editable": false,
    "tags": []
   },
   "source": [
    "<div class=\"alert alert-block alert-success\"><div class=\"question correctness points-5\">\n",
    "\n",
    "### Question 15 (Correctness)\n",
    "\n",
    "\n",
    "Does the FLOPS reflects the performance? \n",
    "\n",
    "**How many \"FLOPS\" (floating point operations per second) of the CPU when performing `baseline_double()` function with size as 8388608? :**\n",
    "\n",
    "**How many \"FLOPS\" (floating point operations per second) of the GPU when performing `baseline_double_cuda()` function with size as 8388608? :**\n",
    "\n",
    "**Compare the ratio of FLOPS and latency of running `baseline_double()` and `baseline_double_cuda()` functions, do they match? Why and why not?**\n",
    "</div>    \n",
    "</div>"
   ]
  },
  {
   "cell_type": "markdown",
   "metadata": {
    "cs203.is_response": true,
    "cs203.points": 1,
    "cs203.question_type": "correctness",
    "deletable": false,
    "tags": []
   },
   "source": [
    "<div class=\"alert alert-block alert-success\">\n",
    "Answer:\n",
    "<div class=\"answer\">\n",
    "\n",
    "|                                 | `baseline_double()`        |`baseline_double_cuda()` | \n",
    "|---------------------------------|----------------------------|-------------------------|\n",
    "| ET |  |    |\n",
    "|floating point per second (FLOPS)|       |        |\n",
    "| Speedup | 1  |    |\n",
    "| FLOPS ratio | 1    |      |\n",
    "\n",
    "\n",
    "**Compare the ratio of FLOPS and ET/latency of running `baseline_double()` and `baseline_double_cuda()` functions, do they match? Why and why not?**\n",
    "</div>\n",
    "</div>"
   ]
  },
  {
   "cell_type": "markdown",
   "metadata": {
    "deletable": false,
    "editable": false,
    "tags": []
   },
   "source": [
    "Now, let's evaluate FLOPS with a different input size. Please run the cell below."
   ]
  },
  {
   "cell_type": "code",
   "execution_count": null,
   "metadata": {
    "deletable": false,
    "editable": false,
    "tags": []
   },
   "outputs": [],
   "source": [
    "!cs203 run   './microbench_cuda.exe -o gpu_cpu_65536.csv -s 65536 -r 50  -M 4000 -f baseline_double_cuda baseline_double'"
   ]
  },
  {
   "cell_type": "markdown",
   "metadata": {
    "deletable": false,
    "editable": false,
    "tags": []
   },
   "source": [
    "And again, plot the result nicely."
   ]
  },
  {
   "cell_type": "code",
   "execution_count": null,
   "metadata": {
    "cs203.is_response": true,
    "deletable": false,
    "editable": false,
    "tags": []
   },
   "outputs": [],
   "source": [
    "plotPEBar(\"gpu_cpu_65536.csv\", what=[ ('function', \"IC\"), (\"function\", \"CPI\"), (\"function\", \"CT\"), (\"function\", \"ET\") ], \n",
    "          columns=4, average_by=\"function\")\n",
    "display_mono(render_csv(\"gpu_cpu_65536.csv\", columns=[\"IC\", \"CPI\", \"CT\", \"ET\",], average_by=\"function\"))"
   ]
  },
  {
   "cell_type": "markdown",
   "metadata": {
    "cs203.is_response": true,
    "cs203.points": 1,
    "cs203.question_type": "correctness",
    "deletable": false,
    "editable": false,
    "tags": []
   },
   "source": [
    "<div class=\"alert alert-block alert-success\"><div class=\"question correctness points-2\">\n",
    "\n",
    "### Question 16 (Correctness)\n",
    "\n",
    "Does FLOPS reflects the latency when sizes changes?\n",
    "    \n",
    "**Compare the latency of running `baseline_double()` and `baseline_double_cuda()` with size as 65536, does FLOPS in Q19\n",
    "reflect the performance? Why or why not?**\n",
    "</div>\n",
    "</div>"
   ]
  },
  {
   "cell_type": "markdown",
   "metadata": {
    "cs203.is_response": true,
    "cs203.points": 1,
    "cs203.question_type": "correctness",
    "deletable": false,
    "editable": true,
    "tags": []
   },
   "source": [
    "<div class=\"alert alert-block alert-success\">\n",
    "Answer:\n",
    "<div class=\"answer\">\n",
    "\n",
    "\n",
    "\n",
    "**Compare the latency of running `baseline_double()` and `baseline_double_cuda()` with size as 65536, does FLOPS in Q19 reflect the performance? Why or why not?**\n",
    "</div>\n",
    "</div>"
   ]
  },
  {
   "cell_type": "markdown",
   "metadata": {
    "deletable": false,
    "editable": false,
    "tags": []
   },
   "source": [
    "# Recap\n",
    "\n",
    "This assignment has collected real data to understand the how the performance equation, the power equation, and Amdahl's law apply to some simple programs.  This exploration presented the following questions:\n",
    "\n",
    "* Why does increasing the size of array change `CPI`? And why does this change occur so quickly?\n",
    "* How can clock rate affect `CPI`?\n",
    "* How and why do the datatypes we use change `IC` and  `CPI`?\n",
    "* Why does the order in which the program performs calculations affect `CPI`?\n",
    "* What's the difference between `throughput` and `latency`?\n",
    "\n",
    "Throughout the rest of the course and the assignments, we'll find answers to most of these and see how can use those answers to make better use of modern processors."
   ]
  },
  {
   "cell_type": "markdown",
   "metadata": {
    "deletable": false,
    "editable": false,
    "tags": []
   },
   "source": [
    "# Turning In the assignment report"
   ]
  },
  {
   "cell_type": "markdown",
   "metadata": {
    "deletable": false,
    "editable": false,
    "tags": []
   },
   "source": [
    "After you complete the assignment, you will turn it in by creating a version of the notebook that only contains your answers. After verifying the generated version contains the critical parts of the assignent, you need to turn in your notebook through Gradescope. \n",
    "\n",
    "**Step 1:**  Save your workbook!!!"
   ]
  },
  {
   "cell_type": "code",
   "execution_count": null,
   "metadata": {
    "deletable": false,
    "editable": false,
    "tags": []
   },
   "outputs": [],
   "source": [
    "!for i in 1 2 3 4 5; do echo Save your notebook!; sleep 1; done"
   ]
  },
  {
   "cell_type": "markdown",
   "metadata": {
    "deletable": false,
    "editable": false,
    "tags": []
   },
   "source": [
    "**Step 2:**  Run this command:"
   ]
  },
  {
   "cell_type": "code",
   "execution_count": null,
   "metadata": {
    "deletable": false,
    "editable": false,
    "tags": []
   },
   "outputs": [],
   "source": [
    "!cs203 turnin assignment.ipynb\n",
    "!ls -lh assignment.turnin.ipynb"
   ]
  },
  {
   "cell_type": "markdown",
   "metadata": {
    "deletable": false,
    "editable": false,
    "tags": []
   },
   "source": [
    "The date in the above file listing should show that you just created `assignment.turnin.ipynb`\n",
    "\n",
    "**Step 3:**  Click on this link to open it: [./assignment.turnin.ipynb](./assignment.turnin.ipynb)\n",
    "\n",
    "\n",
    "**Step 4:**  Make sure all your answers are visible and not cut off the side of the page.\n",
    "\n",
    "\n",
    "**Step 5:**  Commit everything. Please run the following command."
   ]
  },
  {
   "cell_type": "code",
   "execution_count": null,
   "metadata": {
    "deletable": false,
    "editable": false,
    "tags": []
   },
   "outputs": [],
   "source": [
    "!git add -f assignment.turnin.ipynb\n",
    "!git commit -am \"Yay! I am ready to turn in!\"\n",
    "!git push"
   ]
  },
  {
   "cell_type": "markdown",
   "metadata": {
    "deletable": false,
    "editable": false,
    "tags": []
   },
   "source": [
    "**Step 6**: \n",
    "Submit through gradescope.\n",
    "- You'll have to submit to CS203's gradescope assignment.\n",
    "- It'll run the autograder and return the results."
   ]
  }
 ],
 "metadata": {
  "kernelspec": {
   "display_name": "Python 3 (ipykernel)",
   "language": "python",
   "name": "python3"
  },
  "language_info": {
   "codemirror_mode": {
    "name": "ipython",
    "version": 3
   },
   "file_extension": ".py",
   "mimetype": "text/x-python",
   "name": "python",
   "nbconvert_exporter": "python",
   "pygments_lexer": "ipython3",
   "version": "3.9.7"
  },
  "toc": {
   "base_numbering": 1,
   "nav_menu": {},
   "number_sections": true,
   "sideBar": true,
   "skip_h1_title": false,
   "title_cell": "Table of Contents",
   "title_sidebar": "Contents",
   "toc_cell": false,
   "toc_position": {
    "height": "calc(100% - 180px)",
    "left": "10px",
    "top": "150px",
    "width": "347.188px"
   },
   "toc_section_display": true,
   "toc_window_display": true
  },
  "toc-autonumbering": true,
  "vscode": {
   "interpreter": {
    "hash": "610c699f0cd8c4f129acd9140687fff6866bed0eb8e82f249fc8848b827b628c"
   }
  },
  "widgets": {
   "application/vnd.jupyter.widget-state+json": {
    "state": {},
    "version_major": 2,
    "version_minor": 0
   }
  }
 },
 "nbformat": 4,
 "nbformat_minor": 4
}
